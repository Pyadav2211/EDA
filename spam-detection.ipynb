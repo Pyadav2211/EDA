{
 "cells": [
  {
   "cell_type": "code",
   "execution_count": 1,
   "id": "75693804",
   "metadata": {
    "_cell_guid": "b1076dfc-b9ad-4769-8c92-a6c4dae69d19",
    "_uuid": "8f2839f25d086af736a60e9eeb907d3b93b6e0e5",
    "execution": {
     "iopub.execute_input": "2024-01-13T17:54:44.508733Z",
     "iopub.status.busy": "2024-01-13T17:54:44.508365Z",
     "iopub.status.idle": "2024-01-13T17:55:07.280779Z",
     "shell.execute_reply": "2024-01-13T17:55:07.279143Z"
    },
    "papermill": {
     "duration": 22.781269,
     "end_time": "2024-01-13T17:55:07.283258",
     "exception": false,
     "start_time": "2024-01-13T17:54:44.501989",
     "status": "completed"
    },
    "tags": []
   },
   "outputs": [
    {
     "name": "stdout",
     "output_type": "stream",
     "text": [
      "[nltk_data] Error loading stopwords: <urlopen error [Errno -3]\n",
      "[nltk_data]     Temporary failure in name resolution>\n",
      "/kaggle/input/sms-spam-collection-dataset/spam.csv\n"
     ]
    }
   ],
   "source": [
    "# This Python 3 environment comes with many helpful analytics libraries installed\n",
    "# It is defined by the kaggle/python Docker image: https://github.com/kaggle/docker-python\n",
    "# For example, here's several helpful packages to load\n",
    "\n",
    "import numpy as np # linear algebra\n",
    "import pandas as pd # data processing, CSV file I/O (e.g. pd.read_csv)\n",
    "\n",
    "# Input data files are available in the read-only \"../input/\" directory\n",
    "# For example, running this (by clicking run or pressing Shift+Enter) will list all files under the input directory\n",
    "from nltk.corpus import stopwords\n",
    "import nltk\n",
    "nltk.download('stopwords')\n",
    "\n",
    "import os\n",
    "for dirname, _, filenames in os.walk('/kaggle/input'):\n",
    "    for filename in filenames:\n",
    "        print(os.path.join(dirname, filename))\n",
    "\n",
    "# You can write up to 20GB to the current directory (/kaggle/working/) that gets preserved as output when you create a version using \"Save & Run All\" \n",
    "# You can also write temporary files to /kaggle/temp/, but they won't be saved outside of the current session"
   ]
  },
  {
   "cell_type": "code",
   "execution_count": 2,
   "id": "a14bdb7c",
   "metadata": {
    "execution": {
     "iopub.execute_input": "2024-01-13T17:55:07.294528Z",
     "iopub.status.busy": "2024-01-13T17:55:07.293931Z",
     "iopub.status.idle": "2024-01-13T17:55:07.658464Z",
     "shell.execute_reply": "2024-01-13T17:55:07.657473Z"
    },
    "papermill": {
     "duration": 0.372801,
     "end_time": "2024-01-13T17:55:07.660978",
     "exception": false,
     "start_time": "2024-01-13T17:55:07.288177",
     "status": "completed"
    },
    "tags": []
   },
   "outputs": [],
   "source": [
    "import re\n",
    "import matplotlib.pyplot as plt\n",
    "import seaborn as sns\n",
    "from sklearn.naive_bayes import MultinomialNB, BernoulliNB, GaussianNB\n",
    "from sklearn.neighbors import KNeighborsClassifier\n",
    "from sklearn.feature_extraction.text import TfidfVectorizer , ENGLISH_STOP_WORDS\n",
    "from sklearn.model_selection import train_test_split\n",
    "from sklearn.metrics import accuracy_score "
   ]
  },
  {
   "cell_type": "code",
   "execution_count": 3,
   "id": "5f801a10",
   "metadata": {
    "execution": {
     "iopub.execute_input": "2024-01-13T17:55:07.672150Z",
     "iopub.status.busy": "2024-01-13T17:55:07.671317Z",
     "iopub.status.idle": "2024-01-13T17:55:07.727020Z",
     "shell.execute_reply": "2024-01-13T17:55:07.725752Z"
    },
    "papermill": {
     "duration": 0.063769,
     "end_time": "2024-01-13T17:55:07.729505",
     "exception": false,
     "start_time": "2024-01-13T17:55:07.665736",
     "status": "completed"
    },
    "tags": []
   },
   "outputs": [
    {
     "data": {
      "text/html": [
       "<div>\n",
       "<style scoped>\n",
       "    .dataframe tbody tr th:only-of-type {\n",
       "        vertical-align: middle;\n",
       "    }\n",
       "\n",
       "    .dataframe tbody tr th {\n",
       "        vertical-align: top;\n",
       "    }\n",
       "\n",
       "    .dataframe thead th {\n",
       "        text-align: right;\n",
       "    }\n",
       "</style>\n",
       "<table border=\"1\" class=\"dataframe\">\n",
       "  <thead>\n",
       "    <tr style=\"text-align: right;\">\n",
       "      <th></th>\n",
       "      <th>v1</th>\n",
       "      <th>v2</th>\n",
       "      <th>Unnamed: 2</th>\n",
       "      <th>Unnamed: 3</th>\n",
       "      <th>Unnamed: 4</th>\n",
       "    </tr>\n",
       "  </thead>\n",
       "  <tbody>\n",
       "    <tr>\n",
       "      <th>0</th>\n",
       "      <td>ham</td>\n",
       "      <td>Go until jurong point, crazy.. Available only ...</td>\n",
       "      <td>NaN</td>\n",
       "      <td>NaN</td>\n",
       "      <td>NaN</td>\n",
       "    </tr>\n",
       "    <tr>\n",
       "      <th>1</th>\n",
       "      <td>ham</td>\n",
       "      <td>Ok lar... Joking wif u oni...</td>\n",
       "      <td>NaN</td>\n",
       "      <td>NaN</td>\n",
       "      <td>NaN</td>\n",
       "    </tr>\n",
       "    <tr>\n",
       "      <th>2</th>\n",
       "      <td>spam</td>\n",
       "      <td>Free entry in 2 a wkly comp to win FA Cup fina...</td>\n",
       "      <td>NaN</td>\n",
       "      <td>NaN</td>\n",
       "      <td>NaN</td>\n",
       "    </tr>\n",
       "    <tr>\n",
       "      <th>3</th>\n",
       "      <td>ham</td>\n",
       "      <td>U dun say so early hor... U c already then say...</td>\n",
       "      <td>NaN</td>\n",
       "      <td>NaN</td>\n",
       "      <td>NaN</td>\n",
       "    </tr>\n",
       "    <tr>\n",
       "      <th>4</th>\n",
       "      <td>ham</td>\n",
       "      <td>Nah I don't think he goes to usf, he lives aro...</td>\n",
       "      <td>NaN</td>\n",
       "      <td>NaN</td>\n",
       "      <td>NaN</td>\n",
       "    </tr>\n",
       "  </tbody>\n",
       "</table>\n",
       "</div>"
      ],
      "text/plain": [
       "     v1                                                 v2 Unnamed: 2  \\\n",
       "0   ham  Go until jurong point, crazy.. Available only ...        NaN   \n",
       "1   ham                      Ok lar... Joking wif u oni...        NaN   \n",
       "2  spam  Free entry in 2 a wkly comp to win FA Cup fina...        NaN   \n",
       "3   ham  U dun say so early hor... U c already then say...        NaN   \n",
       "4   ham  Nah I don't think he goes to usf, he lives aro...        NaN   \n",
       "\n",
       "  Unnamed: 3 Unnamed: 4  \n",
       "0        NaN        NaN  \n",
       "1        NaN        NaN  \n",
       "2        NaN        NaN  \n",
       "3        NaN        NaN  \n",
       "4        NaN        NaN  "
      ]
     },
     "execution_count": 3,
     "metadata": {},
     "output_type": "execute_result"
    }
   ],
   "source": [
    "spam = pd.read_csv('/kaggle/input/sms-spam-collection-dataset/spam.csv', encoding = 'latin-1')\n",
    "spam.head()"
   ]
  },
  {
   "cell_type": "code",
   "execution_count": 4,
   "id": "af60bed3",
   "metadata": {
    "execution": {
     "iopub.execute_input": "2024-01-13T17:55:07.740683Z",
     "iopub.status.busy": "2024-01-13T17:55:07.740317Z",
     "iopub.status.idle": "2024-01-13T17:55:07.756291Z",
     "shell.execute_reply": "2024-01-13T17:55:07.755372Z"
    },
    "papermill": {
     "duration": 0.025095,
     "end_time": "2024-01-13T17:55:07.759515",
     "exception": false,
     "start_time": "2024-01-13T17:55:07.734420",
     "status": "completed"
    },
    "tags": []
   },
   "outputs": [
    {
     "data": {
      "text/html": [
       "<div>\n",
       "<style scoped>\n",
       "    .dataframe tbody tr th:only-of-type {\n",
       "        vertical-align: middle;\n",
       "    }\n",
       "\n",
       "    .dataframe tbody tr th {\n",
       "        vertical-align: top;\n",
       "    }\n",
       "\n",
       "    .dataframe thead th {\n",
       "        text-align: right;\n",
       "    }\n",
       "</style>\n",
       "<table border=\"1\" class=\"dataframe\">\n",
       "  <thead>\n",
       "    <tr style=\"text-align: right;\">\n",
       "      <th></th>\n",
       "      <th>label</th>\n",
       "      <th>text</th>\n",
       "    </tr>\n",
       "  </thead>\n",
       "  <tbody>\n",
       "    <tr>\n",
       "      <th>0</th>\n",
       "      <td>ham</td>\n",
       "      <td>Go until jurong point, crazy.. Available only ...</td>\n",
       "    </tr>\n",
       "    <tr>\n",
       "      <th>1</th>\n",
       "      <td>ham</td>\n",
       "      <td>Ok lar... Joking wif u oni...</td>\n",
       "    </tr>\n",
       "    <tr>\n",
       "      <th>2</th>\n",
       "      <td>spam</td>\n",
       "      <td>Free entry in 2 a wkly comp to win FA Cup fina...</td>\n",
       "    </tr>\n",
       "    <tr>\n",
       "      <th>3</th>\n",
       "      <td>ham</td>\n",
       "      <td>U dun say so early hor... U c already then say...</td>\n",
       "    </tr>\n",
       "    <tr>\n",
       "      <th>4</th>\n",
       "      <td>ham</td>\n",
       "      <td>Nah I don't think he goes to usf, he lives aro...</td>\n",
       "    </tr>\n",
       "  </tbody>\n",
       "</table>\n",
       "</div>"
      ],
      "text/plain": [
       "  label                                               text\n",
       "0   ham  Go until jurong point, crazy.. Available only ...\n",
       "1   ham                      Ok lar... Joking wif u oni...\n",
       "2  spam  Free entry in 2 a wkly comp to win FA Cup fina...\n",
       "3   ham  U dun say so early hor... U c already then say...\n",
       "4   ham  Nah I don't think he goes to usf, he lives aro..."
      ]
     },
     "execution_count": 4,
     "metadata": {},
     "output_type": "execute_result"
    }
   ],
   "source": [
    "spam = spam.drop(['Unnamed: 2','Unnamed: 3','Unnamed: 4'], axis=1)\n",
    "spam.columns = [\"label\", \"text\"]\n",
    "spam.head()"
   ]
  },
  {
   "cell_type": "code",
   "execution_count": 5,
   "id": "f2f23e79",
   "metadata": {
    "execution": {
     "iopub.execute_input": "2024-01-13T17:55:07.771478Z",
     "iopub.status.busy": "2024-01-13T17:55:07.771115Z",
     "iopub.status.idle": "2024-01-13T17:55:07.995219Z",
     "shell.execute_reply": "2024-01-13T17:55:07.994335Z"
    },
    "papermill": {
     "duration": 0.232873,
     "end_time": "2024-01-13T17:55:07.997598",
     "exception": false,
     "start_time": "2024-01-13T17:55:07.764725",
     "status": "completed"
    },
    "tags": []
   },
   "outputs": [
    {
     "data": {
      "text/html": [
       "<div>\n",
       "<style scoped>\n",
       "    .dataframe tbody tr th:only-of-type {\n",
       "        vertical-align: middle;\n",
       "    }\n",
       "\n",
       "    .dataframe tbody tr th {\n",
       "        vertical-align: top;\n",
       "    }\n",
       "\n",
       "    .dataframe thead th {\n",
       "        text-align: right;\n",
       "    }\n",
       "</style>\n",
       "<table border=\"1\" class=\"dataframe\">\n",
       "  <thead>\n",
       "    <tr style=\"text-align: right;\">\n",
       "      <th></th>\n",
       "      <th>label</th>\n",
       "      <th>text</th>\n",
       "    </tr>\n",
       "  </thead>\n",
       "  <tbody>\n",
       "    <tr>\n",
       "      <th>0</th>\n",
       "      <td>ham</td>\n",
       "      <td>[go, jurong, point,, crazy.., available, bugis...</td>\n",
       "    </tr>\n",
       "    <tr>\n",
       "      <th>1</th>\n",
       "      <td>ham</td>\n",
       "      <td>[ok, lar..., joking, wif, u, oni...]</td>\n",
       "    </tr>\n",
       "    <tr>\n",
       "      <th>2</th>\n",
       "      <td>spam</td>\n",
       "      <td>[free, entry, 2, wkly, comp, win, fa, cup, fin...</td>\n",
       "    </tr>\n",
       "    <tr>\n",
       "      <th>3</th>\n",
       "      <td>ham</td>\n",
       "      <td>[u, dun, say, early, hor..., u, c, already, sa...</td>\n",
       "    </tr>\n",
       "    <tr>\n",
       "      <th>4</th>\n",
       "      <td>ham</td>\n",
       "      <td>[nah, think, goes, usf,, lives, around, though]</td>\n",
       "    </tr>\n",
       "  </tbody>\n",
       "</table>\n",
       "</div>"
      ],
      "text/plain": [
       "  label                                               text\n",
       "0   ham  [go, jurong, point,, crazy.., available, bugis...\n",
       "1   ham               [ok, lar..., joking, wif, u, oni...]\n",
       "2  spam  [free, entry, 2, wkly, comp, win, fa, cup, fin...\n",
       "3   ham  [u, dun, say, early, hor..., u, c, already, sa...\n",
       "4   ham    [nah, think, goes, usf,, lives, around, though]"
      ]
     },
     "execution_count": 5,
     "metadata": {},
     "output_type": "execute_result"
    }
   ],
   "source": [
    "sw = stopwords.words('english')\n",
    "def stopword(text):\n",
    "    txt = [word.lower() for word in text.split() if word.lower() not in sw]\n",
    "    return txt\n",
    "spam['text'] = spam['text'].apply(stopword)\n",
    "spam.head()"
   ]
  },
  {
   "cell_type": "code",
   "execution_count": 6,
   "id": "01412288",
   "metadata": {
    "execution": {
     "iopub.execute_input": "2024-01-13T17:55:08.010396Z",
     "iopub.status.busy": "2024-01-13T17:55:08.009280Z",
     "iopub.status.idle": "2024-01-13T17:55:08.793090Z",
     "shell.execute_reply": "2024-01-13T17:55:08.791917Z"
    },
    "papermill": {
     "duration": 0.792889,
     "end_time": "2024-01-13T17:55:08.795770",
     "exception": false,
     "start_time": "2024-01-13T17:55:08.002881",
     "status": "completed"
    },
    "tags": []
   },
   "outputs": [],
   "source": [
    "from nltk.stem.snowball import SnowballStemmer\n",
    "s = SnowballStemmer('english')\n",
    "def stemming(text):\n",
    "    text = [s.stem(word) for word in text if word.split()]\n",
    "    return ''.join(text)\n",
    "spam['text'] = spam['text'].apply(stemming)"
   ]
  },
  {
   "cell_type": "code",
   "execution_count": 7,
   "id": "e32ec052",
   "metadata": {
    "execution": {
     "iopub.execute_input": "2024-01-13T17:55:08.808208Z",
     "iopub.status.busy": "2024-01-13T17:55:08.807806Z",
     "iopub.status.idle": "2024-01-13T17:55:08.817831Z",
     "shell.execute_reply": "2024-01-13T17:55:08.816887Z"
    },
    "papermill": {
     "duration": 0.018558,
     "end_time": "2024-01-13T17:55:08.819946",
     "exception": false,
     "start_time": "2024-01-13T17:55:08.801388",
     "status": "completed"
    },
    "tags": []
   },
   "outputs": [
    {
     "data": {
      "text/html": [
       "<div>\n",
       "<style scoped>\n",
       "    .dataframe tbody tr th:only-of-type {\n",
       "        vertical-align: middle;\n",
       "    }\n",
       "\n",
       "    .dataframe tbody tr th {\n",
       "        vertical-align: top;\n",
       "    }\n",
       "\n",
       "    .dataframe thead th {\n",
       "        text-align: right;\n",
       "    }\n",
       "</style>\n",
       "<table border=\"1\" class=\"dataframe\">\n",
       "  <thead>\n",
       "    <tr style=\"text-align: right;\">\n",
       "      <th></th>\n",
       "      <th>label</th>\n",
       "      <th>text</th>\n",
       "    </tr>\n",
       "  </thead>\n",
       "  <tbody>\n",
       "    <tr>\n",
       "      <th>0</th>\n",
       "      <td>ham</td>\n",
       "      <td>gojurongpoint,crazy..availbugingreatworldlaebu...</td>\n",
       "    </tr>\n",
       "    <tr>\n",
       "      <th>1</th>\n",
       "      <td>ham</td>\n",
       "      <td>oklar...jokewifuoni...</td>\n",
       "    </tr>\n",
       "    <tr>\n",
       "      <th>2</th>\n",
       "      <td>spam</td>\n",
       "      <td>freeentri2wklicompwinfacupfinaltkts21stmay2005...</td>\n",
       "    </tr>\n",
       "    <tr>\n",
       "      <th>3</th>\n",
       "      <td>ham</td>\n",
       "      <td>udunsayearlihor...ucalreadisay...</td>\n",
       "    </tr>\n",
       "    <tr>\n",
       "      <th>4</th>\n",
       "      <td>ham</td>\n",
       "      <td>nahthinkgoeusf,livearoundthough</td>\n",
       "    </tr>\n",
       "  </tbody>\n",
       "</table>\n",
       "</div>"
      ],
      "text/plain": [
       "  label                                               text\n",
       "0   ham  gojurongpoint,crazy..availbugingreatworldlaebu...\n",
       "1   ham                             oklar...jokewifuoni...\n",
       "2  spam  freeentri2wklicompwinfacupfinaltkts21stmay2005...\n",
       "3   ham                  udunsayearlihor...ucalreadisay...\n",
       "4   ham                    nahthinkgoeusf,livearoundthough"
      ]
     },
     "execution_count": 7,
     "metadata": {},
     "output_type": "execute_result"
    }
   ],
   "source": [
    "spam.head()"
   ]
  },
  {
   "cell_type": "code",
   "execution_count": 8,
   "id": "80320753",
   "metadata": {
    "execution": {
     "iopub.execute_input": "2024-01-13T17:55:08.832814Z",
     "iopub.status.busy": "2024-01-13T17:55:08.832084Z",
     "iopub.status.idle": "2024-01-13T17:55:08.921451Z",
     "shell.execute_reply": "2024-01-13T17:55:08.919860Z"
    },
    "papermill": {
     "duration": 0.098633,
     "end_time": "2024-01-13T17:55:08.924038",
     "exception": false,
     "start_time": "2024-01-13T17:55:08.825405",
     "status": "completed"
    },
    "tags": []
   },
   "outputs": [
    {
     "name": "stdout",
     "output_type": "stream",
     "text": [
      "Type : <class 'scipy.sparse._csr.csr_matrix'>, Matrix at 0 :   (0, 1827)\t0.5056391989470028\n",
      "  (0, 1030)\t0.5056391989470028\n",
      "  (0, 2166)\t0.48268727087494234\n",
      "  (0, 3635)\t0.5056391989470028, shape : (5572, 12124)\n"
     ]
    }
   ],
   "source": [
    "from sklearn.feature_extraction.text import TfidfVectorizer\n",
    "tfid_vect = TfidfVectorizer()\n",
    "tfid_matrix = tfid_vect.fit_transform(spam['text'])\n",
    "print(f'Type : {type(tfid_matrix)}, Matrix at 0 : {tfid_matrix[0]}, shape : {tfid_matrix.shape}')"
   ]
  },
  {
   "cell_type": "code",
   "execution_count": 9,
   "id": "7c887930",
   "metadata": {
    "execution": {
     "iopub.execute_input": "2024-01-13T17:55:08.937841Z",
     "iopub.status.busy": "2024-01-13T17:55:08.937402Z",
     "iopub.status.idle": "2024-01-13T17:55:09.045288Z",
     "shell.execute_reply": "2024-01-13T17:55:09.043854Z"
    },
    "papermill": {
     "duration": 0.118121,
     "end_time": "2024-01-13T17:55:09.048489",
     "exception": false,
     "start_time": "2024-01-13T17:55:08.930368",
     "status": "completed"
    },
    "tags": []
   },
   "outputs": [],
   "source": [
    "array = tfid_matrix.todense()"
   ]
  },
  {
   "cell_type": "code",
   "execution_count": 10,
   "id": "daa68890",
   "metadata": {
    "execution": {
     "iopub.execute_input": "2024-01-13T17:55:09.062058Z",
     "iopub.status.busy": "2024-01-13T17:55:09.061540Z",
     "iopub.status.idle": "2024-01-13T17:55:09.096833Z",
     "shell.execute_reply": "2024-01-13T17:55:09.096086Z"
    },
    "papermill": {
     "duration": 0.044954,
     "end_time": "2024-01-13T17:55:09.099234",
     "exception": false,
     "start_time": "2024-01-13T17:55:09.054280",
     "status": "completed"
    },
    "tags": []
   },
   "outputs": [
    {
     "data": {
      "text/html": [
       "<div>\n",
       "<style scoped>\n",
       "    .dataframe tbody tr th:only-of-type {\n",
       "        vertical-align: middle;\n",
       "    }\n",
       "\n",
       "    .dataframe tbody tr th {\n",
       "        vertical-align: top;\n",
       "    }\n",
       "\n",
       "    .dataframe thead th {\n",
       "        text-align: right;\n",
       "    }\n",
       "</style>\n",
       "<table border=\"1\" class=\"dataframe\">\n",
       "  <thead>\n",
       "    <tr style=\"text-align: right;\">\n",
       "      <th></th>\n",
       "      <th>0</th>\n",
       "      <th>1</th>\n",
       "      <th>2</th>\n",
       "      <th>3</th>\n",
       "      <th>4</th>\n",
       "      <th>5</th>\n",
       "      <th>6</th>\n",
       "      <th>7</th>\n",
       "      <th>8</th>\n",
       "      <th>9</th>\n",
       "      <th>...</th>\n",
       "      <th>12114</th>\n",
       "      <th>12115</th>\n",
       "      <th>12116</th>\n",
       "      <th>12117</th>\n",
       "      <th>12118</th>\n",
       "      <th>12119</th>\n",
       "      <th>12120</th>\n",
       "      <th>12121</th>\n",
       "      <th>12122</th>\n",
       "      <th>12123</th>\n",
       "    </tr>\n",
       "  </thead>\n",
       "  <tbody>\n",
       "    <tr>\n",
       "      <th>12</th>\n",
       "      <td>0.0</td>\n",
       "      <td>0.0</td>\n",
       "      <td>0.0</td>\n",
       "      <td>0.0</td>\n",
       "      <td>0.0</td>\n",
       "      <td>0.0</td>\n",
       "      <td>0.0</td>\n",
       "      <td>0.0</td>\n",
       "      <td>0.0</td>\n",
       "      <td>0.0</td>\n",
       "      <td>...</td>\n",
       "      <td>0.0</td>\n",
       "      <td>0.0</td>\n",
       "      <td>0.0</td>\n",
       "      <td>0.0</td>\n",
       "      <td>0.0</td>\n",
       "      <td>0.0</td>\n",
       "      <td>0.0</td>\n",
       "      <td>0.0</td>\n",
       "      <td>0.0</td>\n",
       "      <td>0.0</td>\n",
       "    </tr>\n",
       "    <tr>\n",
       "      <th>5285</th>\n",
       "      <td>0.0</td>\n",
       "      <td>0.0</td>\n",
       "      <td>0.0</td>\n",
       "      <td>0.0</td>\n",
       "      <td>0.0</td>\n",
       "      <td>0.0</td>\n",
       "      <td>0.0</td>\n",
       "      <td>0.0</td>\n",
       "      <td>0.0</td>\n",
       "      <td>0.0</td>\n",
       "      <td>...</td>\n",
       "      <td>0.0</td>\n",
       "      <td>0.0</td>\n",
       "      <td>0.0</td>\n",
       "      <td>0.0</td>\n",
       "      <td>0.0</td>\n",
       "      <td>0.0</td>\n",
       "      <td>0.0</td>\n",
       "      <td>0.0</td>\n",
       "      <td>0.0</td>\n",
       "      <td>0.0</td>\n",
       "    </tr>\n",
       "  </tbody>\n",
       "</table>\n",
       "<p>2 rows × 12124 columns</p>\n",
       "</div>"
      ],
      "text/plain": [
       "      0      1      2      3      4      5      6      7      8      9      \\\n",
       "12      0.0    0.0    0.0    0.0    0.0    0.0    0.0    0.0    0.0    0.0   \n",
       "5285    0.0    0.0    0.0    0.0    0.0    0.0    0.0    0.0    0.0    0.0   \n",
       "\n",
       "      ...  12114  12115  12116  12117  12118  12119  12120  12121  12122  \\\n",
       "12    ...    0.0    0.0    0.0    0.0    0.0    0.0    0.0    0.0    0.0   \n",
       "5285  ...    0.0    0.0    0.0    0.0    0.0    0.0    0.0    0.0    0.0   \n",
       "\n",
       "      12123  \n",
       "12      0.0  \n",
       "5285    0.0  \n",
       "\n",
       "[2 rows x 12124 columns]"
      ]
     },
     "execution_count": 10,
     "metadata": {},
     "output_type": "execute_result"
    }
   ],
   "source": [
    "df = pd.DataFrame(array)\n",
    "df[df[10] != 0].head()"
   ]
  },
  {
   "cell_type": "code",
   "execution_count": 11,
   "id": "b32590b9",
   "metadata": {
    "execution": {
     "iopub.execute_input": "2024-01-13T17:55:09.111953Z",
     "iopub.status.busy": "2024-01-13T17:55:09.111579Z",
     "iopub.status.idle": "2024-01-13T17:55:09.120546Z",
     "shell.execute_reply": "2024-01-13T17:55:09.119600Z"
    },
    "papermill": {
     "duration": 0.018048,
     "end_time": "2024-01-13T17:55:09.122964",
     "exception": false,
     "start_time": "2024-01-13T17:55:09.104916",
     "status": "completed"
    },
    "tags": []
   },
   "outputs": [],
   "source": [
    "df['label'] = spam['label']"
   ]
  },
  {
   "cell_type": "code",
   "execution_count": 12,
   "id": "1cc95093",
   "metadata": {
    "execution": {
     "iopub.execute_input": "2024-01-13T17:55:09.136358Z",
     "iopub.status.busy": "2024-01-13T17:55:09.135984Z",
     "iopub.status.idle": "2024-01-13T17:55:09.166850Z",
     "shell.execute_reply": "2024-01-13T17:55:09.165764Z"
    },
    "papermill": {
     "duration": 0.040361,
     "end_time": "2024-01-13T17:55:09.169200",
     "exception": false,
     "start_time": "2024-01-13T17:55:09.128839",
     "status": "completed"
    },
    "tags": []
   },
   "outputs": [
    {
     "data": {
      "text/html": [
       "<div>\n",
       "<style scoped>\n",
       "    .dataframe tbody tr th:only-of-type {\n",
       "        vertical-align: middle;\n",
       "    }\n",
       "\n",
       "    .dataframe tbody tr th {\n",
       "        vertical-align: top;\n",
       "    }\n",
       "\n",
       "    .dataframe thead th {\n",
       "        text-align: right;\n",
       "    }\n",
       "</style>\n",
       "<table border=\"1\" class=\"dataframe\">\n",
       "  <thead>\n",
       "    <tr style=\"text-align: right;\">\n",
       "      <th></th>\n",
       "      <th>0</th>\n",
       "      <th>1</th>\n",
       "      <th>2</th>\n",
       "      <th>3</th>\n",
       "      <th>4</th>\n",
       "      <th>5</th>\n",
       "      <th>6</th>\n",
       "      <th>7</th>\n",
       "      <th>8</th>\n",
       "      <th>9</th>\n",
       "      <th>...</th>\n",
       "      <th>12115</th>\n",
       "      <th>12116</th>\n",
       "      <th>12117</th>\n",
       "      <th>12118</th>\n",
       "      <th>12119</th>\n",
       "      <th>12120</th>\n",
       "      <th>12121</th>\n",
       "      <th>12122</th>\n",
       "      <th>12123</th>\n",
       "      <th>label</th>\n",
       "    </tr>\n",
       "  </thead>\n",
       "  <tbody>\n",
       "    <tr>\n",
       "      <th>0</th>\n",
       "      <td>0.0</td>\n",
       "      <td>0.0</td>\n",
       "      <td>0.0</td>\n",
       "      <td>0.0</td>\n",
       "      <td>0.0</td>\n",
       "      <td>0.0</td>\n",
       "      <td>0.0</td>\n",
       "      <td>0.0</td>\n",
       "      <td>0.0</td>\n",
       "      <td>0.0</td>\n",
       "      <td>...</td>\n",
       "      <td>0.0</td>\n",
       "      <td>0.0</td>\n",
       "      <td>0.0</td>\n",
       "      <td>0.0</td>\n",
       "      <td>0.0</td>\n",
       "      <td>0.0</td>\n",
       "      <td>0.0</td>\n",
       "      <td>0.0</td>\n",
       "      <td>0.0</td>\n",
       "      <td>ham</td>\n",
       "    </tr>\n",
       "    <tr>\n",
       "      <th>1</th>\n",
       "      <td>0.0</td>\n",
       "      <td>0.0</td>\n",
       "      <td>0.0</td>\n",
       "      <td>0.0</td>\n",
       "      <td>0.0</td>\n",
       "      <td>0.0</td>\n",
       "      <td>0.0</td>\n",
       "      <td>0.0</td>\n",
       "      <td>0.0</td>\n",
       "      <td>0.0</td>\n",
       "      <td>...</td>\n",
       "      <td>0.0</td>\n",
       "      <td>0.0</td>\n",
       "      <td>0.0</td>\n",
       "      <td>0.0</td>\n",
       "      <td>0.0</td>\n",
       "      <td>0.0</td>\n",
       "      <td>0.0</td>\n",
       "      <td>0.0</td>\n",
       "      <td>0.0</td>\n",
       "      <td>ham</td>\n",
       "    </tr>\n",
       "    <tr>\n",
       "      <th>2</th>\n",
       "      <td>0.0</td>\n",
       "      <td>0.0</td>\n",
       "      <td>0.0</td>\n",
       "      <td>0.0</td>\n",
       "      <td>0.0</td>\n",
       "      <td>0.0</td>\n",
       "      <td>0.0</td>\n",
       "      <td>0.0</td>\n",
       "      <td>0.0</td>\n",
       "      <td>0.0</td>\n",
       "      <td>...</td>\n",
       "      <td>0.0</td>\n",
       "      <td>0.0</td>\n",
       "      <td>0.0</td>\n",
       "      <td>0.0</td>\n",
       "      <td>0.0</td>\n",
       "      <td>0.0</td>\n",
       "      <td>0.0</td>\n",
       "      <td>0.0</td>\n",
       "      <td>0.0</td>\n",
       "      <td>spam</td>\n",
       "    </tr>\n",
       "    <tr>\n",
       "      <th>3</th>\n",
       "      <td>0.0</td>\n",
       "      <td>0.0</td>\n",
       "      <td>0.0</td>\n",
       "      <td>0.0</td>\n",
       "      <td>0.0</td>\n",
       "      <td>0.0</td>\n",
       "      <td>0.0</td>\n",
       "      <td>0.0</td>\n",
       "      <td>0.0</td>\n",
       "      <td>0.0</td>\n",
       "      <td>...</td>\n",
       "      <td>0.0</td>\n",
       "      <td>0.0</td>\n",
       "      <td>0.0</td>\n",
       "      <td>0.0</td>\n",
       "      <td>0.0</td>\n",
       "      <td>0.0</td>\n",
       "      <td>0.0</td>\n",
       "      <td>0.0</td>\n",
       "      <td>0.0</td>\n",
       "      <td>ham</td>\n",
       "    </tr>\n",
       "    <tr>\n",
       "      <th>4</th>\n",
       "      <td>0.0</td>\n",
       "      <td>0.0</td>\n",
       "      <td>0.0</td>\n",
       "      <td>0.0</td>\n",
       "      <td>0.0</td>\n",
       "      <td>0.0</td>\n",
       "      <td>0.0</td>\n",
       "      <td>0.0</td>\n",
       "      <td>0.0</td>\n",
       "      <td>0.0</td>\n",
       "      <td>...</td>\n",
       "      <td>0.0</td>\n",
       "      <td>0.0</td>\n",
       "      <td>0.0</td>\n",
       "      <td>0.0</td>\n",
       "      <td>0.0</td>\n",
       "      <td>0.0</td>\n",
       "      <td>0.0</td>\n",
       "      <td>0.0</td>\n",
       "      <td>0.0</td>\n",
       "      <td>ham</td>\n",
       "    </tr>\n",
       "  </tbody>\n",
       "</table>\n",
       "<p>5 rows × 12125 columns</p>\n",
       "</div>"
      ],
      "text/plain": [
       "     0    1    2    3    4    5    6    7    8    9  ...  12115  12116  12117  \\\n",
       "0  0.0  0.0  0.0  0.0  0.0  0.0  0.0  0.0  0.0  0.0  ...    0.0    0.0    0.0   \n",
       "1  0.0  0.0  0.0  0.0  0.0  0.0  0.0  0.0  0.0  0.0  ...    0.0    0.0    0.0   \n",
       "2  0.0  0.0  0.0  0.0  0.0  0.0  0.0  0.0  0.0  0.0  ...    0.0    0.0    0.0   \n",
       "3  0.0  0.0  0.0  0.0  0.0  0.0  0.0  0.0  0.0  0.0  ...    0.0    0.0    0.0   \n",
       "4  0.0  0.0  0.0  0.0  0.0  0.0  0.0  0.0  0.0  0.0  ...    0.0    0.0    0.0   \n",
       "\n",
       "   12118  12119  12120  12121  12122  12123  label  \n",
       "0    0.0    0.0    0.0    0.0    0.0    0.0    ham  \n",
       "1    0.0    0.0    0.0    0.0    0.0    0.0    ham  \n",
       "2    0.0    0.0    0.0    0.0    0.0    0.0   spam  \n",
       "3    0.0    0.0    0.0    0.0    0.0    0.0    ham  \n",
       "4    0.0    0.0    0.0    0.0    0.0    0.0    ham  \n",
       "\n",
       "[5 rows x 12125 columns]"
      ]
     },
     "execution_count": 12,
     "metadata": {},
     "output_type": "execute_result"
    }
   ],
   "source": [
    "df.head()"
   ]
  },
  {
   "cell_type": "code",
   "execution_count": 13,
   "id": "5ed0a954",
   "metadata": {
    "execution": {
     "iopub.execute_input": "2024-01-13T17:55:09.182900Z",
     "iopub.status.busy": "2024-01-13T17:55:09.182550Z",
     "iopub.status.idle": "2024-01-13T17:55:09.804139Z",
     "shell.execute_reply": "2024-01-13T17:55:09.802822Z"
    },
    "papermill": {
     "duration": 0.631379,
     "end_time": "2024-01-13T17:55:09.806720",
     "exception": false,
     "start_time": "2024-01-13T17:55:09.175341",
     "status": "completed"
    },
    "tags": []
   },
   "outputs": [
    {
     "name": "stdout",
     "output_type": "stream",
     "text": [
      "X train shape : (3900, 12124)\n",
      "Y train shape : (3900,)\n",
      "X test shape : (1672, 12124)\n",
      "Y test shape : (1672,)\n"
     ]
    }
   ],
   "source": [
    "from sklearn.model_selection import train_test_split\n",
    "features = df.drop('label', axis=1)\n",
    "label = df['label']\n",
    "\n",
    "x_train, x_test, y_train, y_test = train_test_split(features, label, test_size=0.3)\n",
    "print(f'X train shape : {x_train.shape}\\nY train shape : {y_train.shape}\\nX test shape : {x_test.shape}\\nY test shape : {y_test.shape}')"
   ]
  },
  {
   "cell_type": "code",
   "execution_count": 14,
   "id": "a654ca2a",
   "metadata": {
    "execution": {
     "iopub.execute_input": "2024-01-13T17:55:09.820822Z",
     "iopub.status.busy": "2024-01-13T17:55:09.820397Z",
     "iopub.status.idle": "2024-01-13T17:55:09.828261Z",
     "shell.execute_reply": "2024-01-13T17:55:09.827153Z"
    },
    "papermill": {
     "duration": 0.017744,
     "end_time": "2024-01-13T17:55:09.830734",
     "exception": false,
     "start_time": "2024-01-13T17:55:09.812990",
     "status": "completed"
    },
    "tags": []
   },
   "outputs": [],
   "source": [
    "from sklearn.pipeline import Pipeline"
   ]
  },
  {
   "cell_type": "code",
   "execution_count": 15,
   "id": "0be1c892",
   "metadata": {
    "execution": {
     "iopub.execute_input": "2024-01-13T17:55:09.845059Z",
     "iopub.status.busy": "2024-01-13T17:55:09.844656Z",
     "iopub.status.idle": "2024-01-13T17:55:09.850058Z",
     "shell.execute_reply": "2024-01-13T17:55:09.848905Z"
    },
    "papermill": {
     "duration": 0.015095,
     "end_time": "2024-01-13T17:55:09.852039",
     "exception": false,
     "start_time": "2024-01-13T17:55:09.836944",
     "status": "completed"
    },
    "tags": []
   },
   "outputs": [],
   "source": [
    "ber_pipe = Pipeline(steps = [('ber_model', BernoulliNB())])\n",
    "multi_pipe = Pipeline(steps = [('multi_model', MultinomialNB())])\n",
    "gauss_pipe = Pipeline(steps = [('gauss_model', GaussianNB())])"
   ]
  },
  {
   "cell_type": "code",
   "execution_count": 16,
   "id": "0ef5a696",
   "metadata": {
    "execution": {
     "iopub.execute_input": "2024-01-13T17:55:09.866538Z",
     "iopub.status.busy": "2024-01-13T17:55:09.865950Z",
     "iopub.status.idle": "2024-01-13T17:55:12.411812Z",
     "shell.execute_reply": "2024-01-13T17:55:12.411046Z"
    },
    "papermill": {
     "duration": 2.555766,
     "end_time": "2024-01-13T17:55:12.414091",
     "exception": false,
     "start_time": "2024-01-13T17:55:09.858325",
     "status": "completed"
    },
    "tags": []
   },
   "outputs": [
    {
     "name": "stdout",
     "output_type": "stream",
     "text": [
      "Accuracy Score of BernoulliNB() : 0.8744019138755981\n",
      "Accuracy Score of MultinomialNB() : 0.9001196172248804\n",
      "Accuracy Score of GaussianNB() : 0.46710526315789475\n"
     ]
    }
   ],
   "source": [
    "def model_evaluation(model):\n",
    "    model.fit(x_train, y_train)\n",
    "    y_pred_model = model.predict(x_test)\n",
    "    acc_score = accuracy_score(y_test, y_pred_model)\n",
    "    print(f'Accuracy Score of {model[0]} : {acc_score}')\n",
    "    \n",
    "model_evaluation(ber_pipe)\n",
    "model_evaluation(multi_pipe)\n",
    "model_evaluation(gauss_pipe)"
   ]
  },
  {
   "cell_type": "markdown",
   "id": "96f90702",
   "metadata": {
    "papermill": {
     "duration": 0.006014,
     "end_time": "2024-01-13T17:55:12.426575",
     "exception": false,
     "start_time": "2024-01-13T17:55:12.420561",
     "status": "completed"
    },
    "tags": []
   },
   "source": [
    "**Multinomial NB is performing better than other models.**"
   ]
  }
 ],
 "metadata": {
  "kaggle": {
   "accelerator": "none",
   "dataSources": [
    {
     "datasetId": 483,
     "sourceId": 982,
     "sourceType": "datasetVersion"
    }
   ],
   "dockerImageVersionId": 30626,
   "isGpuEnabled": false,
   "isInternetEnabled": false,
   "language": "python",
   "sourceType": "notebook"
  },
  "kernelspec": {
   "display_name": "Python 3",
   "language": "python",
   "name": "python3"
  },
  "language_info": {
   "codemirror_mode": {
    "name": "ipython",
    "version": 3
   },
   "file_extension": ".py",
   "mimetype": "text/x-python",
   "name": "python",
   "nbconvert_exporter": "python",
   "pygments_lexer": "ipython3",
   "version": "3.10.12"
  },
  "papermill": {
   "default_parameters": {},
   "duration": 31.868515,
   "end_time": "2024-01-13T17:55:13.052354",
   "environment_variables": {},
   "exception": null,
   "input_path": "__notebook__.ipynb",
   "output_path": "__notebook__.ipynb",
   "parameters": {},
   "start_time": "2024-01-13T17:54:41.183839",
   "version": "2.4.0"
  }
 },
 "nbformat": 4,
 "nbformat_minor": 5
}
