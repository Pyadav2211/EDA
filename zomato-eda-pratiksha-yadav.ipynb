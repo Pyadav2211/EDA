{
 "cells": [
  {
   "cell_type": "code",
   "execution_count": null,
   "id": "e95ac910",
   "metadata": {
    "papermill": {
     "duration": 0.036885,
     "end_time": "2023-11-18T09:50:24.007488",
     "exception": false,
     "start_time": "2023-11-18T09:50:23.970603",
     "status": "completed"
    },
    "tags": []
   },
   "outputs": [],
   "source": []
  },
  {
   "cell_type": "markdown",
   "id": "131d8308",
   "metadata": {
    "_cell_guid": "b1076dfc-b9ad-4769-8c92-a6c4dae69d19",
    "_uuid": "8f2839f25d086af736a60e9eeb907d3b93b6e0e5",
    "papermill": {
     "duration": 0.036361,
     "end_time": "2023-11-18T09:50:24.082490",
     "exception": false,
     "start_time": "2023-11-18T09:50:24.046129",
     "status": "completed"
    },
    "tags": []
   },
   "source": [
    "**Name : Pratiksha Yadav**\n",
    "\n",
    "**Dataset : Zomato_EDA**"
   ]
  },
  {
   "cell_type": "code",
   "execution_count": 1,
   "id": "8c52c7f6",
   "metadata": {
    "execution": {
     "iopub.execute_input": "2023-11-18T09:50:24.158444Z",
     "iopub.status.busy": "2023-11-18T09:50:24.157892Z",
     "iopub.status.idle": "2023-11-18T09:50:24.594187Z",
     "shell.execute_reply": "2023-11-18T09:50:24.593287Z"
    },
    "papermill": {
     "duration": 0.476465,
     "end_time": "2023-11-18T09:50:24.596396",
     "exception": false,
     "start_time": "2023-11-18T09:50:24.119931",
     "status": "completed"
    },
    "tags": []
   },
   "outputs": [
    {
     "name": "stdout",
     "output_type": "stream",
     "text": [
      "/kaggle/input/zomato-eda/zomato.csv\n"
     ]
    }
   ],
   "source": [
    "import numpy as np # linear algebra\n",
    "import pandas as pd # data processing, CSV file I/O (e.g. pd.read_csv)\n",
    "import os\n",
    "for dirname, _, filenames in os.walk('/kaggle/input'):\n",
    "    for filename in filenames:\n",
    "        print(os.path.join(dirname, filename))"
   ]
  },
  {
   "cell_type": "markdown",
   "id": "85dbce69",
   "metadata": {
    "papermill": {
     "duration": 0.098852,
     "end_time": "2023-11-18T09:50:24.732566",
     "exception": false,
     "start_time": "2023-11-18T09:50:24.633714",
     "status": "completed"
    },
    "tags": []
   },
   "source": [
    "Read csv"
   ]
  },
  {
   "cell_type": "code",
   "execution_count": 2,
   "id": "6d78cdf0",
   "metadata": {
    "execution": {
     "iopub.execute_input": "2023-11-18T09:50:24.808785Z",
     "iopub.status.busy": "2023-11-18T09:50:24.808266Z",
     "iopub.status.idle": "2023-11-18T09:50:36.396530Z",
     "shell.execute_reply": "2023-11-18T09:50:36.395311Z"
    },
    "papermill": {
     "duration": 11.629576,
     "end_time": "2023-11-18T09:50:36.399236",
     "exception": false,
     "start_time": "2023-11-18T09:50:24.769660",
     "status": "completed"
    },
    "tags": []
   },
   "outputs": [
    {
     "data": {
      "text/html": [
       "<div>\n",
       "<style scoped>\n",
       "    .dataframe tbody tr th:only-of-type {\n",
       "        vertical-align: middle;\n",
       "    }\n",
       "\n",
       "    .dataframe tbody tr th {\n",
       "        vertical-align: top;\n",
       "    }\n",
       "\n",
       "    .dataframe thead th {\n",
       "        text-align: right;\n",
       "    }\n",
       "</style>\n",
       "<table border=\"1\" class=\"dataframe\">\n",
       "  <thead>\n",
       "    <tr style=\"text-align: right;\">\n",
       "      <th></th>\n",
       "      <th>url</th>\n",
       "      <th>address</th>\n",
       "      <th>name</th>\n",
       "      <th>online_order</th>\n",
       "      <th>book_table</th>\n",
       "      <th>rate</th>\n",
       "      <th>votes</th>\n",
       "      <th>phone</th>\n",
       "      <th>location</th>\n",
       "      <th>rest_type</th>\n",
       "      <th>dish_liked</th>\n",
       "      <th>cuisines</th>\n",
       "      <th>approx_cost(for two people)</th>\n",
       "      <th>reviews_list</th>\n",
       "      <th>menu_item</th>\n",
       "      <th>listed_in(type)</th>\n",
       "      <th>listed_in(city)</th>\n",
       "    </tr>\n",
       "  </thead>\n",
       "  <tbody>\n",
       "    <tr>\n",
       "      <th>0</th>\n",
       "      <td>https://www.zomato.com/bangalore/jalsa-banasha...</td>\n",
       "      <td>942, 21st Main Road, 2nd Stage, Banashankari, ...</td>\n",
       "      <td>Jalsa</td>\n",
       "      <td>Yes</td>\n",
       "      <td>Yes</td>\n",
       "      <td>4.1/5</td>\n",
       "      <td>775</td>\n",
       "      <td>080 42297555\\r\\n+91 9743772233</td>\n",
       "      <td>Banashankari</td>\n",
       "      <td>Casual Dining</td>\n",
       "      <td>Pasta, Lunch Buffet, Masala Papad, Paneer Laja...</td>\n",
       "      <td>North Indian, Mughlai, Chinese</td>\n",
       "      <td>800</td>\n",
       "      <td>[('Rated 4.0', 'RATED\\n  A beautiful place to ...</td>\n",
       "      <td>[]</td>\n",
       "      <td>Buffet</td>\n",
       "      <td>Banashankari</td>\n",
       "    </tr>\n",
       "    <tr>\n",
       "      <th>1</th>\n",
       "      <td>https://www.zomato.com/bangalore/spice-elephan...</td>\n",
       "      <td>2nd Floor, 80 Feet Road, Near Big Bazaar, 6th ...</td>\n",
       "      <td>Spice Elephant</td>\n",
       "      <td>Yes</td>\n",
       "      <td>No</td>\n",
       "      <td>4.1/5</td>\n",
       "      <td>787</td>\n",
       "      <td>080 41714161</td>\n",
       "      <td>Banashankari</td>\n",
       "      <td>Casual Dining</td>\n",
       "      <td>Momos, Lunch Buffet, Chocolate Nirvana, Thai G...</td>\n",
       "      <td>Chinese, North Indian, Thai</td>\n",
       "      <td>800</td>\n",
       "      <td>[('Rated 4.0', 'RATED\\n  Had been here for din...</td>\n",
       "      <td>[]</td>\n",
       "      <td>Buffet</td>\n",
       "      <td>Banashankari</td>\n",
       "    </tr>\n",
       "    <tr>\n",
       "      <th>2</th>\n",
       "      <td>https://www.zomato.com/SanchurroBangalore?cont...</td>\n",
       "      <td>1112, Next to KIMS Medical College, 17th Cross...</td>\n",
       "      <td>San Churro Cafe</td>\n",
       "      <td>Yes</td>\n",
       "      <td>No</td>\n",
       "      <td>3.8/5</td>\n",
       "      <td>918</td>\n",
       "      <td>+91 9663487993</td>\n",
       "      <td>Banashankari</td>\n",
       "      <td>Cafe, Casual Dining</td>\n",
       "      <td>Churros, Cannelloni, Minestrone Soup, Hot Choc...</td>\n",
       "      <td>Cafe, Mexican, Italian</td>\n",
       "      <td>800</td>\n",
       "      <td>[('Rated 3.0', \"RATED\\n  Ambience is not that ...</td>\n",
       "      <td>[]</td>\n",
       "      <td>Buffet</td>\n",
       "      <td>Banashankari</td>\n",
       "    </tr>\n",
       "    <tr>\n",
       "      <th>3</th>\n",
       "      <td>https://www.zomato.com/bangalore/addhuri-udupi...</td>\n",
       "      <td>1st Floor, Annakuteera, 3rd Stage, Banashankar...</td>\n",
       "      <td>Addhuri Udupi Bhojana</td>\n",
       "      <td>No</td>\n",
       "      <td>No</td>\n",
       "      <td>3.7/5</td>\n",
       "      <td>88</td>\n",
       "      <td>+91 9620009302</td>\n",
       "      <td>Banashankari</td>\n",
       "      <td>Quick Bites</td>\n",
       "      <td>Masala Dosa</td>\n",
       "      <td>South Indian, North Indian</td>\n",
       "      <td>300</td>\n",
       "      <td>[('Rated 4.0', \"RATED\\n  Great food and proper...</td>\n",
       "      <td>[]</td>\n",
       "      <td>Buffet</td>\n",
       "      <td>Banashankari</td>\n",
       "    </tr>\n",
       "    <tr>\n",
       "      <th>4</th>\n",
       "      <td>https://www.zomato.com/bangalore/grand-village...</td>\n",
       "      <td>10, 3rd Floor, Lakshmi Associates, Gandhi Baza...</td>\n",
       "      <td>Grand Village</td>\n",
       "      <td>No</td>\n",
       "      <td>No</td>\n",
       "      <td>3.8/5</td>\n",
       "      <td>166</td>\n",
       "      <td>+91 8026612447\\r\\n+91 9901210005</td>\n",
       "      <td>Basavanagudi</td>\n",
       "      <td>Casual Dining</td>\n",
       "      <td>Panipuri, Gol Gappe</td>\n",
       "      <td>North Indian, Rajasthani</td>\n",
       "      <td>600</td>\n",
       "      <td>[('Rated 4.0', 'RATED\\n  Very good restaurant ...</td>\n",
       "      <td>[]</td>\n",
       "      <td>Buffet</td>\n",
       "      <td>Banashankari</td>\n",
       "    </tr>\n",
       "  </tbody>\n",
       "</table>\n",
       "</div>"
      ],
      "text/plain": [
       "                                                 url  \\\n",
       "0  https://www.zomato.com/bangalore/jalsa-banasha...   \n",
       "1  https://www.zomato.com/bangalore/spice-elephan...   \n",
       "2  https://www.zomato.com/SanchurroBangalore?cont...   \n",
       "3  https://www.zomato.com/bangalore/addhuri-udupi...   \n",
       "4  https://www.zomato.com/bangalore/grand-village...   \n",
       "\n",
       "                                             address                   name  \\\n",
       "0  942, 21st Main Road, 2nd Stage, Banashankari, ...                  Jalsa   \n",
       "1  2nd Floor, 80 Feet Road, Near Big Bazaar, 6th ...         Spice Elephant   \n",
       "2  1112, Next to KIMS Medical College, 17th Cross...        San Churro Cafe   \n",
       "3  1st Floor, Annakuteera, 3rd Stage, Banashankar...  Addhuri Udupi Bhojana   \n",
       "4  10, 3rd Floor, Lakshmi Associates, Gandhi Baza...          Grand Village   \n",
       "\n",
       "  online_order book_table   rate  votes                             phone  \\\n",
       "0          Yes        Yes  4.1/5    775    080 42297555\\r\\n+91 9743772233   \n",
       "1          Yes         No  4.1/5    787                      080 41714161   \n",
       "2          Yes         No  3.8/5    918                    +91 9663487993   \n",
       "3           No         No  3.7/5     88                    +91 9620009302   \n",
       "4           No         No  3.8/5    166  +91 8026612447\\r\\n+91 9901210005   \n",
       "\n",
       "       location            rest_type  \\\n",
       "0  Banashankari        Casual Dining   \n",
       "1  Banashankari        Casual Dining   \n",
       "2  Banashankari  Cafe, Casual Dining   \n",
       "3  Banashankari          Quick Bites   \n",
       "4  Basavanagudi        Casual Dining   \n",
       "\n",
       "                                          dish_liked  \\\n",
       "0  Pasta, Lunch Buffet, Masala Papad, Paneer Laja...   \n",
       "1  Momos, Lunch Buffet, Chocolate Nirvana, Thai G...   \n",
       "2  Churros, Cannelloni, Minestrone Soup, Hot Choc...   \n",
       "3                                        Masala Dosa   \n",
       "4                                Panipuri, Gol Gappe   \n",
       "\n",
       "                         cuisines approx_cost(for two people)  \\\n",
       "0  North Indian, Mughlai, Chinese                         800   \n",
       "1     Chinese, North Indian, Thai                         800   \n",
       "2          Cafe, Mexican, Italian                         800   \n",
       "3      South Indian, North Indian                         300   \n",
       "4        North Indian, Rajasthani                         600   \n",
       "\n",
       "                                        reviews_list menu_item  \\\n",
       "0  [('Rated 4.0', 'RATED\\n  A beautiful place to ...        []   \n",
       "1  [('Rated 4.0', 'RATED\\n  Had been here for din...        []   \n",
       "2  [('Rated 3.0', \"RATED\\n  Ambience is not that ...        []   \n",
       "3  [('Rated 4.0', \"RATED\\n  Great food and proper...        []   \n",
       "4  [('Rated 4.0', 'RATED\\n  Very good restaurant ...        []   \n",
       "\n",
       "  listed_in(type) listed_in(city)  \n",
       "0          Buffet    Banashankari  \n",
       "1          Buffet    Banashankari  \n",
       "2          Buffet    Banashankari  \n",
       "3          Buffet    Banashankari  \n",
       "4          Buffet    Banashankari  "
      ]
     },
     "execution_count": 2,
     "metadata": {},
     "output_type": "execute_result"
    }
   ],
   "source": [
    "df = pd.read_csv('/kaggle/input/zomato-eda/zomato.csv')\n",
    "df.head()\n"
   ]
  },
  {
   "cell_type": "code",
   "execution_count": 3,
   "id": "1afe5e5d",
   "metadata": {
    "execution": {
     "iopub.execute_input": "2023-11-18T09:50:36.475653Z",
     "iopub.status.busy": "2023-11-18T09:50:36.474679Z",
     "iopub.status.idle": "2023-11-18T09:50:36.482841Z",
     "shell.execute_reply": "2023-11-18T09:50:36.482067Z"
    },
    "papermill": {
     "duration": 0.048432,
     "end_time": "2023-11-18T09:50:36.484836",
     "exception": false,
     "start_time": "2023-11-18T09:50:36.436404",
     "status": "completed"
    },
    "tags": []
   },
   "outputs": [
    {
     "data": {
      "text/plain": [
       "url                            object\n",
       "address                        object\n",
       "name                           object\n",
       "online_order                   object\n",
       "book_table                     object\n",
       "rate                           object\n",
       "votes                           int64\n",
       "phone                          object\n",
       "location                       object\n",
       "rest_type                      object\n",
       "dish_liked                     object\n",
       "cuisines                       object\n",
       "approx_cost(for two people)    object\n",
       "reviews_list                   object\n",
       "menu_item                      object\n",
       "listed_in(type)                object\n",
       "listed_in(city)                object\n",
       "dtype: object"
      ]
     },
     "execution_count": 3,
     "metadata": {},
     "output_type": "execute_result"
    }
   ],
   "source": [
    "# check data types\n",
    "df.dtypes"
   ]
  },
  {
   "cell_type": "code",
   "execution_count": 4,
   "id": "1724d015",
   "metadata": {
    "execution": {
     "iopub.execute_input": "2023-11-18T09:50:36.563907Z",
     "iopub.status.busy": "2023-11-18T09:50:36.563121Z",
     "iopub.status.idle": "2023-11-18T09:50:36.661926Z",
     "shell.execute_reply": "2023-11-18T09:50:36.660830Z"
    },
    "papermill": {
     "duration": 0.141141,
     "end_time": "2023-11-18T09:50:36.664507",
     "exception": false,
     "start_time": "2023-11-18T09:50:36.523366",
     "status": "completed"
    },
    "tags": []
   },
   "outputs": [
    {
     "data": {
      "text/plain": [
       "url                                0\n",
       "address                            0\n",
       "name                               0\n",
       "online_order                       0\n",
       "book_table                         0\n",
       "rate                            7775\n",
       "votes                              0\n",
       "phone                           1208\n",
       "location                          21\n",
       "rest_type                        227\n",
       "dish_liked                     28078\n",
       "cuisines                          45\n",
       "approx_cost(for two people)      346\n",
       "reviews_list                       0\n",
       "menu_item                          0\n",
       "listed_in(type)                    0\n",
       "listed_in(city)                    0\n",
       "dtype: int64"
      ]
     },
     "execution_count": 4,
     "metadata": {},
     "output_type": "execute_result"
    }
   ],
   "source": [
    "#check null values\n",
    "df.isnull().sum()"
   ]
  },
  {
   "cell_type": "code",
   "execution_count": 5,
   "id": "00ed075c",
   "metadata": {
    "execution": {
     "iopub.execute_input": "2023-11-18T09:50:36.741269Z",
     "iopub.status.busy": "2023-11-18T09:50:36.740486Z",
     "iopub.status.idle": "2023-11-18T09:50:38.886114Z",
     "shell.execute_reply": "2023-11-18T09:50:38.884927Z"
    },
    "papermill": {
     "duration": 2.186977,
     "end_time": "2023-11-18T09:50:38.888647",
     "exception": false,
     "start_time": "2023-11-18T09:50:36.701670",
     "status": "completed"
    },
    "tags": []
   },
   "outputs": [
    {
     "data": {
      "text/plain": [
       "0"
      ]
     },
     "execution_count": 5,
     "metadata": {},
     "output_type": "execute_result"
    }
   ],
   "source": [
    "# check for duplicates\n",
    "df.duplicated().sum()"
   ]
  },
  {
   "cell_type": "code",
   "execution_count": 6,
   "id": "729d55bb",
   "metadata": {
    "execution": {
     "iopub.execute_input": "2023-11-18T09:50:38.966172Z",
     "iopub.status.busy": "2023-11-18T09:50:38.965742Z",
     "iopub.status.idle": "2023-11-18T09:50:38.978810Z",
     "shell.execute_reply": "2023-11-18T09:50:38.977807Z"
    },
    "papermill": {
     "duration": 0.054954,
     "end_time": "2023-11-18T09:50:38.981273",
     "exception": false,
     "start_time": "2023-11-18T09:50:38.926319",
     "status": "completed"
    },
    "tags": []
   },
   "outputs": [],
   "source": [
    "new_df = df.copy() "
   ]
  },
  {
   "cell_type": "code",
   "execution_count": 7,
   "id": "119a55c7",
   "metadata": {
    "execution": {
     "iopub.execute_input": "2023-11-18T09:50:39.059777Z",
     "iopub.status.busy": "2023-11-18T09:50:39.059114Z",
     "iopub.status.idle": "2023-11-18T09:50:39.065812Z",
     "shell.execute_reply": "2023-11-18T09:50:39.064768Z"
    },
    "papermill": {
     "duration": 0.048479,
     "end_time": "2023-11-18T09:50:39.067972",
     "exception": false,
     "start_time": "2023-11-18T09:50:39.019493",
     "status": "completed"
    },
    "tags": []
   },
   "outputs": [
    {
     "data": {
      "text/plain": [
       "(51717, 17)"
      ]
     },
     "execution_count": 7,
     "metadata": {},
     "output_type": "execute_result"
    }
   ],
   "source": [
    "new_df.shape"
   ]
  },
  {
   "cell_type": "code",
   "execution_count": 8,
   "id": "ffe099d7",
   "metadata": {
    "execution": {
     "iopub.execute_input": "2023-11-18T09:50:39.147301Z",
     "iopub.status.busy": "2023-11-18T09:50:39.146882Z",
     "iopub.status.idle": "2023-11-18T09:50:39.155489Z",
     "shell.execute_reply": "2023-11-18T09:50:39.154341Z"
    },
    "papermill": {
     "duration": 0.051675,
     "end_time": "2023-11-18T09:50:39.157853",
     "exception": false,
     "start_time": "2023-11-18T09:50:39.106178",
     "status": "completed"
    },
    "tags": []
   },
   "outputs": [
    {
     "data": {
      "text/plain": [
       "0          Casual Dining\n",
       "1          Casual Dining\n",
       "2    Cafe, Casual Dining\n",
       "3            Quick Bites\n",
       "4          Casual Dining\n",
       "Name: rest_type, dtype: object"
      ]
     },
     "execution_count": 8,
     "metadata": {},
     "output_type": "execute_result"
    }
   ],
   "source": [
    "new_df['rest_type'].head(5)"
   ]
  },
  {
   "cell_type": "code",
   "execution_count": 9,
   "id": "88937330",
   "metadata": {
    "execution": {
     "iopub.execute_input": "2023-11-18T09:50:39.235192Z",
     "iopub.status.busy": "2023-11-18T09:50:39.234436Z",
     "iopub.status.idle": "2023-11-18T09:50:39.293201Z",
     "shell.execute_reply": "2023-11-18T09:50:39.291910Z"
    },
    "papermill": {
     "duration": 0.100484,
     "end_time": "2023-11-18T09:50:39.296122",
     "exception": false,
     "start_time": "2023-11-18T09:50:39.195638",
     "status": "completed"
    },
    "tags": []
   },
   "outputs": [],
   "source": [
    "# split values by ','\n",
    "new_df['rest_type'] = new_df['rest_type'].str.split(', ')"
   ]
  },
  {
   "cell_type": "code",
   "execution_count": 10,
   "id": "67016daf",
   "metadata": {
    "execution": {
     "iopub.execute_input": "2023-11-18T09:50:39.375634Z",
     "iopub.status.busy": "2023-11-18T09:50:39.375222Z",
     "iopub.status.idle": "2023-11-18T09:50:39.387229Z",
     "shell.execute_reply": "2023-11-18T09:50:39.386102Z"
    },
    "papermill": {
     "duration": 0.054086,
     "end_time": "2023-11-18T09:50:39.389666",
     "exception": false,
     "start_time": "2023-11-18T09:50:39.335580",
     "status": "completed"
    },
    "tags": []
   },
   "outputs": [
    {
     "data": {
      "text/plain": [
       "0              [Casual Dining]\n",
       "1              [Casual Dining]\n",
       "2        [Cafe, Casual Dining]\n",
       "3                [Quick Bites]\n",
       "4              [Casual Dining]\n",
       "                 ...          \n",
       "51712                    [Bar]\n",
       "51713                    [Bar]\n",
       "51714                    [Bar]\n",
       "51715                    [Bar]\n",
       "51716     [Bar, Casual Dining]\n",
       "Name: rest_type, Length: 51717, dtype: object"
      ]
     },
     "execution_count": 10,
     "metadata": {},
     "output_type": "execute_result"
    }
   ],
   "source": [
    "new_df['rest_type']"
   ]
  },
  {
   "cell_type": "code",
   "execution_count": 11,
   "id": "87f184a4",
   "metadata": {
    "execution": {
     "iopub.execute_input": "2023-11-18T09:50:39.468404Z",
     "iopub.status.busy": "2023-11-18T09:50:39.467682Z",
     "iopub.status.idle": "2023-11-18T09:50:39.620614Z",
     "shell.execute_reply": "2023-11-18T09:50:39.619445Z"
    },
    "papermill": {
     "duration": 0.195438,
     "end_time": "2023-11-18T09:50:39.623479",
     "exception": false,
     "start_time": "2023-11-18T09:50:39.428041",
     "status": "completed"
    },
    "tags": []
   },
   "outputs": [],
   "source": [
    "# it will create a new rows for every value present in list\n",
    "new_df = new_df.explode(['rest_type'])"
   ]
  },
  {
   "cell_type": "code",
   "execution_count": 12,
   "id": "188d01cb",
   "metadata": {
    "execution": {
     "iopub.execute_input": "2023-11-18T09:50:39.703812Z",
     "iopub.status.busy": "2023-11-18T09:50:39.703164Z",
     "iopub.status.idle": "2023-11-18T09:50:39.711983Z",
     "shell.execute_reply": "2023-11-18T09:50:39.710775Z"
    },
    "papermill": {
     "duration": 0.051797,
     "end_time": "2023-11-18T09:50:39.714319",
     "exception": false,
     "start_time": "2023-11-18T09:50:39.662522",
     "status": "completed"
    },
    "tags": []
   },
   "outputs": [
    {
     "data": {
      "text/plain": [
       "0        Casual Dining\n",
       "1        Casual Dining\n",
       "2                 Cafe\n",
       "2        Casual Dining\n",
       "3          Quick Bites\n",
       "             ...      \n",
       "51713              Bar\n",
       "51714              Bar\n",
       "51715              Bar\n",
       "51716              Bar\n",
       "51716    Casual Dining\n",
       "Name: rest_type, Length: 59444, dtype: object"
      ]
     },
     "execution_count": 12,
     "metadata": {},
     "output_type": "execute_result"
    }
   ],
   "source": [
    "new_df.rest_type"
   ]
  },
  {
   "cell_type": "code",
   "execution_count": 13,
   "id": "81b35e5f",
   "metadata": {
    "execution": {
     "iopub.execute_input": "2023-11-18T09:50:39.794234Z",
     "iopub.status.busy": "2023-11-18T09:50:39.793577Z",
     "iopub.status.idle": "2023-11-18T09:50:39.806391Z",
     "shell.execute_reply": "2023-11-18T09:50:39.805068Z"
    },
    "papermill": {
     "duration": 0.055669,
     "end_time": "2023-11-18T09:50:39.808993",
     "exception": false,
     "start_time": "2023-11-18T09:50:39.753324",
     "status": "completed"
    },
    "tags": []
   },
   "outputs": [
    {
     "data": {
      "text/plain": [
       "array(['Buffet', 'Cafes', 'Delivery', 'Desserts', 'Dine-out',\n",
       "       'Drinks & nightlife', 'Pubs and bars'], dtype=object)"
      ]
     },
     "execution_count": 13,
     "metadata": {},
     "output_type": "execute_result"
    }
   ],
   "source": [
    "new_df['listed_in(type)'].unique()"
   ]
  },
  {
   "cell_type": "code",
   "execution_count": 14,
   "id": "547a6dae",
   "metadata": {
    "execution": {
     "iopub.execute_input": "2023-11-18T09:50:39.887845Z",
     "iopub.status.busy": "2023-11-18T09:50:39.887470Z",
     "iopub.status.idle": "2023-11-18T09:50:40.016486Z",
     "shell.execute_reply": "2023-11-18T09:50:40.015107Z"
    },
    "papermill": {
     "duration": 0.171953,
     "end_time": "2023-11-18T09:50:40.019558",
     "exception": false,
     "start_time": "2023-11-18T09:50:39.847605",
     "status": "completed"
    },
    "tags": []
   },
   "outputs": [],
   "source": [
    "new_df = new_df.explode(['listed_in(type)'])"
   ]
  },
  {
   "cell_type": "markdown",
   "id": "22325429",
   "metadata": {
    "papermill": {
     "duration": 0.03816,
     "end_time": "2023-11-18T09:50:40.096534",
     "exception": false,
     "start_time": "2023-11-18T09:50:40.058374",
     "status": "completed"
    },
    "tags": []
   },
   "source": [
    "Rename columns"
   ]
  },
  {
   "cell_type": "code",
   "execution_count": 15,
   "id": "664c99e3",
   "metadata": {
    "execution": {
     "iopub.execute_input": "2023-11-18T09:50:40.179891Z",
     "iopub.status.busy": "2023-11-18T09:50:40.179506Z",
     "iopub.status.idle": "2023-11-18T09:50:40.186009Z",
     "shell.execute_reply": "2023-11-18T09:50:40.184888Z"
    },
    "papermill": {
     "duration": 0.052927,
     "end_time": "2023-11-18T09:50:40.188465",
     "exception": false,
     "start_time": "2023-11-18T09:50:40.135538",
     "status": "completed"
    },
    "tags": []
   },
   "outputs": [],
   "source": [
    "new_df.rename(columns = {'address':'Restro_full_address','name':'Restro_name','rate':'ratings','rest_type':'resto_type','reviews_list':'reviews','location':'city','approx_cost(for two people)':'approx_cost_for_two_people'},inplace = True)"
   ]
  },
  {
   "cell_type": "code",
   "execution_count": 16,
   "id": "46a3f144",
   "metadata": {
    "execution": {
     "iopub.execute_input": "2023-11-18T09:50:40.278340Z",
     "iopub.status.busy": "2023-11-18T09:50:40.277717Z",
     "iopub.status.idle": "2023-11-18T09:50:40.304514Z",
     "shell.execute_reply": "2023-11-18T09:50:40.302781Z"
    },
    "papermill": {
     "duration": 0.081167,
     "end_time": "2023-11-18T09:50:40.308212",
     "exception": false,
     "start_time": "2023-11-18T09:50:40.227045",
     "status": "completed"
    },
    "tags": []
   },
   "outputs": [
    {
     "data": {
      "text/html": [
       "<div>\n",
       "<style scoped>\n",
       "    .dataframe tbody tr th:only-of-type {\n",
       "        vertical-align: middle;\n",
       "    }\n",
       "\n",
       "    .dataframe tbody tr th {\n",
       "        vertical-align: top;\n",
       "    }\n",
       "\n",
       "    .dataframe thead th {\n",
       "        text-align: right;\n",
       "    }\n",
       "</style>\n",
       "<table border=\"1\" class=\"dataframe\">\n",
       "  <thead>\n",
       "    <tr style=\"text-align: right;\">\n",
       "      <th></th>\n",
       "      <th>url</th>\n",
       "      <th>Restro_full_address</th>\n",
       "      <th>Restro_name</th>\n",
       "      <th>online_order</th>\n",
       "      <th>book_table</th>\n",
       "      <th>ratings</th>\n",
       "      <th>votes</th>\n",
       "      <th>phone</th>\n",
       "      <th>city</th>\n",
       "      <th>resto_type</th>\n",
       "      <th>dish_liked</th>\n",
       "      <th>cuisines</th>\n",
       "      <th>approx_cost_for_two_people</th>\n",
       "      <th>reviews</th>\n",
       "      <th>menu_item</th>\n",
       "      <th>listed_in(type)</th>\n",
       "      <th>listed_in(city)</th>\n",
       "    </tr>\n",
       "  </thead>\n",
       "  <tbody>\n",
       "    <tr>\n",
       "      <th>0</th>\n",
       "      <td>https://www.zomato.com/bangalore/jalsa-banasha...</td>\n",
       "      <td>942, 21st Main Road, 2nd Stage, Banashankari, ...</td>\n",
       "      <td>Jalsa</td>\n",
       "      <td>Yes</td>\n",
       "      <td>Yes</td>\n",
       "      <td>4.1/5</td>\n",
       "      <td>775</td>\n",
       "      <td>080 42297555\\r\\n+91 9743772233</td>\n",
       "      <td>Banashankari</td>\n",
       "      <td>Casual Dining</td>\n",
       "      <td>Pasta, Lunch Buffet, Masala Papad, Paneer Laja...</td>\n",
       "      <td>North Indian, Mughlai, Chinese</td>\n",
       "      <td>800</td>\n",
       "      <td>[('Rated 4.0', 'RATED\\n  A beautiful place to ...</td>\n",
       "      <td>[]</td>\n",
       "      <td>Buffet</td>\n",
       "      <td>Banashankari</td>\n",
       "    </tr>\n",
       "    <tr>\n",
       "      <th>1</th>\n",
       "      <td>https://www.zomato.com/bangalore/spice-elephan...</td>\n",
       "      <td>2nd Floor, 80 Feet Road, Near Big Bazaar, 6th ...</td>\n",
       "      <td>Spice Elephant</td>\n",
       "      <td>Yes</td>\n",
       "      <td>No</td>\n",
       "      <td>4.1/5</td>\n",
       "      <td>787</td>\n",
       "      <td>080 41714161</td>\n",
       "      <td>Banashankari</td>\n",
       "      <td>Casual Dining</td>\n",
       "      <td>Momos, Lunch Buffet, Chocolate Nirvana, Thai G...</td>\n",
       "      <td>Chinese, North Indian, Thai</td>\n",
       "      <td>800</td>\n",
       "      <td>[('Rated 4.0', 'RATED\\n  Had been here for din...</td>\n",
       "      <td>[]</td>\n",
       "      <td>Buffet</td>\n",
       "      <td>Banashankari</td>\n",
       "    </tr>\n",
       "  </tbody>\n",
       "</table>\n",
       "</div>"
      ],
      "text/plain": [
       "                                                 url  \\\n",
       "0  https://www.zomato.com/bangalore/jalsa-banasha...   \n",
       "1  https://www.zomato.com/bangalore/spice-elephan...   \n",
       "\n",
       "                                 Restro_full_address     Restro_name  \\\n",
       "0  942, 21st Main Road, 2nd Stage, Banashankari, ...           Jalsa   \n",
       "1  2nd Floor, 80 Feet Road, Near Big Bazaar, 6th ...  Spice Elephant   \n",
       "\n",
       "  online_order book_table ratings  votes                           phone  \\\n",
       "0          Yes        Yes   4.1/5    775  080 42297555\\r\\n+91 9743772233   \n",
       "1          Yes         No   4.1/5    787                    080 41714161   \n",
       "\n",
       "           city     resto_type  \\\n",
       "0  Banashankari  Casual Dining   \n",
       "1  Banashankari  Casual Dining   \n",
       "\n",
       "                                          dish_liked  \\\n",
       "0  Pasta, Lunch Buffet, Masala Papad, Paneer Laja...   \n",
       "1  Momos, Lunch Buffet, Chocolate Nirvana, Thai G...   \n",
       "\n",
       "                         cuisines approx_cost_for_two_people  \\\n",
       "0  North Indian, Mughlai, Chinese                        800   \n",
       "1     Chinese, North Indian, Thai                        800   \n",
       "\n",
       "                                             reviews menu_item  \\\n",
       "0  [('Rated 4.0', 'RATED\\n  A beautiful place to ...        []   \n",
       "1  [('Rated 4.0', 'RATED\\n  Had been here for din...        []   \n",
       "\n",
       "  listed_in(type) listed_in(city)  \n",
       "0          Buffet    Banashankari  \n",
       "1          Buffet    Banashankari  "
      ]
     },
     "execution_count": 16,
     "metadata": {},
     "output_type": "execute_result"
    }
   ],
   "source": [
    "new_df.head(2)"
   ]
  },
  {
   "cell_type": "markdown",
   "id": "3762bfa1",
   "metadata": {
    "papermill": {
     "duration": 0.038591,
     "end_time": "2023-11-18T09:50:40.387295",
     "exception": false,
     "start_time": "2023-11-18T09:50:40.348704",
     "status": "completed"
    },
    "tags": []
   },
   "source": [
    "Drop columns"
   ]
  },
  {
   "cell_type": "code",
   "execution_count": 17,
   "id": "33477fed",
   "metadata": {
    "execution": {
     "iopub.execute_input": "2023-11-18T09:50:40.466462Z",
     "iopub.status.busy": "2023-11-18T09:50:40.466010Z",
     "iopub.status.idle": "2023-11-18T09:50:40.479363Z",
     "shell.execute_reply": "2023-11-18T09:50:40.478145Z"
    },
    "papermill": {
     "duration": 0.056082,
     "end_time": "2023-11-18T09:50:40.481933",
     "exception": false,
     "start_time": "2023-11-18T09:50:40.425851",
     "status": "completed"
    },
    "tags": []
   },
   "outputs": [],
   "source": [
    "new_df.drop(columns = ['listed_in(city)','menu_item','reviews','url','dish_liked'], inplace=True)"
   ]
  },
  {
   "cell_type": "code",
   "execution_count": 18,
   "id": "caf6fdf4",
   "metadata": {
    "execution": {
     "iopub.execute_input": "2023-11-18T09:50:40.561755Z",
     "iopub.status.busy": "2023-11-18T09:50:40.561322Z",
     "iopub.status.idle": "2023-11-18T09:50:40.578364Z",
     "shell.execute_reply": "2023-11-18T09:50:40.577241Z"
    },
    "papermill": {
     "duration": 0.060332,
     "end_time": "2023-11-18T09:50:40.580931",
     "exception": false,
     "start_time": "2023-11-18T09:50:40.520599",
     "status": "completed"
    },
    "tags": []
   },
   "outputs": [
    {
     "data": {
      "text/html": [
       "<div>\n",
       "<style scoped>\n",
       "    .dataframe tbody tr th:only-of-type {\n",
       "        vertical-align: middle;\n",
       "    }\n",
       "\n",
       "    .dataframe tbody tr th {\n",
       "        vertical-align: top;\n",
       "    }\n",
       "\n",
       "    .dataframe thead th {\n",
       "        text-align: right;\n",
       "    }\n",
       "</style>\n",
       "<table border=\"1\" class=\"dataframe\">\n",
       "  <thead>\n",
       "    <tr style=\"text-align: right;\">\n",
       "      <th></th>\n",
       "      <th>Restro_full_address</th>\n",
       "      <th>Restro_name</th>\n",
       "      <th>online_order</th>\n",
       "      <th>book_table</th>\n",
       "      <th>ratings</th>\n",
       "      <th>votes</th>\n",
       "      <th>phone</th>\n",
       "      <th>city</th>\n",
       "      <th>resto_type</th>\n",
       "      <th>cuisines</th>\n",
       "      <th>approx_cost_for_two_people</th>\n",
       "      <th>listed_in(type)</th>\n",
       "    </tr>\n",
       "  </thead>\n",
       "  <tbody>\n",
       "    <tr>\n",
       "      <th>0</th>\n",
       "      <td>942, 21st Main Road, 2nd Stage, Banashankari, ...</td>\n",
       "      <td>Jalsa</td>\n",
       "      <td>Yes</td>\n",
       "      <td>Yes</td>\n",
       "      <td>4.1/5</td>\n",
       "      <td>775</td>\n",
       "      <td>080 42297555\\r\\n+91 9743772233</td>\n",
       "      <td>Banashankari</td>\n",
       "      <td>Casual Dining</td>\n",
       "      <td>North Indian, Mughlai, Chinese</td>\n",
       "      <td>800</td>\n",
       "      <td>Buffet</td>\n",
       "    </tr>\n",
       "    <tr>\n",
       "      <th>1</th>\n",
       "      <td>2nd Floor, 80 Feet Road, Near Big Bazaar, 6th ...</td>\n",
       "      <td>Spice Elephant</td>\n",
       "      <td>Yes</td>\n",
       "      <td>No</td>\n",
       "      <td>4.1/5</td>\n",
       "      <td>787</td>\n",
       "      <td>080 41714161</td>\n",
       "      <td>Banashankari</td>\n",
       "      <td>Casual Dining</td>\n",
       "      <td>Chinese, North Indian, Thai</td>\n",
       "      <td>800</td>\n",
       "      <td>Buffet</td>\n",
       "    </tr>\n",
       "  </tbody>\n",
       "</table>\n",
       "</div>"
      ],
      "text/plain": [
       "                                 Restro_full_address     Restro_name  \\\n",
       "0  942, 21st Main Road, 2nd Stage, Banashankari, ...           Jalsa   \n",
       "1  2nd Floor, 80 Feet Road, Near Big Bazaar, 6th ...  Spice Elephant   \n",
       "\n",
       "  online_order book_table ratings  votes                           phone  \\\n",
       "0          Yes        Yes   4.1/5    775  080 42297555\\r\\n+91 9743772233   \n",
       "1          Yes         No   4.1/5    787                    080 41714161   \n",
       "\n",
       "           city     resto_type                        cuisines  \\\n",
       "0  Banashankari  Casual Dining  North Indian, Mughlai, Chinese   \n",
       "1  Banashankari  Casual Dining     Chinese, North Indian, Thai   \n",
       "\n",
       "  approx_cost_for_two_people listed_in(type)  \n",
       "0                        800          Buffet  \n",
       "1                        800          Buffet  "
      ]
     },
     "execution_count": 18,
     "metadata": {},
     "output_type": "execute_result"
    }
   ],
   "source": [
    "new_df.head(2)"
   ]
  },
  {
   "cell_type": "code",
   "execution_count": 19,
   "id": "56d7fdf1",
   "metadata": {
    "execution": {
     "iopub.execute_input": "2023-11-18T09:50:40.662210Z",
     "iopub.status.busy": "2023-11-18T09:50:40.661819Z",
     "iopub.status.idle": "2023-11-18T09:50:40.782473Z",
     "shell.execute_reply": "2023-11-18T09:50:40.781361Z"
    },
    "papermill": {
     "duration": 0.164795,
     "end_time": "2023-11-18T09:50:40.785020",
     "exception": false,
     "start_time": "2023-11-18T09:50:40.620225",
     "status": "completed"
    },
    "tags": []
   },
   "outputs": [
    {
     "data": {
      "text/plain": [
       "16378"
      ]
     },
     "execution_count": 19,
     "metadata": {},
     "output_type": "execute_result"
    }
   ],
   "source": [
    "new_df.duplicated().sum()"
   ]
  },
  {
   "cell_type": "code",
   "execution_count": 20,
   "id": "ed0eda7c",
   "metadata": {
    "execution": {
     "iopub.execute_input": "2023-11-18T09:50:40.866146Z",
     "iopub.status.busy": "2023-11-18T09:50:40.865451Z",
     "iopub.status.idle": "2023-11-18T09:50:40.991999Z",
     "shell.execute_reply": "2023-11-18T09:50:40.990567Z"
    },
    "papermill": {
     "duration": 0.170622,
     "end_time": "2023-11-18T09:50:40.994995",
     "exception": false,
     "start_time": "2023-11-18T09:50:40.824373",
     "status": "completed"
    },
    "tags": []
   },
   "outputs": [],
   "source": [
    "# drop duplicates\n",
    "new_df.drop_duplicates(inplace = True)"
   ]
  },
  {
   "cell_type": "markdown",
   "id": "af54ad63",
   "metadata": {
    "papermill": {
     "duration": 0.039441,
     "end_time": "2023-11-18T09:50:41.075238",
     "exception": false,
     "start_time": "2023-11-18T09:50:41.035797",
     "status": "completed"
    },
    "tags": []
   },
   "source": [
    "check null values"
   ]
  },
  {
   "cell_type": "code",
   "execution_count": 21,
   "id": "84c90988",
   "metadata": {
    "execution": {
     "iopub.execute_input": "2023-11-18T09:50:41.156530Z",
     "iopub.status.busy": "2023-11-18T09:50:41.156116Z",
     "iopub.status.idle": "2023-11-18T09:50:41.214301Z",
     "shell.execute_reply": "2023-11-18T09:50:41.213106Z"
    },
    "papermill": {
     "duration": 0.102114,
     "end_time": "2023-11-18T09:50:41.217023",
     "exception": false,
     "start_time": "2023-11-18T09:50:41.114909",
     "status": "completed"
    },
    "tags": []
   },
   "outputs": [
    {
     "data": {
      "text/plain": [
       "Restro_full_address              0\n",
       "Restro_name                      0\n",
       "online_order                     0\n",
       "book_table                       0\n",
       "ratings                       4557\n",
       "votes                            0\n",
       "phone                          870\n",
       "city                            14\n",
       "resto_type                     163\n",
       "cuisines                        35\n",
       "approx_cost_for_two_people     267\n",
       "listed_in(type)                  0\n",
       "dtype: int64"
      ]
     },
     "execution_count": 21,
     "metadata": {},
     "output_type": "execute_result"
    }
   ],
   "source": [
    "new_df.isnull().sum()"
   ]
  },
  {
   "cell_type": "markdown",
   "id": "bc305f9c",
   "metadata": {
    "papermill": {
     "duration": 0.039232,
     "end_time": "2023-11-18T09:50:41.296591",
     "exception": false,
     "start_time": "2023-11-18T09:50:41.257359",
     "status": "completed"
    },
    "tags": []
   },
   "source": [
    "Operation on Restaurant name (Restro_name) columns"
   ]
  },
  {
   "cell_type": "code",
   "execution_count": 22,
   "id": "06fa20cd",
   "metadata": {
    "execution": {
     "iopub.execute_input": "2023-11-18T09:50:41.377858Z",
     "iopub.status.busy": "2023-11-18T09:50:41.377487Z",
     "iopub.status.idle": "2023-11-18T09:50:41.390781Z",
     "shell.execute_reply": "2023-11-18T09:50:41.389709Z"
    },
    "papermill": {
     "duration": 0.056212,
     "end_time": "2023-11-18T09:50:41.393130",
     "exception": false,
     "start_time": "2023-11-18T09:50:41.336918",
     "status": "completed"
    },
    "tags": []
   },
   "outputs": [
    {
     "data": {
      "text/plain": [
       "8792"
      ]
     },
     "execution_count": 22,
     "metadata": {},
     "output_type": "execute_result"
    }
   ],
   "source": [
    "# number of unique values in restro_name\n",
    "new_df.Restro_name.nunique()"
   ]
  },
  {
   "cell_type": "code",
   "execution_count": 23,
   "id": "84e1d4ac",
   "metadata": {
    "execution": {
     "iopub.execute_input": "2023-11-18T09:50:41.475786Z",
     "iopub.status.busy": "2023-11-18T09:50:41.475394Z",
     "iopub.status.idle": "2023-11-18T09:50:41.489524Z",
     "shell.execute_reply": "2023-11-18T09:50:41.488502Z"
    },
    "papermill": {
     "duration": 0.059264,
     "end_time": "2023-11-18T09:50:41.491903",
     "exception": false,
     "start_time": "2023-11-18T09:50:41.432639",
     "status": "completed"
    },
    "tags": []
   },
   "outputs": [
    {
     "data": {
      "text/plain": [
       "array(['WAFL CafÃ\\x83Â\\x83Ã\\x82Â\\x83Ã\\x83Â\\x82Ã\\x82Â\\x83Ã\\x83Â\\x83Ã\\x82Â\\x82Ã\\x83Â\\x82Ã\\x82Â\\x83Ã\\x83Â\\x83Ã\\x82Â\\x83Ã\\x83Â\\x82Ã\\x82Â\\x82Ã\\x83Â\\x83Ã\\x82Â\\x82Ã\\x83Â\\x82Ã\\x82Â©',\n",
       "       'The CafÃ\\x83Â\\x83Ã\\x82Â\\x83Ã\\x83Â\\x82Ã\\x82Â\\x83Ã\\x83Â\\x83Ã\\x82Â\\x82Ã\\x83Â\\x82Ã\\x82Â\\x83Ã\\x83Â\\x83Ã\\x82Â\\x83Ã\\x83Â\\x82Ã\\x82Â\\x82Ã\\x83Â\\x83Ã\\x82Â\\x82Ã\\x83Â\\x82Ã\\x82Â© @ Saanchi',\n",
       "       'The Lobby Lounge - Shangri-La Hotel', \"Gullu's Chat\",\n",
       "       'Moto Store & CafÃ\\x83Â\\x83Ã\\x82Â\\x83Ã\\x83Â\\x82Ã\\x82Â\\x83Ã\\x83Â\\x83Ã\\x82Â\\x82Ã\\x83Â\\x82Ã\\x82Â\\x83Ã\\x83Â\\x83Ã\\x82Â\\x83Ã\\x83Â\\x82Ã\\x82Â\\x82Ã\\x83Â\\x83Ã\\x82Â\\x82Ã\\x83Â\\x82Ã\\x82Â\\x83Ã\\x83Â\\x83Ã\\x82Â\\x83Ã\\x83Â\\x82Ã\\x82Â\\x83Ã\\x83Â\\x83Ã\\x82Â\\x82Ã\\x83Â\\x82Ã\\x82Â\\x82Ã\\x83Â\\x83Ã\\x82Â\\x83Ã\\x83Â\\x82Ã\\x82Â\\x82Ã\\x83Â\\x83Ã\\x82Â\\x82Ã\\x83Â\\x82Ã\\x82Â©',\n",
       "       'Sagar', 'Bombay Vada Pav Corner',\n",
       "       'WAFL CafÃ\\x83Â\\x83Ã\\x82Â\\x83Ã\\x83Â\\x82Ã\\x82Â\\x83Ã\\x83Â\\x83Ã\\x82Â\\x82Ã\\x83Â\\x82Ã\\x82Â\\x83Ã\\x83Â\\x83Ã\\x82Â\\x83Ã\\x83Â\\x82Ã\\x82Â\\x82Ã\\x83Â\\x83Ã\\x82Â\\x82Ã\\x83Â\\x82Ã\\x82Â\\x83Ã\\x83Â\\x83Ã\\x82Â\\x83Ã\\x83Â\\x82Ã\\x82Â\\x83Ã\\x83Â\\x83Ã\\x82Â\\x82Ã\\x83Â\\x82Ã\\x82Â\\x82Ã\\x83Â\\x83Ã\\x82Â\\x83Ã\\x83Â\\x82Ã\\x82Â\\x82Ã\\x83Â\\x83Ã\\x82Â\\x82Ã\\x83Â\\x82Ã\\x82Â©',\n",
       "       \"Quickie's\", 'Tasty Paradise', 'Cafe Frying Wagon',\n",
       "       'Patiala Lassi',\n",
       "       \"CafÃ\\x83Â\\x83Ã\\x82Â\\x83Ã\\x83Â\\x82Ã\\x82Â\\x83Ã\\x83Â\\x83Ã\\x82Â\\x82Ã\\x83Â\\x82Ã\\x82Â\\x83Ã\\x83Â\\x83Ã\\x82Â\\x83Ã\\x83Â\\x82Ã\\x82Â\\x82Ã\\x83Â\\x83Ã\\x82Â\\x82Ã\\x83Â\\x82Ã\\x82Â\\x83Ã\\x83Â\\x83Ã\\x82Â\\x83Ã\\x83Â\\x82Ã\\x82Â\\x83Ã\\x83Â\\x83Ã\\x82Â\\x82Ã\\x83Â\\x82Ã\\x82Â\\x82Ã\\x83Â\\x83Ã\\x82Â\\x83Ã\\x83Â\\x82Ã\\x82Â\\x82Ã\\x83Â\\x83Ã\\x82Â\\x82Ã\\x83Â\\x82Ã\\x82Â© Mor'ish\",\n",
       "       'Yauatcha PÃ\\x83Â\\x83Ã\\x82Â\\x83Ã\\x83Â\\x82Ã\\x82Â\\x83Ã\\x83Â\\x83Ã\\x82Â\\x82Ã\\x83Â\\x82Ã\\x82Â\\x83Ã\\x83Â\\x83Ã\\x82Â\\x83Ã\\x83Â\\x82Ã\\x82Â\\x82Ã\\x83Â\\x83Ã\\x82Â\\x82Ã\\x83Â\\x82Ã\\x82Â\\x83Ã\\x83Â\\x83Ã\\x82Â\\x83Ã\\x83Â\\x82Ã\\x82Â\\x83Ã\\x83Â\\x83Ã\\x82Â\\x82Ã\\x83Â\\x82Ã\\x82Â\\x82Ã\\x83Â\\x83Ã\\x82Â\\x83Ã\\x83Â\\x82Ã\\x82Â\\x82Ã\\x83Â\\x83Ã\\x82Â\\x82Ã\\x83Â\\x82Ã\\x82Â¢tisserie',\n",
       "       'CafÃ\\x83Â\\x83Ã\\x82Â\\x83Ã\\x83Â\\x82Ã\\x82Â\\x83Ã\\x83Â\\x83Ã\\x82Â\\x82Ã\\x83Â\\x82Ã\\x82Â\\x83Ã\\x83Â\\x83Ã\\x82Â\\x83Ã\\x83Â\\x82Ã\\x82Â\\x82Ã\\x83Â\\x83Ã\\x82Â\\x82Ã\\x83Â\\x82Ã\\x82Â\\x83Ã\\x83Â\\x83Ã\\x82Â\\x83Ã\\x83Â\\x82Ã\\x82Â\\x83Ã\\x83Â\\x83Ã\\x82Â\\x82Ã\\x83Â\\x82Ã\\x82Â\\x82Ã\\x83Â\\x83Ã\\x82Â\\x83Ã\\x83Â\\x82Ã\\x82Â\\x82Ã\\x83Â\\x83Ã\\x82Â\\x82Ã\\x83Â\\x82Ã\\x82Â© MH-28',\n",
       "       'Urban Solace - CafÃ\\x83Â\\x83Ã\\x82Â\\x83Ã\\x83Â\\x82Ã\\x82Â\\x83Ã\\x83Â\\x83Ã\\x82Â\\x82Ã\\x83Â\\x82Ã\\x82Â\\x83Ã\\x83Â\\x83Ã\\x82Â\\x83Ã\\x83Â\\x82Ã\\x82Â\\x82Ã\\x83Â\\x83Ã\\x82Â\\x82Ã\\x83Â\\x82Ã\\x82Â\\x83Ã\\x83Â\\x83Ã\\x82Â\\x83Ã\\x83Â\\x82Ã\\x82Â\\x83Ã\\x83Â\\x83Ã\\x82Â\\x82Ã\\x83Â\\x82Ã\\x82Â\\x82Ã\\x83Â\\x83Ã\\x82Â\\x83Ã\\x83Â\\x82Ã\\x82Â\\x82Ã\\x83Â\\x83Ã\\x82Â\\x82Ã\\x83Â\\x82Ã\\x82Â© for the Soul',\n",
       "       'B Bhagat Tarachand', 'The Golden Metro',\n",
       "       'Sri Basaveshwara U.K Foods', 'North Indian Food', '37 China Town',\n",
       "       'Dakshin',\n",
       "       'CafÃ\\x83Â\\x83Ã\\x82Â\\x83Ã\\x83Â\\x82Ã\\x82Â\\x83Ã\\x83Â\\x83Ã\\x82Â\\x82Ã\\x83Â\\x82Ã\\x82Â\\x83Ã\\x83Â\\x83Ã\\x82Â\\x83Ã\\x83Â\\x82Ã\\x82Â\\x82Ã\\x83Â\\x83Ã\\x82Â\\x82Ã\\x83Â\\x82Ã\\x82Â\\x83Ã\\x83Â\\x83Ã\\x82Â\\x83Ã\\x83Â\\x82Ã\\x82Â\\x83Ã\\x83Â\\x83Ã\\x82Â\\x82Ã\\x83Â\\x82Ã\\x82Â\\x82Ã\\x83Â\\x83Ã\\x82Â\\x83Ã\\x83Â\\x82Ã\\x82Â\\x82Ã\\x83Â\\x83Ã\\x82Â\\x82Ã\\x83Â\\x82Ã\\x82Â© Felix',\n",
       "       'Chicken County', 'Annapoorni Grand', 'RR Real Taste Of Bengaluru',\n",
       "       'RR Taste Of Bangalore', 'Mantap Ice Cream',\n",
       "       'Shree Sagar Veg Fast Food', 'New Prince Restaurant',\n",
       "       'Kesar Rasoi',\n",
       "       'Le ChÃ\\x83Â\\x83Ã\\x82Â\\x83Ã\\x83Â\\x82Ã\\x82Â\\x83Ã\\x83Â\\x83Ã\\x82Â\\x82Ã\\x83Â\\x82Ã\\x82Â\\x83Ã\\x83Â\\x83Ã\\x82Â\\x83Ã\\x83Â\\x82Ã\\x82Â\\x82Ã\\x83Â\\x83Ã\\x82Â\\x82Ã\\x83Â\\x82Ã\\x82Â\\x83Ã\\x83Â\\x83Ã\\x82Â\\x83Ã\\x83Â\\x82Ã\\x82Â\\x83Ã\\x83Â\\x83Ã\\x82Â\\x82Ã\\x83Â\\x82Ã\\x82Â\\x82Ã\\x83Â\\x83Ã\\x82Â\\x83Ã\\x83Â\\x82Ã\\x82Â\\x82Ã\\x83Â\\x83Ã\\x82Â\\x82Ã\\x83Â\\x82Ã\\x82Â©ri',\n",
       "       'Santosh Juice Junction', 'Sri Mahalakshmi Hotel',\n",
       "       'Yauatcha PÃ\\x83Â\\x83Ã\\x82Â\\x83Ã\\x83Â\\x82Ã\\x82Â\\x83Ã\\x83Â\\x83Ã\\x82Â\\x82Ã\\x83Â\\x82Ã\\x82Â\\x83Ã\\x83Â\\x83Ã\\x82Â\\x83Ã\\x83Â\\x82Ã\\x82Â\\x82Ã\\x83Â\\x83Ã\\x82Â\\x82Ã\\x83Â\\x82Ã\\x82Â¢tisserie',\n",
       "       'Le ChÃ\\x83Â\\x83Ã\\x82Â\\x83Ã\\x83Â\\x82Ã\\x82Â\\x83Ã\\x83Â\\x83Ã\\x82Â\\x82Ã\\x83Â\\x82Ã\\x82Â\\x83Ã\\x83Â\\x83Ã\\x82Â\\x83Ã\\x83Â\\x82Ã\\x82Â\\x82Ã\\x83Â\\x83Ã\\x82Â\\x82Ã\\x83Â\\x82Ã\\x82Â©ri',\n",
       "       'Banaras Sweet House', 'Sri Sapthagiri Sweets',\n",
       "       'KazÃ\\x83Â\\x83Ã\\x82Â\\x83Ã\\x83Â\\x82Ã\\x82Â\\x83Ã\\x83Â\\x83Ã\\x82Â\\x82Ã\\x83Â\\x82Ã\\x82Â\\x83Ã\\x83Â\\x83Ã\\x82Â\\x83Ã\\x83Â\\x82Ã\\x82Â\\x82Ã\\x83Â\\x83Ã\\x82Â\\x82Ã\\x83Â\\x82Ã\\x82Â©',\n",
       "       'Daivik',\n",
       "       'Lifetree CafÃ\\x83Â\\x83Ã\\x82Â\\x83Ã\\x83Â\\x82Ã\\x82Â\\x83Ã\\x83Â\\x83Ã\\x82Â\\x82Ã\\x83Â\\x82Ã\\x82Â\\x83Ã\\x83Â\\x83Ã\\x82Â\\x83Ã\\x83Â\\x82Ã\\x82Â\\x82Ã\\x83Â\\x83Ã\\x82Â\\x82Ã\\x83Â\\x82Ã\\x82Â©',\n",
       "       'Strawberry Moon',\n",
       "       'Cafe MingoÃ\\x83Â\\x83Ã\\x82Â\\x83Ã\\x83Â\\x82Ã\\x82Â\\x83Ã\\x83Â\\x83Ã\\x82Â\\x82Ã\\x83Â\\x82Ã\\x82Â\\x82Ã\\x83Â\\x83Ã\\x82Â\\x83Ã\\x83Â\\x82Ã\\x82Â\\x82Ã\\x83Â\\x83Ã\\x82Â\\x82Ã\\x83Â\\x82Ã\\x82Â\\x92s',\n",
       "       'Ssaffron - Shangri-La Hotel', 'Hype - Shangri-La Hotel',\n",
       "       'The Sugar Factory - Le Meridien',\n",
       "       'Shang Palace - Shangri-La Hotel', 'Yataii - Shangri-La Hotel',\n",
       "       'Fishland', 'Caprese - Shangri-La Hotel'], dtype=object)"
      ]
     },
     "execution_count": 23,
     "metadata": {},
     "output_type": "execute_result"
    }
   ],
   "source": [
    "#here you can see the error value / garbbage value in the name of restaurant \n",
    "new_df.Restro_name.unique()[7300:7350]"
   ]
  },
  {
   "cell_type": "code",
   "execution_count": 24,
   "id": "65442d25",
   "metadata": {
    "execution": {
     "iopub.execute_input": "2023-11-18T09:50:41.574103Z",
     "iopub.status.busy": "2023-11-18T09:50:41.572970Z",
     "iopub.status.idle": "2023-11-18T09:50:41.785457Z",
     "shell.execute_reply": "2023-11-18T09:50:41.784373Z"
    },
    "papermill": {
     "duration": 0.256333,
     "end_time": "2023-11-18T09:50:41.788355",
     "exception": false,
     "start_time": "2023-11-18T09:50:41.532022",
     "status": "completed"
    },
    "tags": []
   },
   "outputs": [],
   "source": [
    "# all garbage values looks like below strings to replaced it with empty string\n",
    "new_df['Restro_name'].replace(r'[Ã\\x83]|[Â\\x82]|[\\x92]+','',regex=True, inplace = True)"
   ]
  },
  {
   "cell_type": "code",
   "execution_count": 25,
   "id": "296674b2",
   "metadata": {
    "execution": {
     "iopub.execute_input": "2023-11-18T09:50:41.871530Z",
     "iopub.status.busy": "2023-11-18T09:50:41.870750Z",
     "iopub.status.idle": "2023-11-18T09:50:41.884018Z",
     "shell.execute_reply": "2023-11-18T09:50:41.882880Z"
    },
    "papermill": {
     "duration": 0.057874,
     "end_time": "2023-11-18T09:50:41.886525",
     "exception": false,
     "start_time": "2023-11-18T09:50:41.828651",
     "status": "completed"
    },
    "tags": []
   },
   "outputs": [
    {
     "data": {
      "text/plain": [
       "array(['B Bhagat Tarachand', 'The Golden Metro',\n",
       "       'Sri Basaveshwara U.K Foods', 'North Indian Food', '37 China Town',\n",
       "       'Dakshin', 'Chicken County', 'Annapoorni Grand',\n",
       "       'RR Real Taste Of Bengaluru', 'RR Taste Of Bangalore',\n",
       "       'Mantap Ice Cream', 'Shree Sagar Veg Fast Food',\n",
       "       'New Prince Restaurant', 'Kesar Rasoi', 'Santosh Juice Junction',\n",
       "       'Sri Mahalakshmi Hotel', 'Banaras Sweet House',\n",
       "       'Sri Sapthagiri Sweets', 'Daivik', 'Strawberry Moon',\n",
       "       'Cafe Mingos', 'Ssaffron - Shangri-La Hotel',\n",
       "       'Hype - Shangri-La Hotel', 'The Sugar Factory - Le Meridien',\n",
       "       'Shang Palace - Shangri-La Hotel', 'Yataii - Shangri-La Hotel',\n",
       "       'Fishland', 'Caprese - Shangri-La Hotel', 'Status Bar& Restaurant',\n",
       "       'Amruta', 'Lakshmi Natraja Refreshments', 'Mudde Madappa Mess',\n",
       "       'The Green House Family Restaurant', 'Jashn - Le Meridien',\n",
       "       'Atte Maneya Oota', 'Silver Spoon', 'Curry Pot',\n",
       "       'Blue Heaven Bar And Restaurant', 'Shivaji Maratha Hotel',\n",
       "       'Sports Bar - Le Meridien', 'SLV Delite', 'Pavilion',\n",
       "       'Sri Raghavendra Prasanna Coffee Club', 'Bombay Chat House',\n",
       "       'Fishland 15', 'Talk To The Hand', 'New Mathura Grand',\n",
       "       'Jai Bhawani', 'Imperial Room', 'Vijay Vihar'], dtype=object)"
      ]
     },
     "execution_count": 25,
     "metadata": {},
     "output_type": "execute_result"
    }
   ],
   "source": [
    "new_df.Restro_name.unique()[7300:7350]"
   ]
  },
  {
   "cell_type": "markdown",
   "id": "76bac1ca",
   "metadata": {
    "papermill": {
     "duration": 0.039821,
     "end_time": "2023-11-18T09:50:41.966303",
     "exception": false,
     "start_time": "2023-11-18T09:50:41.926482",
     "status": "completed"
    },
    "tags": []
   },
   "source": [
    "Now why grouping with Restro_name and city ?\n",
    "\n",
    "  Because it might be chances that the multiple 'city' (cities) having same restro_name (Restaurant Name) and \n",
    "the same city having multiple restaurants so you need both for grouping and replacing the null values"
   ]
  },
  {
   "cell_type": "markdown",
   "id": "2a5ed65b",
   "metadata": {
    "papermill": {
     "duration": 0.039254,
     "end_time": "2023-11-18T09:50:42.045241",
     "exception": false,
     "start_time": "2023-11-18T09:50:42.005987",
     "status": "completed"
    },
    "tags": []
   },
   "source": [
    "Operations on Restaurant City (city) column"
   ]
  },
  {
   "cell_type": "code",
   "execution_count": 26,
   "id": "e4ea49f2",
   "metadata": {
    "execution": {
     "iopub.execute_input": "2023-11-18T09:50:42.126417Z",
     "iopub.status.busy": "2023-11-18T09:50:42.125949Z",
     "iopub.status.idle": "2023-11-18T09:50:42.144216Z",
     "shell.execute_reply": "2023-11-18T09:50:42.143010Z"
    },
    "papermill": {
     "duration": 0.061931,
     "end_time": "2023-11-18T09:50:42.146831",
     "exception": false,
     "start_time": "2023-11-18T09:50:42.084900",
     "status": "completed"
    },
    "tags": []
   },
   "outputs": [
    {
     "data": {
      "text/html": [
       "<div>\n",
       "<style scoped>\n",
       "    .dataframe tbody tr th:only-of-type {\n",
       "        vertical-align: middle;\n",
       "    }\n",
       "\n",
       "    .dataframe tbody tr th {\n",
       "        vertical-align: top;\n",
       "    }\n",
       "\n",
       "    .dataframe thead th {\n",
       "        text-align: right;\n",
       "    }\n",
       "</style>\n",
       "<table border=\"1\" class=\"dataframe\">\n",
       "  <thead>\n",
       "    <tr style=\"text-align: right;\">\n",
       "      <th></th>\n",
       "      <th>Restro_full_address</th>\n",
       "      <th>city</th>\n",
       "    </tr>\n",
       "  </thead>\n",
       "  <tbody>\n",
       "    <tr>\n",
       "      <th>1662</th>\n",
       "      <td>6, Abbiah Layout KC Halli Main Road, Bommanaha...</td>\n",
       "      <td>NaN</td>\n",
       "    </tr>\n",
       "    <tr>\n",
       "      <th>13693</th>\n",
       "      <td>Chandapura- Anakal Main Road, Oppsite Vemana H...</td>\n",
       "      <td>NaN</td>\n",
       "    </tr>\n",
       "    <tr>\n",
       "      <th>16351</th>\n",
       "      <td>Kudlu Gate, Bommanahalli, Bangalore</td>\n",
       "      <td>NaN</td>\n",
       "    </tr>\n",
       "    <tr>\n",
       "      <th>26432</th>\n",
       "      <td>IB Road, Lorry Stand, Kushaal Nagar, Ward 10, ...</td>\n",
       "      <td>NaN</td>\n",
       "    </tr>\n",
       "    <tr>\n",
       "      <th>26519</th>\n",
       "      <td>Koramangala 8th Block, Bangalore</td>\n",
       "      <td>NaN</td>\n",
       "    </tr>\n",
       "    <tr>\n",
       "      <th>27672</th>\n",
       "      <td>6, Kathalipalya Village, 6th Cross, Koramangal...</td>\n",
       "      <td>NaN</td>\n",
       "    </tr>\n",
       "    <tr>\n",
       "      <th>28611</th>\n",
       "      <td>6, Kathalipalya Village, 6th Cross, Koramangal...</td>\n",
       "      <td>NaN</td>\n",
       "    </tr>\n",
       "    <tr>\n",
       "      <th>33457</th>\n",
       "      <td>80 Feet Road, Koramangala 4th Block, Bangalore</td>\n",
       "      <td>NaN</td>\n",
       "    </tr>\n",
       "    <tr>\n",
       "      <th>40354</th>\n",
       "      <td>399/34, 19th Main, Near Navarang Theatre, 2nd ...</td>\n",
       "      <td>NaN</td>\n",
       "    </tr>\n",
       "    <tr>\n",
       "      <th>40556</th>\n",
       "      <td>1630, 6th Main Road, AECS Layout E Block, Mara...</td>\n",
       "      <td>NaN</td>\n",
       "    </tr>\n",
       "    <tr>\n",
       "      <th>41980</th>\n",
       "      <td>1630, 6th Main Road, AECS Layout E Block, Mara...</td>\n",
       "      <td>NaN</td>\n",
       "    </tr>\n",
       "    <tr>\n",
       "      <th>46586</th>\n",
       "      <td>9, Magadi Main Road, Cholourpalya, Vijay Nagar</td>\n",
       "      <td>NaN</td>\n",
       "    </tr>\n",
       "    <tr>\n",
       "      <th>46609</th>\n",
       "      <td>West of Chord Road, Govindaraja Nagar, Below H...</td>\n",
       "      <td>NaN</td>\n",
       "    </tr>\n",
       "    <tr>\n",
       "      <th>47134</th>\n",
       "      <td>9, Magadi Main Road, Cholourpalya, Vijay Nagar</td>\n",
       "      <td>NaN</td>\n",
       "    </tr>\n",
       "  </tbody>\n",
       "</table>\n",
       "</div>"
      ],
      "text/plain": [
       "                                     Restro_full_address city\n",
       "1662   6, Abbiah Layout KC Halli Main Road, Bommanaha...  NaN\n",
       "13693  Chandapura- Anakal Main Road, Oppsite Vemana H...  NaN\n",
       "16351                Kudlu Gate, Bommanahalli, Bangalore  NaN\n",
       "26432  IB Road, Lorry Stand, Kushaal Nagar, Ward 10, ...  NaN\n",
       "26519                   Koramangala 8th Block, Bangalore  NaN\n",
       "27672  6, Kathalipalya Village, 6th Cross, Koramangal...  NaN\n",
       "28611  6, Kathalipalya Village, 6th Cross, Koramangal...  NaN\n",
       "33457     80 Feet Road, Koramangala 4th Block, Bangalore  NaN\n",
       "40354  399/34, 19th Main, Near Navarang Theatre, 2nd ...  NaN\n",
       "40556  1630, 6th Main Road, AECS Layout E Block, Mara...  NaN\n",
       "41980  1630, 6th Main Road, AECS Layout E Block, Mara...  NaN\n",
       "46586     9, Magadi Main Road, Cholourpalya, Vijay Nagar  NaN\n",
       "46609  West of Chord Road, Govindaraja Nagar, Below H...  NaN\n",
       "47134     9, Magadi Main Road, Cholourpalya, Vijay Nagar  NaN"
      ]
     },
     "execution_count": 26,
     "metadata": {},
     "output_type": "execute_result"
    }
   ],
   "source": [
    "new_df.loc[new_df['city'].isnull(),['Restro_full_address','city']]"
   ]
  },
  {
   "cell_type": "code",
   "execution_count": 27,
   "id": "a6ec7114",
   "metadata": {
    "execution": {
     "iopub.execute_input": "2023-11-18T09:50:42.233148Z",
     "iopub.status.busy": "2023-11-18T09:50:42.232727Z",
     "iopub.status.idle": "2023-11-18T09:50:44.383215Z",
     "shell.execute_reply": "2023-11-18T09:50:44.382122Z"
    },
    "papermill": {
     "duration": 2.195332,
     "end_time": "2023-11-18T09:50:44.385897",
     "exception": false,
     "start_time": "2023-11-18T09:50:42.190565",
     "status": "completed"
    },
    "tags": []
   },
   "outputs": [
    {
     "data": {
      "text/html": [
       "<div>\n",
       "<style scoped>\n",
       "    .dataframe tbody tr th:only-of-type {\n",
       "        vertical-align: middle;\n",
       "    }\n",
       "\n",
       "    .dataframe tbody tr th {\n",
       "        vertical-align: top;\n",
       "    }\n",
       "\n",
       "    .dataframe thead th {\n",
       "        text-align: right;\n",
       "    }\n",
       "</style>\n",
       "<table border=\"1\" class=\"dataframe\">\n",
       "  <thead>\n",
       "    <tr style=\"text-align: right;\">\n",
       "      <th></th>\n",
       "      <th>Restro_name</th>\n",
       "      <th>Restro_full_address</th>\n",
       "      <th>addrs</th>\n",
       "    </tr>\n",
       "  </thead>\n",
       "  <tbody>\n",
       "    <tr>\n",
       "      <th>0</th>\n",
       "      <td>#FeelTheROLL</td>\n",
       "      <td>Opposite Mantri Commercio, Outer Ring Road, De...</td>\n",
       "      <td>Devarabisanahalli</td>\n",
       "    </tr>\n",
       "    <tr>\n",
       "      <th>1</th>\n",
       "      <td>#L-81 Cafe</td>\n",
       "      <td>Sector 6, HSR Layout, HSR</td>\n",
       "      <td>HSR Layout</td>\n",
       "    </tr>\n",
       "    <tr>\n",
       "      <th>2</th>\n",
       "      <td>#Vibes Restro</td>\n",
       "      <td>Marasur Gate, Chandapura - Anekal Road, Near A...</td>\n",
       "      <td>Electronic City</td>\n",
       "    </tr>\n",
       "    <tr>\n",
       "      <th>3</th>\n",
       "      <td>#refuel</td>\n",
       "      <td>7, Ground Floor, RR Commercial Complex, Akshay...</td>\n",
       "      <td>Bannerghatta Road</td>\n",
       "    </tr>\n",
       "    <tr>\n",
       "      <th>4</th>\n",
       "      <td>'Brahmins' Thatte Idli</td>\n",
       "      <td>19, 1st main, 2nd cross, 3rd stage, 3rd block,...</td>\n",
       "      <td>Basaveshwara Nagar</td>\n",
       "    </tr>\n",
       "    <tr>\n",
       "      <th>...</th>\n",
       "      <td>...</td>\n",
       "      <td>...</td>\n",
       "      <td>...</td>\n",
       "    </tr>\n",
       "    <tr>\n",
       "      <th>12462</th>\n",
       "      <td>nu.tree</td>\n",
       "      <td>47/7 First floor, DoddaThogur Road, Near Velan...</td>\n",
       "      <td>Electronic City</td>\n",
       "    </tr>\n",
       "    <tr>\n",
       "      <th>12463</th>\n",
       "      <td>nu.tree</td>\n",
       "      <td>Ground Floor-Lobby Area, Brigade IRV Centre, N...</td>\n",
       "      <td>Whitefield</td>\n",
       "    </tr>\n",
       "    <tr>\n",
       "      <th>12464</th>\n",
       "      <td>re:cess - Hilton Bangalore Embassy GolfLinks</td>\n",
       "      <td>Hilton Bangalore Embassy GolfLinks, Embassy Go...</td>\n",
       "      <td>Domlur</td>\n",
       "    </tr>\n",
       "    <tr>\n",
       "      <th>12465</th>\n",
       "      <td>repEAT Hub</td>\n",
       "      <td>67/4, Bhoganahalli Road, JCR Layout, Panathur,...</td>\n",
       "      <td>Marathahalli</td>\n",
       "    </tr>\n",
       "    <tr>\n",
       "      <th>12466</th>\n",
       "      <td>sCoolMeal</td>\n",
       "      <td>197/293-3, 32nd Main, 1st Stage, BTM, Bangalore</td>\n",
       "      <td>BTM</td>\n",
       "    </tr>\n",
       "  </tbody>\n",
       "</table>\n",
       "<p>12467 rows × 3 columns</p>\n",
       "</div>"
      ],
      "text/plain": [
       "                                        Restro_name  \\\n",
       "0                                      #FeelTheROLL   \n",
       "1                                        #L-81 Cafe   \n",
       "2                                     #Vibes Restro   \n",
       "3                                           #refuel   \n",
       "4                            'Brahmins' Thatte Idli   \n",
       "...                                             ...   \n",
       "12462                                       nu.tree   \n",
       "12463                                       nu.tree   \n",
       "12464  re:cess - Hilton Bangalore Embassy GolfLinks   \n",
       "12465                                    repEAT Hub   \n",
       "12466                                     sCoolMeal   \n",
       "\n",
       "                                     Restro_full_address                addrs  \n",
       "0      Opposite Mantri Commercio, Outer Ring Road, De...    Devarabisanahalli  \n",
       "1                              Sector 6, HSR Layout, HSR           HSR Layout  \n",
       "2      Marasur Gate, Chandapura - Anekal Road, Near A...      Electronic City  \n",
       "3      7, Ground Floor, RR Commercial Complex, Akshay...    Bannerghatta Road  \n",
       "4      19, 1st main, 2nd cross, 3rd stage, 3rd block,...   Basaveshwara Nagar  \n",
       "...                                                  ...                  ...  \n",
       "12462  47/7 First floor, DoddaThogur Road, Near Velan...      Electronic City  \n",
       "12463  Ground Floor-Lobby Area, Brigade IRV Centre, N...           Whitefield  \n",
       "12464  Hilton Bangalore Embassy GolfLinks, Embassy Go...               Domlur  \n",
       "12465  67/4, Bhoganahalli Road, JCR Layout, Panathur,...         Marathahalli  \n",
       "12466    197/293-3, 32nd Main, 1st Stage, BTM, Bangalore                  BTM  \n",
       "\n",
       "[12467 rows x 3 columns]"
      ]
     },
     "execution_count": 27,
     "metadata": {},
     "output_type": "execute_result"
    }
   ],
   "source": [
    "# create a group of restaurant name and address and Split the Restaurant full address by ',' and considered only of value at -2 or at -1 \n",
    "address = new_df.groupby(['Restro_name','Restro_full_address']).agg({'Restro_full_address':lambda x:pd.Series.mode(x)[0]}).rename(columns = {'Restro_full_address':'addrs'})\n",
    "city_l = address.reset_index()\n",
    "city_l['addrs']=city_l.addrs.str.split(',').apply(lambda x: x[-2] if len(x)>1 else x[-1])\n",
    "city_l"
   ]
  },
  {
   "cell_type": "code",
   "execution_count": 28,
   "id": "d0d929e3",
   "metadata": {
    "execution": {
     "iopub.execute_input": "2023-11-18T09:50:44.469184Z",
     "iopub.status.busy": "2023-11-18T09:50:44.468749Z",
     "iopub.status.idle": "2023-11-18T09:50:44.571661Z",
     "shell.execute_reply": "2023-11-18T09:50:44.570579Z"
    },
    "papermill": {
     "duration": 0.1481,
     "end_time": "2023-11-18T09:50:44.574484",
     "exception": false,
     "start_time": "2023-11-18T09:50:44.426384",
     "status": "completed"
    },
    "tags": []
   },
   "outputs": [],
   "source": [
    "# match the column's data and if match found replace the respective value with missing value\n",
    "def add_city(x):\n",
    "    return city_l.loc[(x[0]==city_l['Restro_name']) & (x[1]==city_l['Restro_full_address']),'addrs'].values[0]\n",
    "\n",
    "new_df.loc[new_df['city'].isnull(),'city']=new_df.loc[new_df['city'].isna()].loc[:,['Restro_name','Restro_full_address']].apply(add_city,axis=1)"
   ]
  },
  {
   "cell_type": "code",
   "execution_count": 29,
   "id": "94587f31",
   "metadata": {
    "execution": {
     "iopub.execute_input": "2023-11-18T09:50:44.657246Z",
     "iopub.status.busy": "2023-11-18T09:50:44.656831Z",
     "iopub.status.idle": "2023-11-18T09:50:44.669083Z",
     "shell.execute_reply": "2023-11-18T09:50:44.668008Z"
    },
    "papermill": {
     "duration": 0.056445,
     "end_time": "2023-11-18T09:50:44.671466",
     "exception": false,
     "start_time": "2023-11-18T09:50:44.615021",
     "status": "completed"
    },
    "tags": []
   },
   "outputs": [
    {
     "data": {
      "text/plain": [
       "array(['Banashankari', 'Basavanagudi', 'Mysore Road', 'Jayanagar',\n",
       "       'Kumaraswamy Layout', 'Rajarajeshwari Nagar', 'Vijay Nagar',\n",
       "       'Uttarahalli', 'JP Nagar', 'South Bangalore', 'City Market',\n",
       "       'Nagarbhavi', 'Bannerghatta Road', 'BTM', 'Kanakapura Road',\n",
       "       'Bommanahalli', ' Bommanahalli', 'CV Raman Nagar',\n",
       "       'Electronic City', 'HSR', 'Marathahalli', 'Sarjapur Road',\n",
       "       'Wilson Garden', 'Shanti Nagar', 'Koramangala 5th Block',\n",
       "       'Koramangala 8th Block', 'Richmond Road', 'Koramangala 7th Block',\n",
       "       'Jalahalli', 'Koramangala 4th Block', 'Bellandur', 'Whitefield',\n",
       "       'East Bangalore', 'Old Airport Road', 'Indiranagar',\n",
       "       'Koramangala 1st Block', 'Frazer Town', 'RT Nagar', 'MG Road',\n",
       "       'Brigade Road', 'Lavelle Road', 'Church Street', 'Ulsoor',\n",
       "       'Residency Road', 'Shivajinagar', 'Infantry Road',\n",
       "       'St. Marks Road', 'Cunningham Road', 'Race Course Road',\n",
       "       'Commercial Street', 'Vasanth Nagar', 'HBR Layout', 'Domlur',\n",
       "       'Ejipura', 'Jeevan Bhima Nagar', 'Old Madras Road', 'Malleshwaram',\n",
       "       'Seshadripuram', 'Kammanahalli', 'Koramangala 6th Block',\n",
       "       'Majestic', 'Langford Town', 'Central Bangalore', 'Sanjay Nagar',\n",
       "       'Brookefield', 'ITPL Main Road, Whitefield',\n",
       "       'Varthur Main Road, Whitefield', 'KR Puram',\n",
       "       'Koramangala 2nd Block', 'Koramangala 3rd Block', 'Koramangala',\n",
       "       'Hosur Road', 'Rajajinagar', ' Electronic City', 'Banaswadi',\n",
       "       'North Bangalore', 'Nagawara', 'Hennur', 'Kalyan Nagar',\n",
       "       'New BEL Road', 'Jakkur', 'Rammurthy Nagar', 'Thippasandra',\n",
       "       'Kaggadasapura', 'Hebbal', 'Kengeri', ' Kalyan Nagar',\n",
       "       ' Koramangala 6th Block', ' Koramangala 4th Block', 'Sankey Road',\n",
       "       'Sadashiv Nagar', 'Basaveshwara Nagar', 'Yeshwantpur',\n",
       "       'West Bangalore', 'Magadi Road', 'Yelahanka', ' Rajajinagar',\n",
       "       ' Marathahalli', 'Sahakara Nagar', ' Cholourpalya',\n",
       "       ' Govindaraja Nagar', 'Peenya'], dtype=object)"
      ]
     },
     "execution_count": 29,
     "metadata": {},
     "output_type": "execute_result"
    }
   ],
   "source": [
    "new_df['city'].unique()"
   ]
  },
  {
   "cell_type": "code",
   "execution_count": 30,
   "id": "bb0bf76a",
   "metadata": {
    "execution": {
     "iopub.execute_input": "2023-11-18T09:50:44.754898Z",
     "iopub.status.busy": "2023-11-18T09:50:44.754524Z",
     "iopub.status.idle": "2023-11-18T09:50:44.766559Z",
     "shell.execute_reply": "2023-11-18T09:50:44.765494Z"
    },
    "papermill": {
     "duration": 0.05707,
     "end_time": "2023-11-18T09:50:44.769471",
     "exception": false,
     "start_time": "2023-11-18T09:50:44.712401",
     "status": "completed"
    },
    "tags": []
   },
   "outputs": [
    {
     "data": {
      "text/plain": [
       "0"
      ]
     },
     "execution_count": 30,
     "metadata": {},
     "output_type": "execute_result"
    }
   ],
   "source": [
    "new_df['city'].isnull().sum()"
   ]
  },
  {
   "cell_type": "markdown",
   "id": "9e857acd",
   "metadata": {
    "papermill": {
     "duration": 0.040546,
     "end_time": "2023-11-18T09:50:44.851648",
     "exception": false,
     "start_time": "2023-11-18T09:50:44.811102",
     "status": "completed"
    },
    "tags": []
   },
   "source": [
    "Operation on Restaurant type"
   ]
  },
  {
   "cell_type": "code",
   "execution_count": 31,
   "id": "963e6780",
   "metadata": {
    "execution": {
     "iopub.execute_input": "2023-11-18T09:50:44.936760Z",
     "iopub.status.busy": "2023-11-18T09:50:44.936279Z",
     "iopub.status.idle": "2023-11-18T09:50:44.956951Z",
     "shell.execute_reply": "2023-11-18T09:50:44.955569Z"
    },
    "papermill": {
     "duration": 0.067352,
     "end_time": "2023-11-18T09:50:44.959941",
     "exception": false,
     "start_time": "2023-11-18T09:50:44.892589",
     "status": "completed"
    },
    "tags": []
   },
   "outputs": [
    {
     "data": {
      "text/html": [
       "<div>\n",
       "<style scoped>\n",
       "    .dataframe tbody tr th:only-of-type {\n",
       "        vertical-align: middle;\n",
       "    }\n",
       "\n",
       "    .dataframe tbody tr th {\n",
       "        vertical-align: top;\n",
       "    }\n",
       "\n",
       "    .dataframe thead th {\n",
       "        text-align: right;\n",
       "    }\n",
       "</style>\n",
       "<table border=\"1\" class=\"dataframe\">\n",
       "  <thead>\n",
       "    <tr style=\"text-align: right;\">\n",
       "      <th></th>\n",
       "      <th>Restro_name</th>\n",
       "      <th>city</th>\n",
       "      <th>resto_type</th>\n",
       "      <th>listed_in(type)</th>\n",
       "    </tr>\n",
       "  </thead>\n",
       "  <tbody>\n",
       "    <tr>\n",
       "      <th>999</th>\n",
       "      <td>Mughlai Kitchen</td>\n",
       "      <td>BTM</td>\n",
       "      <td>NaN</td>\n",
       "      <td>Delivery</td>\n",
       "    </tr>\n",
       "    <tr>\n",
       "      <th>1300</th>\n",
       "      <td>Eat &amp; Joy Restaurant</td>\n",
       "      <td>JP Nagar</td>\n",
       "      <td>NaN</td>\n",
       "      <td>Delivery</td>\n",
       "    </tr>\n",
       "    <tr>\n",
       "      <th>1376</th>\n",
       "      <td>Kababish Restaurant</td>\n",
       "      <td>BTM</td>\n",
       "      <td>NaN</td>\n",
       "      <td>Delivery</td>\n",
       "    </tr>\n",
       "    <tr>\n",
       "      <th>1565</th>\n",
       "      <td>Goli Vada Pav No 1</td>\n",
       "      <td>Bannerghatta Road</td>\n",
       "      <td>NaN</td>\n",
       "      <td>Delivery</td>\n",
       "    </tr>\n",
       "    <tr>\n",
       "      <th>1637</th>\n",
       "      <td>Ammi's Biryani</td>\n",
       "      <td>Bannerghatta Road</td>\n",
       "      <td>NaN</td>\n",
       "      <td>Delivery</td>\n",
       "    </tr>\n",
       "    <tr>\n",
       "      <th>1662</th>\n",
       "      <td>Papa Khan Rasoi</td>\n",
       "      <td>Bommanahalli</td>\n",
       "      <td>NaN</td>\n",
       "      <td>Delivery</td>\n",
       "    </tr>\n",
       "    <tr>\n",
       "      <th>1822</th>\n",
       "      <td>Bottle Genie</td>\n",
       "      <td>JP Nagar</td>\n",
       "      <td>NaN</td>\n",
       "      <td>Delivery</td>\n",
       "    </tr>\n",
       "    <tr>\n",
       "      <th>2023</th>\n",
       "      <td>Goli Vada Pav No 1</td>\n",
       "      <td>Bannerghatta Road</td>\n",
       "      <td>NaN</td>\n",
       "      <td>Dine-out</td>\n",
       "    </tr>\n",
       "    <tr>\n",
       "      <th>2044</th>\n",
       "      <td>Ammi's Biryani</td>\n",
       "      <td>Bannerghatta Road</td>\n",
       "      <td>NaN</td>\n",
       "      <td>Dine-out</td>\n",
       "    </tr>\n",
       "    <tr>\n",
       "      <th>2330</th>\n",
       "      <td>Bottle Genie</td>\n",
       "      <td>JP Nagar</td>\n",
       "      <td>NaN</td>\n",
       "      <td>Dine-out</td>\n",
       "    </tr>\n",
       "  </tbody>\n",
       "</table>\n",
       "</div>"
      ],
      "text/plain": [
       "               Restro_name               city resto_type listed_in(type)\n",
       "999        Mughlai Kitchen                BTM        NaN        Delivery\n",
       "1300  Eat & Joy Restaurant           JP Nagar        NaN        Delivery\n",
       "1376   Kababish Restaurant                BTM        NaN        Delivery\n",
       "1565    Goli Vada Pav No 1  Bannerghatta Road        NaN        Delivery\n",
       "1637        Ammi's Biryani  Bannerghatta Road        NaN        Delivery\n",
       "1662       Papa Khan Rasoi       Bommanahalli        NaN        Delivery\n",
       "1822          Bottle Genie           JP Nagar        NaN        Delivery\n",
       "2023    Goli Vada Pav No 1  Bannerghatta Road        NaN        Dine-out\n",
       "2044        Ammi's Biryani  Bannerghatta Road        NaN        Dine-out\n",
       "2330          Bottle Genie           JP Nagar        NaN        Dine-out"
      ]
     },
     "execution_count": 31,
     "metadata": {},
     "output_type": "execute_result"
    }
   ],
   "source": [
    "new_df.loc[new_df['resto_type'].isnull(),['Restro_name','city','resto_type','listed_in(type)']].head(10)"
   ]
  },
  {
   "cell_type": "code",
   "execution_count": 32,
   "id": "51174f60",
   "metadata": {
    "execution": {
     "iopub.execute_input": "2023-11-18T09:50:45.045720Z",
     "iopub.status.busy": "2023-11-18T09:50:45.045305Z",
     "iopub.status.idle": "2023-11-18T09:50:48.032520Z",
     "shell.execute_reply": "2023-11-18T09:50:48.031343Z"
    },
    "papermill": {
     "duration": 3.032993,
     "end_time": "2023-11-18T09:50:48.035471",
     "exception": false,
     "start_time": "2023-11-18T09:50:45.002478",
     "status": "completed"
    },
    "tags": []
   },
   "outputs": [],
   "source": [
    "# Grouping with Restaurant name and city and restaurant type(listed_in(type)) by its mode and replace this value with null value of 'Resto_type'\n",
    "rest = new_df.groupby(['Restro_name','city']).agg({'listed_in(type)':pd.Series.mode})\n",
    "res = rest.reset_index()\n",
    "res = res.explode(['listed_in(type)'])\n",
    "\n",
    "def add_rest_type(x):\n",
    "    \n",
    "    ''' This function takes Restaurant name and city as a tuple where `Restro_type` is null. Then it will compare Restro_name and city \n",
    "    columns with grouped columns resceptively and return the `listed_in(type)' values'''\n",
    "    \n",
    "    return res.loc[(x[0]==res['Restro_name']) & (x[1]==res['city']),'listed_in(type)'].values\n",
    "\n",
    "# Replacing null value of resto_type with add_rest_type()'s value\n",
    "\n",
    "new_df.loc[new_df['resto_type'].isnull(),'resto_type']=new_df[new_df['resto_type'].isnull()].loc[:,['Restro_name','city']].apply(add_rest_type,axis=1)"
   ]
  },
  {
   "cell_type": "code",
   "execution_count": 33,
   "id": "597ea1ce",
   "metadata": {
    "execution": {
     "iopub.execute_input": "2023-11-18T09:50:48.119540Z",
     "iopub.status.busy": "2023-11-18T09:50:48.118873Z",
     "iopub.status.idle": "2023-11-18T09:50:48.201270Z",
     "shell.execute_reply": "2023-11-18T09:50:48.200153Z"
    },
    "papermill": {
     "duration": 0.127326,
     "end_time": "2023-11-18T09:50:48.203825",
     "exception": false,
     "start_time": "2023-11-18T09:50:48.076499",
     "status": "completed"
    },
    "tags": []
   },
   "outputs": [
    {
     "data": {
      "text/plain": [
       "array(['Casual Dining', 'Cafe', 'Quick Bites', 'Delivery', 'Mess',\n",
       "       'Dessert Parlor', 'Bakery', 'Pub', 'Takeaway', 'Fine Dining',\n",
       "       'Beverage Shop', 'Sweet Shop', 'Bar', 'Confectionery', 'Kiosk',\n",
       "       'Food Truck', 'Microbrewery', 'Lounge', 'Food Court', 'Dhaba',\n",
       "       'Dine-out', 'Desserts', 'Club', 'Irani Cafee', 'Bhojanalya',\n",
       "       'Pop Up', 'Meat Shop', 'Buffet', 'Cafes'], dtype=object)"
      ]
     },
     "execution_count": 33,
     "metadata": {},
     "output_type": "execute_result"
    }
   ],
   "source": [
    "new_df = new_df.explode(['resto_type']) \n",
    "new_df.resto_type.unique()"
   ]
  },
  {
   "cell_type": "code",
   "execution_count": 34,
   "id": "a22f4765",
   "metadata": {
    "execution": {
     "iopub.execute_input": "2023-11-18T09:50:48.290721Z",
     "iopub.status.busy": "2023-11-18T09:50:48.290303Z",
     "iopub.status.idle": "2023-11-18T09:50:48.303858Z",
     "shell.execute_reply": "2023-11-18T09:50:48.302396Z"
    },
    "papermill": {
     "duration": 0.061758,
     "end_time": "2023-11-18T09:50:48.307280",
     "exception": false,
     "start_time": "2023-11-18T09:50:48.245522",
     "status": "completed"
    },
    "tags": []
   },
   "outputs": [],
   "source": [
    "# Now you don't need listed_in(type) column\n",
    "new_df.drop('listed_in(type)',axis=1,inplace=True)"
   ]
  },
  {
   "cell_type": "code",
   "execution_count": 35,
   "id": "72c5b6b2",
   "metadata": {
    "execution": {
     "iopub.execute_input": "2023-11-18T09:50:48.393852Z",
     "iopub.status.busy": "2023-11-18T09:50:48.393139Z",
     "iopub.status.idle": "2023-11-18T09:50:48.422455Z",
     "shell.execute_reply": "2023-11-18T09:50:48.421208Z"
    },
    "papermill": {
     "duration": 0.076562,
     "end_time": "2023-11-18T09:50:48.425276",
     "exception": false,
     "start_time": "2023-11-18T09:50:48.348714",
     "status": "completed"
    },
    "tags": []
   },
   "outputs": [],
   "source": [
    "# Replace the some of value of restro_type \n",
    "new_df['resto_type'] =new_df['resto_type'].astype(str).replace(['Dine-out','Cafes','Bhojanalya','Fine Dining','Desserts'],['Casual Dining','Cafe','Mess','Casual Dining','Dessert Parlor'])"
   ]
  },
  {
   "cell_type": "code",
   "execution_count": 36,
   "id": "3bb8836e",
   "metadata": {
    "execution": {
     "iopub.execute_input": "2023-11-18T09:50:48.511403Z",
     "iopub.status.busy": "2023-11-18T09:50:48.510960Z",
     "iopub.status.idle": "2023-11-18T09:50:48.523028Z",
     "shell.execute_reply": "2023-11-18T09:50:48.522037Z"
    },
    "papermill": {
     "duration": 0.058009,
     "end_time": "2023-11-18T09:50:48.525387",
     "exception": false,
     "start_time": "2023-11-18T09:50:48.467378",
     "status": "completed"
    },
    "tags": []
   },
   "outputs": [
    {
     "data": {
      "text/plain": [
       "array(['Casual Dining', 'Cafe', 'Quick Bites', 'Delivery', 'Mess',\n",
       "       'Dessert Parlor', 'Bakery', 'Pub', 'Takeaway', 'Beverage Shop',\n",
       "       'Sweet Shop', 'Bar', 'Confectionery', 'Kiosk', 'Food Truck',\n",
       "       'Microbrewery', 'Lounge', 'Food Court', 'Dhaba', 'Club',\n",
       "       'Irani Cafee', 'Pop Up', 'Meat Shop', 'Buffet'], dtype=object)"
      ]
     },
     "execution_count": 36,
     "metadata": {},
     "output_type": "execute_result"
    }
   ],
   "source": [
    "new_df['resto_type'].unique()"
   ]
  },
  {
   "cell_type": "code",
   "execution_count": 37,
   "id": "c261b4da",
   "metadata": {
    "execution": {
     "iopub.execute_input": "2023-11-18T09:50:48.611137Z",
     "iopub.status.busy": "2023-11-18T09:50:48.610299Z",
     "iopub.status.idle": "2023-11-18T09:50:48.694473Z",
     "shell.execute_reply": "2023-11-18T09:50:48.693328Z"
    },
    "papermill": {
     "duration": 0.129614,
     "end_time": "2023-11-18T09:50:48.696922",
     "exception": false,
     "start_time": "2023-11-18T09:50:48.567308",
     "status": "completed"
    },
    "tags": []
   },
   "outputs": [
    {
     "data": {
      "text/plain": [
       "14059"
      ]
     },
     "execution_count": 37,
     "metadata": {},
     "output_type": "execute_result"
    }
   ],
   "source": [
    "new_df.duplicated().sum()"
   ]
  },
  {
   "cell_type": "code",
   "execution_count": 38,
   "id": "42dcd96b",
   "metadata": {
    "execution": {
     "iopub.execute_input": "2023-11-18T09:50:48.782680Z",
     "iopub.status.busy": "2023-11-18T09:50:48.782280Z",
     "iopub.status.idle": "2023-11-18T09:50:48.865743Z",
     "shell.execute_reply": "2023-11-18T09:50:48.864505Z"
    },
    "papermill": {
     "duration": 0.129452,
     "end_time": "2023-11-18T09:50:48.868469",
     "exception": false,
     "start_time": "2023-11-18T09:50:48.739017",
     "status": "completed"
    },
    "tags": []
   },
   "outputs": [],
   "source": [
    "new_df.drop_duplicates(inplace = True)"
   ]
  },
  {
   "cell_type": "code",
   "execution_count": 39,
   "id": "94cd041d",
   "metadata": {
    "execution": {
     "iopub.execute_input": "2023-11-18T09:50:48.954511Z",
     "iopub.status.busy": "2023-11-18T09:50:48.953946Z",
     "iopub.status.idle": "2023-11-18T09:50:48.965341Z",
     "shell.execute_reply": "2023-11-18T09:50:48.964119Z"
    },
    "papermill": {
     "duration": 0.057534,
     "end_time": "2023-11-18T09:50:48.967721",
     "exception": false,
     "start_time": "2023-11-18T09:50:48.910187",
     "status": "completed"
    },
    "tags": []
   },
   "outputs": [
    {
     "data": {
      "text/plain": [
       "0"
      ]
     },
     "execution_count": 39,
     "metadata": {},
     "output_type": "execute_result"
    }
   ],
   "source": [
    "new_df['resto_type'].isnull().sum()"
   ]
  },
  {
   "cell_type": "markdown",
   "id": "20f760a8",
   "metadata": {
    "papermill": {
     "duration": 0.041787,
     "end_time": "2023-11-18T09:50:49.052095",
     "exception": false,
     "start_time": "2023-11-18T09:50:49.010308",
     "status": "completed"
    },
    "tags": []
   },
   "source": [
    "Operation onn Approx cost for two people"
   ]
  },
  {
   "cell_type": "code",
   "execution_count": 40,
   "id": "05774824",
   "metadata": {
    "execution": {
     "iopub.execute_input": "2023-11-18T09:50:49.137557Z",
     "iopub.status.busy": "2023-11-18T09:50:49.137164Z",
     "iopub.status.idle": "2023-11-18T09:50:49.146118Z",
     "shell.execute_reply": "2023-11-18T09:50:49.144887Z"
    },
    "papermill": {
     "duration": 0.054961,
     "end_time": "2023-11-18T09:50:49.148876",
     "exception": false,
     "start_time": "2023-11-18T09:50:49.093915",
     "status": "completed"
    },
    "tags": []
   },
   "outputs": [
    {
     "data": {
      "text/plain": [
       "51620      600\n",
       "51624      300\n",
       "51627      300\n",
       "51628    1,800\n",
       "51631      250\n",
       "51632      350\n",
       "51641      NaN\n",
       "51677      800\n",
       "51677      800\n",
       "51714    2,000\n",
       "Name: approx_cost_for_two_people, dtype: object"
      ]
     },
     "execution_count": 40,
     "metadata": {},
     "output_type": "execute_result"
    }
   ],
   "source": [
    "# it contain cost with separated by ',' so you need to do some operation on it to convert it into float  \n",
    "new_df.approx_cost_for_two_people.tail(10)"
   ]
  },
  {
   "cell_type": "code",
   "execution_count": 41,
   "id": "0c5c0d94",
   "metadata": {
    "execution": {
     "iopub.execute_input": "2023-11-18T09:50:49.237136Z",
     "iopub.status.busy": "2023-11-18T09:50:49.236738Z",
     "iopub.status.idle": "2023-11-18T09:50:49.258942Z",
     "shell.execute_reply": "2023-11-18T09:50:49.257677Z"
    },
    "papermill": {
     "duration": 0.068636,
     "end_time": "2023-11-18T09:50:49.261654",
     "exception": false,
     "start_time": "2023-11-18T09:50:49.193018",
     "status": "completed"
    },
    "tags": []
   },
   "outputs": [],
   "source": [
    "# before converting it into float you need to replace the ','\n",
    "new_df['approx_cost_for_two_people']= new_df['approx_cost_for_two_people'].str.replace(',','')"
   ]
  },
  {
   "cell_type": "code",
   "execution_count": 42,
   "id": "ab6fa597",
   "metadata": {
    "execution": {
     "iopub.execute_input": "2023-11-18T09:50:49.347573Z",
     "iopub.status.busy": "2023-11-18T09:50:49.347184Z",
     "iopub.status.idle": "2023-11-18T09:50:49.358707Z",
     "shell.execute_reply": "2023-11-18T09:50:49.357616Z"
    },
    "papermill": {
     "duration": 0.057309,
     "end_time": "2023-11-18T09:50:49.361017",
     "exception": false,
     "start_time": "2023-11-18T09:50:49.303708",
     "status": "completed"
    },
    "tags": []
   },
   "outputs": [],
   "source": [
    "new_df['approx_cost_for_two_people']=new_df['approx_cost_for_two_people'].astype(float)"
   ]
  },
  {
   "cell_type": "code",
   "execution_count": 43,
   "id": "a71d5758",
   "metadata": {
    "execution": {
     "iopub.execute_input": "2023-11-18T09:50:49.446727Z",
     "iopub.status.busy": "2023-11-18T09:50:49.446347Z",
     "iopub.status.idle": "2023-11-18T09:50:49.463375Z",
     "shell.execute_reply": "2023-11-18T09:50:49.462560Z"
    },
    "papermill": {
     "duration": 0.0625,
     "end_time": "2023-11-18T09:50:49.465495",
     "exception": false,
     "start_time": "2023-11-18T09:50:49.402995",
     "status": "completed"
    },
    "tags": []
   },
   "outputs": [
    {
     "data": {
      "text/html": [
       "<div>\n",
       "<style scoped>\n",
       "    .dataframe tbody tr th:only-of-type {\n",
       "        vertical-align: middle;\n",
       "    }\n",
       "\n",
       "    .dataframe tbody tr th {\n",
       "        vertical-align: top;\n",
       "    }\n",
       "\n",
       "    .dataframe thead th {\n",
       "        text-align: right;\n",
       "    }\n",
       "</style>\n",
       "<table border=\"1\" class=\"dataframe\">\n",
       "  <thead>\n",
       "    <tr style=\"text-align: right;\">\n",
       "      <th></th>\n",
       "      <th>Restro_full_address</th>\n",
       "      <th>Restro_name</th>\n",
       "      <th>online_order</th>\n",
       "      <th>book_table</th>\n",
       "      <th>ratings</th>\n",
       "      <th>votes</th>\n",
       "      <th>phone</th>\n",
       "      <th>city</th>\n",
       "      <th>resto_type</th>\n",
       "      <th>cuisines</th>\n",
       "      <th>approx_cost_for_two_people</th>\n",
       "    </tr>\n",
       "  </thead>\n",
       "  <tbody>\n",
       "    <tr>\n",
       "      <th>1662</th>\n",
       "      <td>6, Abbiah Layout KC Halli Main Road, Bommanaha...</td>\n",
       "      <td>Papa Khan Rasoi</td>\n",
       "      <td>No</td>\n",
       "      <td>No</td>\n",
       "      <td>NaN</td>\n",
       "      <td>0</td>\n",
       "      <td>NaN</td>\n",
       "      <td>Bommanahalli</td>\n",
       "      <td>Delivery</td>\n",
       "      <td>NaN</td>\n",
       "      <td>NaN</td>\n",
       "    </tr>\n",
       "    <tr>\n",
       "      <th>1768</th>\n",
       "      <td>45, 14th Main, 7th phase, Puttehahalli Palya, ...</td>\n",
       "      <td>Innate</td>\n",
       "      <td>No</td>\n",
       "      <td>No</td>\n",
       "      <td>NaN</td>\n",
       "      <td>0</td>\n",
       "      <td>NaN</td>\n",
       "      <td>JP Nagar</td>\n",
       "      <td>Delivery</td>\n",
       "      <td>Beverages</td>\n",
       "      <td>NaN</td>\n",
       "    </tr>\n",
       "    <tr>\n",
       "      <th>1795</th>\n",
       "      <td>8/3, Opposite Suryadhoya Convention hall, Bann...</td>\n",
       "      <td>Super Chef's (New Royal treat)</td>\n",
       "      <td>No</td>\n",
       "      <td>No</td>\n",
       "      <td>NaN</td>\n",
       "      <td>0</td>\n",
       "      <td>NaN</td>\n",
       "      <td>Bannerghatta Road</td>\n",
       "      <td>Quick Bites</td>\n",
       "      <td>North Indian, Chinese, South Indian</td>\n",
       "      <td>NaN</td>\n",
       "    </tr>\n",
       "    <tr>\n",
       "      <th>3069</th>\n",
       "      <td>8/3, Opposite Suryadhoya Convention hall, Bann...</td>\n",
       "      <td>Super Chef's (New Royal treat)</td>\n",
       "      <td>No</td>\n",
       "      <td>No</td>\n",
       "      <td>-</td>\n",
       "      <td>0</td>\n",
       "      <td>NaN</td>\n",
       "      <td>Bannerghatta Road</td>\n",
       "      <td>Quick Bites</td>\n",
       "      <td>North Indian, Chinese, South Indian</td>\n",
       "      <td>NaN</td>\n",
       "    </tr>\n",
       "    <tr>\n",
       "      <th>3774</th>\n",
       "      <td>Ibis Bengaluru, Opposite RMZ Ecospace Business...</td>\n",
       "      <td>The Hub - Ibis Bengaluru</td>\n",
       "      <td>No</td>\n",
       "      <td>No</td>\n",
       "      <td>3.9/5</td>\n",
       "      <td>237</td>\n",
       "      <td>NaN</td>\n",
       "      <td>Marathahalli</td>\n",
       "      <td>Bar</td>\n",
       "      <td>Finger Food</td>\n",
       "      <td>NaN</td>\n",
       "    </tr>\n",
       "  </tbody>\n",
       "</table>\n",
       "</div>"
      ],
      "text/plain": [
       "                                    Restro_full_address  \\\n",
       "1662  6, Abbiah Layout KC Halli Main Road, Bommanaha...   \n",
       "1768  45, 14th Main, 7th phase, Puttehahalli Palya, ...   \n",
       "1795  8/3, Opposite Suryadhoya Convention hall, Bann...   \n",
       "3069  8/3, Opposite Suryadhoya Convention hall, Bann...   \n",
       "3774  Ibis Bengaluru, Opposite RMZ Ecospace Business...   \n",
       "\n",
       "                         Restro_name online_order book_table ratings  votes  \\\n",
       "1662                 Papa Khan Rasoi           No         No     NaN      0   \n",
       "1768                          Innate           No         No     NaN      0   \n",
       "1795  Super Chef's (New Royal treat)           No         No     NaN      0   \n",
       "3069  Super Chef's (New Royal treat)           No         No       -      0   \n",
       "3774        The Hub - Ibis Bengaluru           No         No   3.9/5    237   \n",
       "\n",
       "     phone               city   resto_type  \\\n",
       "1662   NaN       Bommanahalli     Delivery   \n",
       "1768   NaN           JP Nagar     Delivery   \n",
       "1795   NaN  Bannerghatta Road  Quick Bites   \n",
       "3069   NaN  Bannerghatta Road  Quick Bites   \n",
       "3774   NaN       Marathahalli          Bar   \n",
       "\n",
       "                                 cuisines  approx_cost_for_two_people  \n",
       "1662                                  NaN                         NaN  \n",
       "1768                            Beverages                         NaN  \n",
       "1795  North Indian, Chinese, South Indian                         NaN  \n",
       "3069  North Indian, Chinese, South Indian                         NaN  \n",
       "3774                          Finger Food                         NaN  "
      ]
     },
     "execution_count": 43,
     "metadata": {},
     "output_type": "execute_result"
    }
   ],
   "source": [
    "new_df[new_df['approx_cost_for_two_people'].isnull()].head()"
   ]
  },
  {
   "cell_type": "code",
   "execution_count": 44,
   "id": "780c2d53",
   "metadata": {
    "execution": {
     "iopub.execute_input": "2023-11-18T09:50:49.553756Z",
     "iopub.status.busy": "2023-11-18T09:50:49.552581Z",
     "iopub.status.idle": "2023-11-18T09:50:49.592463Z",
     "shell.execute_reply": "2023-11-18T09:50:49.591355Z"
    },
    "papermill": {
     "duration": 0.086539,
     "end_time": "2023-11-18T09:50:49.595289",
     "exception": false,
     "start_time": "2023-11-18T09:50:49.508750",
     "status": "completed"
    },
    "tags": []
   },
   "outputs": [],
   "source": [
    "def approx_cost():\n",
    "    '''This function use to replace the missing values by grouping restro_name,city and \n",
    "    approx_cost_for_two_people by calculating the mean of approx_cost_for_two_people column.\n",
    "  '''\n",
    "    \n",
    "    x=new_df.groupby([\"Restro_name\",'city']).agg({'approx_cost_for_two_people':np.mean})\n",
    "    x.reset_index(inplace=True)\n",
    "    return x[['Restro_name','approx_cost_for_two_people']]\n",
    "\n",
    "df1=approx_cost()"
   ]
  },
  {
   "cell_type": "code",
   "execution_count": 45,
   "id": "eca85bbb",
   "metadata": {
    "execution": {
     "iopub.execute_input": "2023-11-18T09:50:49.682174Z",
     "iopub.status.busy": "2023-11-18T09:50:49.681116Z",
     "iopub.status.idle": "2023-11-18T09:50:53.412742Z",
     "shell.execute_reply": "2023-11-18T09:50:53.411515Z"
    },
    "papermill": {
     "duration": 3.777937,
     "end_time": "2023-11-18T09:50:53.415484",
     "exception": false,
     "start_time": "2023-11-18T09:50:49.637547",
     "status": "completed"
    },
    "tags": []
   },
   "outputs": [
    {
     "data": {
      "text/plain": [
       "0                                                    Jalsa\n",
       "1                                           Spice Elephant\n",
       "2                                          San Churro Cafe\n",
       "2                                          San Churro Cafe\n",
       "3                                    Addhuri Udupi Bhojana\n",
       "                               ...                        \n",
       "51632                                     SeeYa Restaurant\n",
       "51641                                        Andhra Spices\n",
       "51677                                              Bhagini\n",
       "51677                                              Bhagini\n",
       "51714    Plunge - Sheraton Grand Bengaluru Whitefield H...\n",
       "Name: Restro_name, Length: 29101, dtype: object"
      ]
     },
     "execution_count": 45,
     "metadata": {},
     "output_type": "execute_result"
    }
   ],
   "source": [
    "# performing fill null values\n",
    "for i in df1.values:\n",
    "    try:\n",
    "        if i[0] in list(new_df.loc[new_df['approx_cost_for_two_people'].isna(),'Restro_name']):\n",
    "            a=float(i[1])\n",
    "            if a>0:\n",
    "                new_df.loc[new_df['Restro_name']==i[0],'approx_cost_for_two_people'] = a\n",
    "    except:\n",
    "        pass\n",
    "new_df['Restro_name']"
   ]
  },
  {
   "cell_type": "code",
   "execution_count": 46,
   "id": "11466809",
   "metadata": {
    "execution": {
     "iopub.execute_input": "2023-11-18T09:50:53.504270Z",
     "iopub.status.busy": "2023-11-18T09:50:53.503870Z",
     "iopub.status.idle": "2023-11-18T09:50:53.509689Z",
     "shell.execute_reply": "2023-11-18T09:50:53.508565Z"
    },
    "papermill": {
     "duration": 0.05425,
     "end_time": "2023-11-18T09:50:53.512218",
     "exception": false,
     "start_time": "2023-11-18T09:50:53.457968",
     "status": "completed"
    },
    "tags": []
   },
   "outputs": [],
   "source": [
    "new_df['approx_cost_for_two_people']=new_df['approx_cost_for_two_people'].round(2)"
   ]
  },
  {
   "cell_type": "code",
   "execution_count": 47,
   "id": "daaee6e2",
   "metadata": {
    "execution": {
     "iopub.execute_input": "2023-11-18T09:50:53.599377Z",
     "iopub.status.busy": "2023-11-18T09:50:53.598939Z",
     "iopub.status.idle": "2023-11-18T09:50:53.606772Z",
     "shell.execute_reply": "2023-11-18T09:50:53.605828Z"
    },
    "papermill": {
     "duration": 0.054211,
     "end_time": "2023-11-18T09:50:53.609169",
     "exception": false,
     "start_time": "2023-11-18T09:50:53.554958",
     "status": "completed"
    },
    "tags": []
   },
   "outputs": [
    {
     "data": {
      "text/plain": [
       "array([ 800.  ,  300.  ,  600.  ,  700.  ,  550.  ,  500.  ,  450.  ,\n",
       "        650.  ,  400.  ,  900.  ,  200.  ,  750.  ,  150.  ,  850.  ,\n",
       "        100.  , 1200.  ,  350.  ,  250.  ,  950.  , 1000.  ,  166.67,\n",
       "       1500.  , 1300.  ,  199.  ,   80.  , 1100.  ,  160.  , 1600.  ,\n",
       "        230.  ,  130.  ,   50.  ,  190.  , 1700.  ,     nan, 1400.  ,\n",
       "        180.  , 1350.  , 2200.  , 2000.  , 1800.  , 1900.  ,  330.  ,\n",
       "       2500.  , 2100.  , 3000.  , 2800.  , 3400.  , 1128.57,   40.  ,\n",
       "       1250.  , 3500.  , 4000.  , 2400.  , 2600.  ,  120.  , 1450.  ,\n",
       "        469.  ,   70.  , 3200.  ,   60.  ,  560.  ,  240.  ,  360.  ,\n",
       "       6000.  , 1050.  , 2300.  , 4100.  , 5000.  , 3700.  , 1650.  ,\n",
       "       2700.  , 4500.  ,  140.  ])"
      ]
     },
     "execution_count": 47,
     "metadata": {},
     "output_type": "execute_result"
    }
   ],
   "source": [
    "new_df['approx_cost_for_two_people'].unique()"
   ]
  },
  {
   "cell_type": "code",
   "execution_count": 48,
   "id": "85fcab97",
   "metadata": {
    "execution": {
     "iopub.execute_input": "2023-11-18T09:50:53.696549Z",
     "iopub.status.busy": "2023-11-18T09:50:53.696154Z",
     "iopub.status.idle": "2023-11-18T09:50:53.733263Z",
     "shell.execute_reply": "2023-11-18T09:50:53.732131Z"
    },
    "papermill": {
     "duration": 0.083322,
     "end_time": "2023-11-18T09:50:53.735595",
     "exception": false,
     "start_time": "2023-11-18T09:50:53.652273",
     "status": "completed"
    },
    "tags": []
   },
   "outputs": [
    {
     "data": {
      "text/plain": [
       "Restro_full_address              0\n",
       "Restro_name                      0\n",
       "online_order                     0\n",
       "book_table                       0\n",
       "ratings                       3381\n",
       "votes                            0\n",
       "phone                          610\n",
       "city                             0\n",
       "resto_type                       0\n",
       "cuisines                        35\n",
       "approx_cost_for_two_people      56\n",
       "dtype: int64"
      ]
     },
     "execution_count": 48,
     "metadata": {},
     "output_type": "execute_result"
    }
   ],
   "source": [
    "new_df.isnull().sum()"
   ]
  },
  {
   "cell_type": "markdown",
   "id": "05c316d0",
   "metadata": {
    "papermill": {
     "duration": 0.042994,
     "end_time": "2023-11-18T09:50:53.822237",
     "exception": false,
     "start_time": "2023-11-18T09:50:53.779243",
     "status": "completed"
    },
    "tags": []
   },
   "source": [
    "Operation on Cuisines column"
   ]
  },
  {
   "cell_type": "code",
   "execution_count": 49,
   "id": "3f9e4714",
   "metadata": {
    "execution": {
     "iopub.execute_input": "2023-11-18T09:50:53.910383Z",
     "iopub.status.busy": "2023-11-18T09:50:53.909964Z",
     "iopub.status.idle": "2023-11-18T09:50:53.920283Z",
     "shell.execute_reply": "2023-11-18T09:50:53.919343Z"
    },
    "papermill": {
     "duration": 0.057667,
     "end_time": "2023-11-18T09:50:53.922798",
     "exception": false,
     "start_time": "2023-11-18T09:50:53.865131",
     "status": "completed"
    },
    "tags": []
   },
   "outputs": [
    {
     "data": {
      "text/plain": [
       "array(['North Indian, Mughlai, Chinese', 'Chinese, North Indian, Thai',\n",
       "       'Cafe, Mexican, Italian', ...,\n",
       "       'North Indian, Street Food, Biryani', 'Chinese, Mughlai',\n",
       "       'North Indian, Chinese, Arabian, Momos'], dtype=object)"
      ]
     },
     "execution_count": 49,
     "metadata": {},
     "output_type": "execute_result"
    }
   ],
   "source": [
    "new_df.cuisines.unique()"
   ]
  },
  {
   "cell_type": "code",
   "execution_count": 50,
   "id": "99d2a48a",
   "metadata": {
    "execution": {
     "iopub.execute_input": "2023-11-18T09:50:54.012045Z",
     "iopub.status.busy": "2023-11-18T09:50:54.011380Z",
     "iopub.status.idle": "2023-11-18T09:52:00.489344Z",
     "shell.execute_reply": "2023-11-18T09:52:00.487856Z"
    },
    "papermill": {
     "duration": 66.52668,
     "end_time": "2023-11-18T09:52:00.492633",
     "exception": false,
     "start_time": "2023-11-18T09:50:53.965953",
     "status": "completed"
    },
    "tags": []
   },
   "outputs": [],
   "source": [
    "def add_cuisines(x):\n",
    "    '''This function group the restro_name,city and cuisines by mode \n",
    "    and match the columns with x (tuple having Restro_name and city) and return the value'''\n",
    "    \n",
    "    a= new_df.loc[new_df['cuisines'].notna()].groupby(['Restro_name','city']).agg({'cuisines':pd.Series.mode})\n",
    "    l=a.reset_index()\n",
    "    return l.loc[(x[0]==l['Restro_name']) & (x[1]==l['city']),'cuisines'].values\n",
    "\n",
    "# fill missing value with appropiate data\n",
    "new_df.loc[new_df['cuisines'].isnull(),'cuisines']=new_df[new_df['cuisines'].isnull()].loc[:,['Restro_name','city']].apply(add_cuisines,axis=1)"
   ]
  },
  {
   "cell_type": "code",
   "execution_count": 51,
   "id": "47584ca6",
   "metadata": {
    "execution": {
     "iopub.execute_input": "2023-11-18T09:52:00.584564Z",
     "iopub.status.busy": "2023-11-18T09:52:00.584174Z",
     "iopub.status.idle": "2023-11-18T09:52:00.635481Z",
     "shell.execute_reply": "2023-11-18T09:52:00.634398Z"
    },
    "papermill": {
     "duration": 0.101558,
     "end_time": "2023-11-18T09:52:00.637974",
     "exception": false,
     "start_time": "2023-11-18T09:52:00.536416",
     "status": "completed"
    },
    "tags": []
   },
   "outputs": [],
   "source": [
    "new_df['cuisines']=new_df['cuisines'].str.split(', ')"
   ]
  },
  {
   "cell_type": "code",
   "execution_count": 52,
   "id": "9b8079a5",
   "metadata": {
    "execution": {
     "iopub.execute_input": "2023-11-18T09:52:00.726169Z",
     "iopub.status.busy": "2023-11-18T09:52:00.725737Z",
     "iopub.status.idle": "2023-11-18T09:52:00.801815Z",
     "shell.execute_reply": "2023-11-18T09:52:00.800686Z"
    },
    "papermill": {
     "duration": 0.123557,
     "end_time": "2023-11-18T09:52:00.804627",
     "exception": false,
     "start_time": "2023-11-18T09:52:00.681070",
     "status": "completed"
    },
    "tags": []
   },
   "outputs": [],
   "source": [
    "new_df=new_df.explode('cuisines')"
   ]
  },
  {
   "cell_type": "code",
   "execution_count": 53,
   "id": "3c32ec4f",
   "metadata": {
    "execution": {
     "iopub.execute_input": "2023-11-18T09:52:00.892272Z",
     "iopub.status.busy": "2023-11-18T09:52:00.891865Z",
     "iopub.status.idle": "2023-11-18T09:52:00.900613Z",
     "shell.execute_reply": "2023-11-18T09:52:00.899517Z"
    },
    "papermill": {
     "duration": 0.055206,
     "end_time": "2023-11-18T09:52:00.902858",
     "exception": false,
     "start_time": "2023-11-18T09:52:00.847652",
     "status": "completed"
    },
    "tags": []
   },
   "outputs": [
    {
     "data": {
      "text/plain": [
       "51677          Andhra\n",
       "51677    South Indian\n",
       "51677         Chinese\n",
       "51677    North Indian\n",
       "51714     Finger Food\n",
       "Name: cuisines, dtype: object"
      ]
     },
     "execution_count": 53,
     "metadata": {},
     "output_type": "execute_result"
    }
   ],
   "source": [
    "new_df.cuisines.tail()"
   ]
  },
  {
   "cell_type": "code",
   "execution_count": 54,
   "id": "f1302ec4",
   "metadata": {
    "execution": {
     "iopub.execute_input": "2023-11-18T09:52:00.990708Z",
     "iopub.status.busy": "2023-11-18T09:52:00.990288Z",
     "iopub.status.idle": "2023-11-18T09:52:01.069134Z",
     "shell.execute_reply": "2023-11-18T09:52:01.067922Z"
    },
    "papermill": {
     "duration": 0.125795,
     "end_time": "2023-11-18T09:52:01.071786",
     "exception": false,
     "start_time": "2023-11-18T09:52:00.945991",
     "status": "completed"
    },
    "tags": []
   },
   "outputs": [
    {
     "data": {
      "text/plain": [
       "Restro_full_address              0\n",
       "Restro_name                      0\n",
       "online_order                     0\n",
       "book_table                       0\n",
       "ratings                       6552\n",
       "votes                            0\n",
       "phone                         1441\n",
       "city                             0\n",
       "resto_type                       0\n",
       "cuisines                        35\n",
       "approx_cost_for_two_people     128\n",
       "dtype: int64"
      ]
     },
     "execution_count": 54,
     "metadata": {},
     "output_type": "execute_result"
    }
   ],
   "source": [
    "new_df.isnull().sum()"
   ]
  },
  {
   "cell_type": "markdown",
   "id": "fe1a6f12",
   "metadata": {
    "papermill": {
     "duration": 0.044241,
     "end_time": "2023-11-18T09:52:01.159742",
     "exception": false,
     "start_time": "2023-11-18T09:52:01.115501",
     "status": "completed"
    },
    "tags": []
   },
   "source": [
    "Operations on Ratings (ratings) column"
   ]
  },
  {
   "cell_type": "code",
   "execution_count": 55,
   "id": "5c8c33cc",
   "metadata": {
    "execution": {
     "iopub.execute_input": "2023-11-18T09:52:01.251071Z",
     "iopub.status.busy": "2023-11-18T09:52:01.250672Z",
     "iopub.status.idle": "2023-11-18T09:52:01.263932Z",
     "shell.execute_reply": "2023-11-18T09:52:01.262881Z"
    },
    "papermill": {
     "duration": 0.061732,
     "end_time": "2023-11-18T09:52:01.266567",
     "exception": false,
     "start_time": "2023-11-18T09:52:01.204835",
     "status": "completed"
    },
    "tags": []
   },
   "outputs": [
    {
     "data": {
      "text/plain": [
       "array(['4.1/5', '3.8/5', '3.7/5', '3.6/5', '4.6/5', '4.0/5', '4.2/5',\n",
       "       '3.9/5', '3.1/5', '3.0/5', '3.2/5', '3.3/5', '2.8/5', '4.4/5',\n",
       "       '4.3/5', 'NEW', '2.9/5', '3.5/5', nan, '2.6/5', '3.8 /5', '3.4/5',\n",
       "       '4.5/5', '2.5/5', '2.7/5', '4.7/5', '2.4/5', '2.2/5', '2.3/5',\n",
       "       '3.4 /5', '-', '3.6 /5', '4.8/5', '3.9 /5', '4.2 /5', '4.0 /5',\n",
       "       '4.1 /5', '3.7 /5', '3.1 /5', '2.9 /5', '3.3 /5', '2.8 /5',\n",
       "       '3.5 /5', '2.7 /5', '2.5 /5', '3.2 /5', '2.6 /5', '4.5 /5',\n",
       "       '4.3 /5', '4.4 /5', '4.9/5', '2.1/5', '2.0/5', '1.8/5', '4.6 /5',\n",
       "       '4.9 /5', '3.0 /5', '4.8 /5', '2.3 /5', '4.7 /5', '2.4 /5',\n",
       "       '2.1 /5', '2.2 /5', '2.0 /5', '1.8 /5'], dtype=object)"
      ]
     },
     "execution_count": 55,
     "metadata": {},
     "output_type": "execute_result"
    }
   ],
   "source": [
    "new_df.ratings.unique()"
   ]
  },
  {
   "cell_type": "code",
   "execution_count": 56,
   "id": "c1f574d1",
   "metadata": {
    "execution": {
     "iopub.execute_input": "2023-11-18T09:52:01.355885Z",
     "iopub.status.busy": "2023-11-18T09:52:01.355511Z",
     "iopub.status.idle": "2023-11-18T09:52:01.574588Z",
     "shell.execute_reply": "2023-11-18T09:52:01.573567Z"
    },
    "papermill": {
     "duration": 0.267188,
     "end_time": "2023-11-18T09:52:01.577362",
     "exception": false,
     "start_time": "2023-11-18T09:52:01.310174",
     "status": "completed"
    },
    "tags": []
   },
   "outputs": [],
   "source": [
    "# Here 'NEW' & '-' will replace with 0 and /5 and white space with ''\n",
    "new_df['ratings'].replace(['NEW','-'],0, inplace = True)\n",
    "new_df['ratings'].replace(r'[\\/5 | \\s]','',regex=True, inplace = True)"
   ]
  },
  {
   "cell_type": "code",
   "execution_count": 57,
   "id": "737807ad",
   "metadata": {
    "execution": {
     "iopub.execute_input": "2023-11-18T09:52:01.667640Z",
     "iopub.status.busy": "2023-11-18T09:52:01.666900Z",
     "iopub.status.idle": "2023-11-18T09:52:01.683912Z",
     "shell.execute_reply": "2023-11-18T09:52:01.682725Z"
    },
    "papermill": {
     "duration": 0.065161,
     "end_time": "2023-11-18T09:52:01.686269",
     "exception": false,
     "start_time": "2023-11-18T09:52:01.621108",
     "status": "completed"
    },
    "tags": []
   },
   "outputs": [
    {
     "data": {
      "text/plain": [
       "array(['4.1', '3.8', '3.7', '3.6', '4.6', '4.0', '4.2', '3.9', '3.1',\n",
       "       '3.0', '3.2', '3.3', '2.8', '4.4', '4.3', 0, '2.9', '3.', nan,\n",
       "       '2.6', '3.4', '4.', '2.', '2.7', '4.7', '2.4', '2.2', '2.3', '4.8',\n",
       "       '4.9', '2.1', '2.0', '1.8'], dtype=object)"
      ]
     },
     "execution_count": 57,
     "metadata": {},
     "output_type": "execute_result"
    }
   ],
   "source": [
    "new_df.ratings.unique()"
   ]
  },
  {
   "cell_type": "code",
   "execution_count": 58,
   "id": "5397fd96",
   "metadata": {
    "execution": {
     "iopub.execute_input": "2023-11-18T09:52:01.776787Z",
     "iopub.status.busy": "2023-11-18T09:52:01.776358Z",
     "iopub.status.idle": "2023-11-18T09:52:01.801182Z",
     "shell.execute_reply": "2023-11-18T09:52:01.800119Z"
    },
    "papermill": {
     "duration": 0.073393,
     "end_time": "2023-11-18T09:52:01.803462",
     "exception": false,
     "start_time": "2023-11-18T09:52:01.730069",
     "status": "completed"
    },
    "tags": []
   },
   "outputs": [
    {
     "data": {
      "text/html": [
       "<div>\n",
       "<style scoped>\n",
       "    .dataframe tbody tr th:only-of-type {\n",
       "        vertical-align: middle;\n",
       "    }\n",
       "\n",
       "    .dataframe tbody tr th {\n",
       "        vertical-align: top;\n",
       "    }\n",
       "\n",
       "    .dataframe thead th {\n",
       "        text-align: right;\n",
       "    }\n",
       "</style>\n",
       "<table border=\"1\" class=\"dataframe\">\n",
       "  <thead>\n",
       "    <tr style=\"text-align: right;\">\n",
       "      <th></th>\n",
       "      <th>Restro_name</th>\n",
       "      <th>city</th>\n",
       "      <th>ratings</th>\n",
       "    </tr>\n",
       "  </thead>\n",
       "  <tbody>\n",
       "    <tr>\n",
       "      <th>84</th>\n",
       "      <td>Chill Out</td>\n",
       "      <td>Banashankari</td>\n",
       "      <td>NaN</td>\n",
       "    </tr>\n",
       "    <tr>\n",
       "      <th>84</th>\n",
       "      <td>Chill Out</td>\n",
       "      <td>Banashankari</td>\n",
       "      <td>NaN</td>\n",
       "    </tr>\n",
       "    <tr>\n",
       "      <th>90</th>\n",
       "      <td>Me And My Cake</td>\n",
       "      <td>Banashankari</td>\n",
       "      <td>NaN</td>\n",
       "    </tr>\n",
       "    <tr>\n",
       "      <th>90</th>\n",
       "      <td>Me And My Cake</td>\n",
       "      <td>Banashankari</td>\n",
       "      <td>NaN</td>\n",
       "    </tr>\n",
       "    <tr>\n",
       "      <th>91</th>\n",
       "      <td>Sunsadm</td>\n",
       "      <td>Banashankari</td>\n",
       "      <td>NaN</td>\n",
       "    </tr>\n",
       "  </tbody>\n",
       "</table>\n",
       "</div>"
      ],
      "text/plain": [
       "       Restro_name          city ratings\n",
       "84       Chill Out  Banashankari     NaN\n",
       "84       Chill Out  Banashankari     NaN\n",
       "90  Me And My Cake  Banashankari     NaN\n",
       "90  Me And My Cake  Banashankari     NaN\n",
       "91         Sunsadm  Banashankari     NaN"
      ]
     },
     "execution_count": 58,
     "metadata": {},
     "output_type": "execute_result"
    }
   ],
   "source": [
    "new_df.loc[new_df['ratings'].isna(),['Restro_name','city','ratings']].head()"
   ]
  },
  {
   "cell_type": "code",
   "execution_count": 59,
   "id": "45fb8ba6",
   "metadata": {
    "execution": {
     "iopub.execute_input": "2023-11-18T09:52:01.893124Z",
     "iopub.status.busy": "2023-11-18T09:52:01.892721Z",
     "iopub.status.idle": "2023-11-18T09:52:01.920920Z",
     "shell.execute_reply": "2023-11-18T09:52:01.919814Z"
    },
    "papermill": {
     "duration": 0.075931,
     "end_time": "2023-11-18T09:52:01.923440",
     "exception": false,
     "start_time": "2023-11-18T09:52:01.847509",
     "status": "completed"
    },
    "tags": []
   },
   "outputs": [
    {
     "data": {
      "text/html": [
       "<div>\n",
       "<style scoped>\n",
       "    .dataframe tbody tr th:only-of-type {\n",
       "        vertical-align: middle;\n",
       "    }\n",
       "\n",
       "    .dataframe tbody tr th {\n",
       "        vertical-align: top;\n",
       "    }\n",
       "\n",
       "    .dataframe thead th {\n",
       "        text-align: right;\n",
       "    }\n",
       "</style>\n",
       "<table border=\"1\" class=\"dataframe\">\n",
       "  <thead>\n",
       "    <tr style=\"text-align: right;\">\n",
       "      <th></th>\n",
       "      <th>Restro_name</th>\n",
       "      <th>city</th>\n",
       "      <th>ratings</th>\n",
       "    </tr>\n",
       "  </thead>\n",
       "  <tbody>\n",
       "    <tr>\n",
       "      <th>233</th>\n",
       "      <td>Bombay Kulfis</td>\n",
       "      <td>JP Nagar</td>\n",
       "      <td>NaN</td>\n",
       "    </tr>\n",
       "    <tr>\n",
       "      <th>1455</th>\n",
       "      <td>Bombay Kulfis</td>\n",
       "      <td>Bannerghatta Road</td>\n",
       "      <td>3.</td>\n",
       "    </tr>\n",
       "    <tr>\n",
       "      <th>1884</th>\n",
       "      <td>Bombay Kulfis</td>\n",
       "      <td>Bannerghatta Road</td>\n",
       "      <td>NaN</td>\n",
       "    </tr>\n",
       "    <tr>\n",
       "      <th>4495</th>\n",
       "      <td>Bombay Kulfis</td>\n",
       "      <td>Bellandur</td>\n",
       "      <td>NaN</td>\n",
       "    </tr>\n",
       "    <tr>\n",
       "      <th>6667</th>\n",
       "      <td>Bombay Kulfis</td>\n",
       "      <td>Koramangala 5th Block</td>\n",
       "      <td>3.9</td>\n",
       "    </tr>\n",
       "    <tr>\n",
       "      <th>7192</th>\n",
       "      <td>Bombay Kulfis</td>\n",
       "      <td>Whitefield</td>\n",
       "      <td>NaN</td>\n",
       "    </tr>\n",
       "    <tr>\n",
       "      <th>10243</th>\n",
       "      <td>Bombay Kulfis</td>\n",
       "      <td>BTM</td>\n",
       "      <td>NaN</td>\n",
       "    </tr>\n",
       "    <tr>\n",
       "      <th>11978</th>\n",
       "      <td>Bombay Kulfis</td>\n",
       "      <td>Ulsoor</td>\n",
       "      <td>NaN</td>\n",
       "    </tr>\n",
       "    <tr>\n",
       "      <th>16084</th>\n",
       "      <td>Bombay Kulfis</td>\n",
       "      <td>HSR</td>\n",
       "      <td>3.8</td>\n",
       "    </tr>\n",
       "    <tr>\n",
       "      <th>16921</th>\n",
       "      <td>Bombay Kulfis</td>\n",
       "      <td>HSR</td>\n",
       "      <td>3.4</td>\n",
       "    </tr>\n",
       "    <tr>\n",
       "      <th>18280</th>\n",
       "      <td>Bombay Kulfis</td>\n",
       "      <td>Indiranagar</td>\n",
       "      <td>3.3</td>\n",
       "    </tr>\n",
       "    <tr>\n",
       "      <th>20322</th>\n",
       "      <td>Bombay Kulfis</td>\n",
       "      <td>Koramangala 5th Block</td>\n",
       "      <td>3.9</td>\n",
       "    </tr>\n",
       "    <tr>\n",
       "      <th>21028</th>\n",
       "      <td>Bombay Kulfis</td>\n",
       "      <td>JP Nagar</td>\n",
       "      <td>3.3</td>\n",
       "    </tr>\n",
       "    <tr>\n",
       "      <th>30205</th>\n",
       "      <td>Bombay Kulfis</td>\n",
       "      <td>Koramangala 5th Block</td>\n",
       "      <td>3.9</td>\n",
       "    </tr>\n",
       "    <tr>\n",
       "      <th>45473</th>\n",
       "      <td>Bombay Kulfis</td>\n",
       "      <td>Jeevan Bhima Nagar</td>\n",
       "      <td>3.3</td>\n",
       "    </tr>\n",
       "    <tr>\n",
       "      <th>46503</th>\n",
       "      <td>Bombay Kulfis</td>\n",
       "      <td>Rajajinagar</td>\n",
       "      <td>3.3</td>\n",
       "    </tr>\n",
       "    <tr>\n",
       "      <th>49554</th>\n",
       "      <td>Bombay Kulfis</td>\n",
       "      <td>Sarjapur Road</td>\n",
       "      <td>3.7</td>\n",
       "    </tr>\n",
       "  </tbody>\n",
       "</table>\n",
       "</div>"
      ],
      "text/plain": [
       "         Restro_name                   city ratings\n",
       "233    Bombay Kulfis               JP Nagar     NaN\n",
       "1455   Bombay Kulfis      Bannerghatta Road      3.\n",
       "1884   Bombay Kulfis      Bannerghatta Road     NaN\n",
       "4495   Bombay Kulfis              Bellandur     NaN\n",
       "6667   Bombay Kulfis  Koramangala 5th Block     3.9\n",
       "7192   Bombay Kulfis             Whitefield     NaN\n",
       "10243  Bombay Kulfis                    BTM     NaN\n",
       "11978  Bombay Kulfis                 Ulsoor     NaN\n",
       "16084  Bombay Kulfis                    HSR     3.8\n",
       "16921  Bombay Kulfis                    HSR     3.4\n",
       "18280  Bombay Kulfis            Indiranagar     3.3\n",
       "20322  Bombay Kulfis  Koramangala 5th Block     3.9\n",
       "21028  Bombay Kulfis               JP Nagar     3.3\n",
       "30205  Bombay Kulfis  Koramangala 5th Block     3.9\n",
       "45473  Bombay Kulfis     Jeevan Bhima Nagar     3.3\n",
       "46503  Bombay Kulfis            Rajajinagar     3.3\n",
       "49554  Bombay Kulfis          Sarjapur Road     3.7"
      ]
     },
     "execution_count": 59,
     "metadata": {},
     "output_type": "execute_result"
    }
   ],
   "source": [
    "new_df.loc[new_df['Restro_name']=='Bombay Kulfis',['Restro_name','city','ratings']]"
   ]
  },
  {
   "cell_type": "code",
   "execution_count": 60,
   "id": "722137d0",
   "metadata": {
    "execution": {
     "iopub.execute_input": "2023-11-18T09:52:02.014255Z",
     "iopub.status.busy": "2023-11-18T09:52:02.013814Z",
     "iopub.status.idle": "2023-11-18T09:52:02.033409Z",
     "shell.execute_reply": "2023-11-18T09:52:02.032529Z"
    },
    "papermill": {
     "duration": 0.067663,
     "end_time": "2023-11-18T09:52:02.035689",
     "exception": false,
     "start_time": "2023-11-18T09:52:01.968026",
     "status": "completed"
    },
    "tags": []
   },
   "outputs": [],
   "source": [
    "new_df['ratings']=new_df['ratings'].astype('float')"
   ]
  },
  {
   "cell_type": "code",
   "execution_count": 61,
   "id": "570d8348",
   "metadata": {
    "execution": {
     "iopub.execute_input": "2023-11-18T09:52:02.126766Z",
     "iopub.status.busy": "2023-11-18T09:52:02.126333Z",
     "iopub.status.idle": "2023-11-18T09:52:02.135568Z",
     "shell.execute_reply": "2023-11-18T09:52:02.134206Z"
    },
    "papermill": {
     "duration": 0.05687,
     "end_time": "2023-11-18T09:52:02.137696",
     "exception": false,
     "start_time": "2023-11-18T09:52:02.080826",
     "status": "completed"
    },
    "tags": []
   },
   "outputs": [
    {
     "data": {
      "text/plain": [
       "array([4.1, 3.8, 3.7, 3.6, 4.6, 4. , 4.2, 3.9, 3.1, 3. , 3.2, 3.3, 2.8,\n",
       "       4.4, 4.3, 0. , 2.9, nan, 2.6, 3.4, 2. , 2.7, 4.7, 2.4, 2.2, 2.3,\n",
       "       4.8, 4.9, 2.1, 1.8])"
      ]
     },
     "execution_count": 61,
     "metadata": {},
     "output_type": "execute_result"
    }
   ],
   "source": [
    "new_df.ratings.unique()"
   ]
  },
  {
   "cell_type": "code",
   "execution_count": 62,
   "id": "d03c0bfc",
   "metadata": {
    "execution": {
     "iopub.execute_input": "2023-11-18T09:52:02.227708Z",
     "iopub.status.busy": "2023-11-18T09:52:02.227307Z",
     "iopub.status.idle": "2023-11-18T09:57:21.672842Z",
     "shell.execute_reply": "2023-11-18T09:57:21.671522Z"
    },
    "papermill": {
     "duration": 319.493852,
     "end_time": "2023-11-18T09:57:21.675832",
     "exception": false,
     "start_time": "2023-11-18T09:52:02.181980",
     "status": "completed"
    },
    "tags": []
   },
   "outputs": [],
   "source": [
    "def add_ratings(x):\n",
    "    '''Performing grouping and match the columns with respective tuple values of parameter and return the mean value'''\n",
    "    \n",
    "    rate= new_df.loc[new_df['ratings'].notna()].groupby(['Restro_name','city']).agg({'ratings':'mean'}).round(1)\n",
    "    rate1=rate.reset_index()\n",
    "    return rate1.loc[(x[0]==rate1['Restro_name']) & (x[1]==rate1['city']),'ratings'].values\n",
    "\n",
    "# filling null value with respective mean value\n",
    "new_df.loc[new_df['ratings'].isnull(),'ratings']=new_df[new_df['ratings'].isna()].loc[:,['Restro_name','city']].apply(add_ratings,axis=1)"
   ]
  },
  {
   "cell_type": "code",
   "execution_count": 63,
   "id": "1762a95e",
   "metadata": {
    "execution": {
     "iopub.execute_input": "2023-11-18T09:57:21.767132Z",
     "iopub.status.busy": "2023-11-18T09:57:21.766704Z",
     "iopub.status.idle": "2023-11-18T09:57:21.945289Z",
     "shell.execute_reply": "2023-11-18T09:57:21.944011Z"
    },
    "papermill": {
     "duration": 0.226765,
     "end_time": "2023-11-18T09:57:21.947722",
     "exception": false,
     "start_time": "2023-11-18T09:57:21.720957",
     "status": "completed"
    },
    "tags": []
   },
   "outputs": [
    {
     "data": {
      "text/plain": [
       "array(['4.1', '3.8', '3.7', '3.6', '4.6', '4.0', '4.2', '3.9', '3.1',\n",
       "       '3.0', '3.2', '3.3', '2.8', '4.4', '4.3', '0.0', '2.9', '[]',\n",
       "       '2.6', '3.4', '2.0', '[3.3]', '[0.]', '2.7', '[3.2]', '[3.4]',\n",
       "       '4.7', '[3.6]', '[3.9]', '2.4', '[2.8]', '2.2', '[3.1]', '2.3',\n",
       "       '[3.]', '4.8', '4.9', '2.1', '[3.8]', '1.8', '[2.9]', '[1.5]',\n",
       "       '[4.]', '[2.6]', '[4.3]', '[4.1]', '[3.7]', '[2.]', '[4.4]',\n",
       "       '[4.2]', '[1.6]', '[1.4]'], dtype=object)"
      ]
     },
     "execution_count": 63,
     "metadata": {},
     "output_type": "execute_result"
    }
   ],
   "source": [
    "new_df.ratings.astype(str).unique()"
   ]
  },
  {
   "cell_type": "code",
   "execution_count": 64,
   "id": "56b0eea7",
   "metadata": {
    "execution": {
     "iopub.execute_input": "2023-11-18T09:57:22.039631Z",
     "iopub.status.busy": "2023-11-18T09:57:22.038979Z",
     "iopub.status.idle": "2023-11-18T09:57:22.343574Z",
     "shell.execute_reply": "2023-11-18T09:57:22.342316Z"
    },
    "papermill": {
     "duration": 0.353141,
     "end_time": "2023-11-18T09:57:22.346414",
     "exception": false,
     "start_time": "2023-11-18T09:57:21.993273",
     "status": "completed"
    },
    "tags": []
   },
   "outputs": [],
   "source": [
    "# here replace null values by 0 because null ratings may = 0 so instead for dropping reaplce it by 0\n",
    "new_df.loc[new_df.astype(str)['ratings'] == '[]','ratings'] = 0"
   ]
  },
  {
   "cell_type": "code",
   "execution_count": 65,
   "id": "92ec4f14",
   "metadata": {
    "execution": {
     "iopub.execute_input": "2023-11-18T09:57:22.444339Z",
     "iopub.status.busy": "2023-11-18T09:57:22.443643Z",
     "iopub.status.idle": "2023-11-18T09:57:22.461595Z",
     "shell.execute_reply": "2023-11-18T09:57:22.459966Z"
    },
    "papermill": {
     "duration": 0.074851,
     "end_time": "2023-11-18T09:57:22.466166",
     "exception": false,
     "start_time": "2023-11-18T09:57:22.391315",
     "status": "completed"
    },
    "tags": []
   },
   "outputs": [],
   "source": [
    "new_df['ratings']=new_df['ratings'].astype('float')"
   ]
  },
  {
   "cell_type": "code",
   "execution_count": 66,
   "id": "6277324d",
   "metadata": {
    "execution": {
     "iopub.execute_input": "2023-11-18T09:57:22.564447Z",
     "iopub.status.busy": "2023-11-18T09:57:22.563215Z",
     "iopub.status.idle": "2023-11-18T09:57:22.639578Z",
     "shell.execute_reply": "2023-11-18T09:57:22.638416Z"
    },
    "papermill": {
     "duration": 0.126445,
     "end_time": "2023-11-18T09:57:22.643119",
     "exception": false,
     "start_time": "2023-11-18T09:57:22.516674",
     "status": "completed"
    },
    "tags": []
   },
   "outputs": [
    {
     "data": {
      "text/plain": [
       "Restro_full_address              0\n",
       "Restro_name                      0\n",
       "online_order                     0\n",
       "book_table                       0\n",
       "ratings                          0\n",
       "votes                            0\n",
       "phone                         1441\n",
       "city                             0\n",
       "resto_type                       0\n",
       "cuisines                        35\n",
       "approx_cost_for_two_people     128\n",
       "dtype: int64"
      ]
     },
     "execution_count": 66,
     "metadata": {},
     "output_type": "execute_result"
    }
   ],
   "source": [
    "new_df.isnull().sum()"
   ]
  },
  {
   "cell_type": "code",
   "execution_count": 67,
   "id": "bb873d95",
   "metadata": {
    "execution": {
     "iopub.execute_input": "2023-11-18T09:57:22.744141Z",
     "iopub.status.busy": "2023-11-18T09:57:22.743612Z",
     "iopub.status.idle": "2023-11-18T09:57:22.861658Z",
     "shell.execute_reply": "2023-11-18T09:57:22.860758Z"
    },
    "papermill": {
     "duration": 0.168293,
     "end_time": "2023-11-18T09:57:22.864590",
     "exception": false,
     "start_time": "2023-11-18T09:57:22.696297",
     "status": "completed"
    },
    "tags": []
   },
   "outputs": [
    {
     "data": {
      "text/plain": [
       "5078"
      ]
     },
     "execution_count": 67,
     "metadata": {},
     "output_type": "execute_result"
    }
   ],
   "source": [
    "new_df.duplicated().sum()"
   ]
  },
  {
   "cell_type": "code",
   "execution_count": 68,
   "id": "757d2742",
   "metadata": {
    "execution": {
     "iopub.execute_input": "2023-11-18T09:57:22.959625Z",
     "iopub.status.busy": "2023-11-18T09:57:22.958830Z",
     "iopub.status.idle": "2023-11-18T09:57:23.070648Z",
     "shell.execute_reply": "2023-11-18T09:57:23.069635Z"
    },
    "papermill": {
     "duration": 0.162037,
     "end_time": "2023-11-18T09:57:23.073368",
     "exception": false,
     "start_time": "2023-11-18T09:57:22.911331",
     "status": "completed"
    },
    "tags": []
   },
   "outputs": [],
   "source": [
    "new_df.drop_duplicates(inplace=True)"
   ]
  },
  {
   "cell_type": "code",
   "execution_count": 69,
   "id": "be89a473",
   "metadata": {
    "execution": {
     "iopub.execute_input": "2023-11-18T09:57:23.166828Z",
     "iopub.status.busy": "2023-11-18T09:57:23.166018Z",
     "iopub.status.idle": "2023-11-18T09:57:23.231870Z",
     "shell.execute_reply": "2023-11-18T09:57:23.230737Z"
    },
    "papermill": {
     "duration": 0.11601,
     "end_time": "2023-11-18T09:57:23.234855",
     "exception": false,
     "start_time": "2023-11-18T09:57:23.118845",
     "status": "completed"
    },
    "tags": []
   },
   "outputs": [
    {
     "data": {
      "text/plain": [
       "Restro_full_address              0\n",
       "Restro_name                      0\n",
       "online_order                     0\n",
       "book_table                       0\n",
       "ratings                          0\n",
       "votes                            0\n",
       "phone                         1285\n",
       "city                             0\n",
       "resto_type                       0\n",
       "cuisines                        34\n",
       "approx_cost_for_two_people      99\n",
       "dtype: int64"
      ]
     },
     "execution_count": 69,
     "metadata": {},
     "output_type": "execute_result"
    }
   ],
   "source": [
    "new_df.isnull().sum()"
   ]
  },
  {
   "cell_type": "markdown",
   "id": "eb7d5069",
   "metadata": {
    "papermill": {
     "duration": 0.045111,
     "end_time": "2023-11-18T09:57:23.329762",
     "exception": false,
     "start_time": "2023-11-18T09:57:23.284651",
     "status": "completed"
    },
    "tags": []
   },
   "source": [
    "Operation Phone column"
   ]
  },
  {
   "cell_type": "code",
   "execution_count": 70,
   "id": "5c4b74da",
   "metadata": {
    "execution": {
     "iopub.execute_input": "2023-11-18T09:57:23.423202Z",
     "iopub.status.busy": "2023-11-18T09:57:23.422265Z",
     "iopub.status.idle": "2023-11-18T09:57:23.450108Z",
     "shell.execute_reply": "2023-11-18T09:57:23.449123Z"
    },
    "papermill": {
     "duration": 0.077449,
     "end_time": "2023-11-18T09:57:23.452446",
     "exception": false,
     "start_time": "2023-11-18T09:57:23.374997",
     "status": "completed"
    },
    "tags": []
   },
   "outputs": [
    {
     "data": {
      "text/html": [
       "<div>\n",
       "<style scoped>\n",
       "    .dataframe tbody tr th:only-of-type {\n",
       "        vertical-align: middle;\n",
       "    }\n",
       "\n",
       "    .dataframe tbody tr th {\n",
       "        vertical-align: top;\n",
       "    }\n",
       "\n",
       "    .dataframe thead th {\n",
       "        text-align: right;\n",
       "    }\n",
       "</style>\n",
       "<table border=\"1\" class=\"dataframe\">\n",
       "  <thead>\n",
       "    <tr style=\"text-align: right;\">\n",
       "      <th></th>\n",
       "      <th>Restro_name</th>\n",
       "      <th>phone</th>\n",
       "    </tr>\n",
       "  </thead>\n",
       "  <tbody>\n",
       "    <tr>\n",
       "      <th>0</th>\n",
       "      <td>Jalsa</td>\n",
       "      <td>080 42297555\\r\\n+91 9743772233</td>\n",
       "    </tr>\n",
       "    <tr>\n",
       "      <th>0</th>\n",
       "      <td>Jalsa</td>\n",
       "      <td>080 42297555\\r\\n+91 9743772233</td>\n",
       "    </tr>\n",
       "    <tr>\n",
       "      <th>0</th>\n",
       "      <td>Jalsa</td>\n",
       "      <td>080 42297555\\r\\n+91 9743772233</td>\n",
       "    </tr>\n",
       "    <tr>\n",
       "      <th>559</th>\n",
       "      <td>Jalsa</td>\n",
       "      <td>080 42297555\\r\\r\\r\\r\\n+91 9743772233</td>\n",
       "    </tr>\n",
       "    <tr>\n",
       "      <th>559</th>\n",
       "      <td>Jalsa</td>\n",
       "      <td>080 42297555\\r\\r\\r\\r\\n+91 9743772233</td>\n",
       "    </tr>\n",
       "    <tr>\n",
       "      <th>559</th>\n",
       "      <td>Jalsa</td>\n",
       "      <td>080 42297555\\r\\r\\r\\r\\n+91 9743772233</td>\n",
       "    </tr>\n",
       "    <tr>\n",
       "      <th>3462</th>\n",
       "      <td>Jalsa</td>\n",
       "      <td>080 42297555\\n+91 9743772233</td>\n",
       "    </tr>\n",
       "    <tr>\n",
       "      <th>3462</th>\n",
       "      <td>Jalsa</td>\n",
       "      <td>080 42297555\\n+91 9743772233</td>\n",
       "    </tr>\n",
       "    <tr>\n",
       "      <th>3462</th>\n",
       "      <td>Jalsa</td>\n",
       "      <td>080 42297555\\n+91 9743772233</td>\n",
       "    </tr>\n",
       "    <tr>\n",
       "      <th>7607</th>\n",
       "      <td>Jalsa</td>\n",
       "      <td>+91 7406617555\\r\\n+91 7406627555</td>\n",
       "    </tr>\n",
       "    <tr>\n",
       "      <th>7607</th>\n",
       "      <td>Jalsa</td>\n",
       "      <td>+91 7406617555\\r\\n+91 7406627555</td>\n",
       "    </tr>\n",
       "    <tr>\n",
       "      <th>19401</th>\n",
       "      <td>Jalsa</td>\n",
       "      <td>080 42297555\\r\\n+91 9743772233</td>\n",
       "    </tr>\n",
       "    <tr>\n",
       "      <th>19401</th>\n",
       "      <td>Jalsa</td>\n",
       "      <td>080 42297555\\r\\n+91 9743772233</td>\n",
       "    </tr>\n",
       "    <tr>\n",
       "      <th>19401</th>\n",
       "      <td>Jalsa</td>\n",
       "      <td>080 42297555\\r\\n+91 9743772233</td>\n",
       "    </tr>\n",
       "    <tr>\n",
       "      <th>41364</th>\n",
       "      <td>Jalsa</td>\n",
       "      <td>+91 7406617555\\n+91 7406627555</td>\n",
       "    </tr>\n",
       "    <tr>\n",
       "      <th>41364</th>\n",
       "      <td>Jalsa</td>\n",
       "      <td>+91 7406617555\\n+91 7406627555</td>\n",
       "    </tr>\n",
       "  </tbody>\n",
       "</table>\n",
       "</div>"
      ],
      "text/plain": [
       "      Restro_name                                 phone\n",
       "0           Jalsa        080 42297555\\r\\n+91 9743772233\n",
       "0           Jalsa        080 42297555\\r\\n+91 9743772233\n",
       "0           Jalsa        080 42297555\\r\\n+91 9743772233\n",
       "559         Jalsa  080 42297555\\r\\r\\r\\r\\n+91 9743772233\n",
       "559         Jalsa  080 42297555\\r\\r\\r\\r\\n+91 9743772233\n",
       "559         Jalsa  080 42297555\\r\\r\\r\\r\\n+91 9743772233\n",
       "3462        Jalsa          080 42297555\\n+91 9743772233\n",
       "3462        Jalsa          080 42297555\\n+91 9743772233\n",
       "3462        Jalsa          080 42297555\\n+91 9743772233\n",
       "7607        Jalsa      +91 7406617555\\r\\n+91 7406627555\n",
       "7607        Jalsa      +91 7406617555\\r\\n+91 7406627555\n",
       "19401       Jalsa        080 42297555\\r\\n+91 9743772233\n",
       "19401       Jalsa        080 42297555\\r\\n+91 9743772233\n",
       "19401       Jalsa        080 42297555\\r\\n+91 9743772233\n",
       "41364       Jalsa        +91 7406617555\\n+91 7406627555\n",
       "41364       Jalsa        +91 7406617555\\n+91 7406627555"
      ]
     },
     "execution_count": 70,
     "metadata": {},
     "output_type": "execute_result"
    }
   ],
   "source": [
    "new_df.loc[new_df['Restro_name']=='Jalsa',['Restro_name','phone']]"
   ]
  },
  {
   "cell_type": "code",
   "execution_count": 71,
   "id": "f2d8b08d",
   "metadata": {
    "execution": {
     "iopub.execute_input": "2023-11-18T09:57:23.547958Z",
     "iopub.status.busy": "2023-11-18T09:57:23.546922Z",
     "iopub.status.idle": "2023-11-18T09:57:23.689934Z",
     "shell.execute_reply": "2023-11-18T09:57:23.688833Z"
    },
    "papermill": {
     "duration": 0.193593,
     "end_time": "2023-11-18T09:57:23.692728",
     "exception": false,
     "start_time": "2023-11-18T09:57:23.499135",
     "status": "completed"
    },
    "tags": []
   },
   "outputs": [],
   "source": [
    "new_df['phone'] = new_df['phone'].str.split(r'\\r*\\n+', regex = True)"
   ]
  },
  {
   "cell_type": "code",
   "execution_count": 72,
   "id": "874a4f39",
   "metadata": {
    "execution": {
     "iopub.execute_input": "2023-11-18T09:57:23.786139Z",
     "iopub.status.busy": "2023-11-18T09:57:23.785742Z",
     "iopub.status.idle": "2023-11-18T09:57:23.810604Z",
     "shell.execute_reply": "2023-11-18T09:57:23.809428Z"
    },
    "papermill": {
     "duration": 0.075066,
     "end_time": "2023-11-18T09:57:23.812917",
     "exception": false,
     "start_time": "2023-11-18T09:57:23.737851",
     "status": "completed"
    },
    "tags": []
   },
   "outputs": [
    {
     "data": {
      "text/html": [
       "<div>\n",
       "<style scoped>\n",
       "    .dataframe tbody tr th:only-of-type {\n",
       "        vertical-align: middle;\n",
       "    }\n",
       "\n",
       "    .dataframe tbody tr th {\n",
       "        vertical-align: top;\n",
       "    }\n",
       "\n",
       "    .dataframe thead th {\n",
       "        text-align: right;\n",
       "    }\n",
       "</style>\n",
       "<table border=\"1\" class=\"dataframe\">\n",
       "  <thead>\n",
       "    <tr style=\"text-align: right;\">\n",
       "      <th></th>\n",
       "      <th>Restro_name</th>\n",
       "      <th>city</th>\n",
       "      <th>phone</th>\n",
       "    </tr>\n",
       "  </thead>\n",
       "  <tbody>\n",
       "    <tr>\n",
       "      <th>121</th>\n",
       "      <td>New Mangalore Lunch Home</td>\n",
       "      <td>Banashankari</td>\n",
       "      <td>NaN</td>\n",
       "    </tr>\n",
       "    <tr>\n",
       "      <th>121</th>\n",
       "      <td>New Mangalore Lunch Home</td>\n",
       "      <td>Banashankari</td>\n",
       "      <td>NaN</td>\n",
       "    </tr>\n",
       "    <tr>\n",
       "      <th>121</th>\n",
       "      <td>New Mangalore Lunch Home</td>\n",
       "      <td>Banashankari</td>\n",
       "      <td>NaN</td>\n",
       "    </tr>\n",
       "    <tr>\n",
       "      <th>234</th>\n",
       "      <td>Kadamba Classic</td>\n",
       "      <td>Mysore Road</td>\n",
       "      <td>NaN</td>\n",
       "    </tr>\n",
       "    <tr>\n",
       "      <th>300</th>\n",
       "      <td>Just Thindi</td>\n",
       "      <td>Basavanagudi</td>\n",
       "      <td>NaN</td>\n",
       "    </tr>\n",
       "    <tr>\n",
       "      <th>378</th>\n",
       "      <td>Dakshin Kitchen</td>\n",
       "      <td>Basavanagudi</td>\n",
       "      <td>NaN</td>\n",
       "    </tr>\n",
       "    <tr>\n",
       "      <th>466</th>\n",
       "      <td>Chetty's Corner</td>\n",
       "      <td>Uttarahalli</td>\n",
       "      <td>NaN</td>\n",
       "    </tr>\n",
       "    <tr>\n",
       "      <th>466</th>\n",
       "      <td>Chetty's Corner</td>\n",
       "      <td>Uttarahalli</td>\n",
       "      <td>NaN</td>\n",
       "    </tr>\n",
       "    <tr>\n",
       "      <th>466</th>\n",
       "      <td>Chetty's Corner</td>\n",
       "      <td>Uttarahalli</td>\n",
       "      <td>NaN</td>\n",
       "    </tr>\n",
       "    <tr>\n",
       "      <th>467</th>\n",
       "      <td>Kapoor's Cafe</td>\n",
       "      <td>Jayanagar</td>\n",
       "      <td>NaN</td>\n",
       "    </tr>\n",
       "  </tbody>\n",
       "</table>\n",
       "</div>"
      ],
      "text/plain": [
       "                  Restro_name          city phone\n",
       "121  New Mangalore Lunch Home  Banashankari   NaN\n",
       "121  New Mangalore Lunch Home  Banashankari   NaN\n",
       "121  New Mangalore Lunch Home  Banashankari   NaN\n",
       "234           Kadamba Classic   Mysore Road   NaN\n",
       "300               Just Thindi  Basavanagudi   NaN\n",
       "378           Dakshin Kitchen  Basavanagudi   NaN\n",
       "466           Chetty's Corner   Uttarahalli   NaN\n",
       "466           Chetty's Corner   Uttarahalli   NaN\n",
       "466           Chetty's Corner   Uttarahalli   NaN\n",
       "467             Kapoor's Cafe     Jayanagar   NaN"
      ]
     },
     "execution_count": 72,
     "metadata": {},
     "output_type": "execute_result"
    }
   ],
   "source": [
    "new_df.loc[new_df['phone'].isna(),['Restro_name','city','phone']].head(10)"
   ]
  },
  {
   "cell_type": "code",
   "execution_count": 73,
   "id": "ba71d09d",
   "metadata": {
    "execution": {
     "iopub.execute_input": "2023-11-18T09:57:23.906305Z",
     "iopub.status.busy": "2023-11-18T09:57:23.905882Z",
     "iopub.status.idle": "2023-11-18T09:57:25.898776Z",
     "shell.execute_reply": "2023-11-18T09:57:25.897505Z"
    },
    "papermill": {
     "duration": 2.042885,
     "end_time": "2023-11-18T09:57:25.901492",
     "exception": false,
     "start_time": "2023-11-18T09:57:23.858607",
     "status": "completed"
    },
    "tags": []
   },
   "outputs": [],
   "source": [
    "phone_list = new_df.loc[new_df['phone'].notna()].groupby(['Restro_name','city']).agg({'phone': pd.Series.mode})\n",
    "ph = phone_list.reset_index()"
   ]
  },
  {
   "cell_type": "code",
   "execution_count": 74,
   "id": "e2a7c771",
   "metadata": {
    "execution": {
     "iopub.execute_input": "2023-11-18T09:57:25.995793Z",
     "iopub.status.busy": "2023-11-18T09:57:25.995415Z",
     "iopub.status.idle": "2023-11-18T09:57:32.138775Z",
     "shell.execute_reply": "2023-11-18T09:57:32.137797Z"
    },
    "papermill": {
     "duration": 6.194169,
     "end_time": "2023-11-18T09:57:32.141432",
     "exception": false,
     "start_time": "2023-11-18T09:57:25.947263",
     "status": "completed"
    },
    "tags": []
   },
   "outputs": [],
   "source": [
    "def add_phone(x):\n",
    "    ''' This function match the restro_name and city with the value of parameter (tuple  value) and return the appropaite value'''\n",
    "    \n",
    "    return ph.loc[(x[0]==ph['Restro_name']) & (x[1]==ph['city']),'phone'].values\n",
    "\n",
    "new_df.loc[new_df['phone'].isna(),'phone']=new_df[new_df['phone'].isna()].loc[:,['Restro_name','city']].apply(add_phone,axis=1)"
   ]
  },
  {
   "cell_type": "code",
   "execution_count": 75,
   "id": "fe81ed9a",
   "metadata": {
    "execution": {
     "iopub.execute_input": "2023-11-18T09:57:32.234393Z",
     "iopub.status.busy": "2023-11-18T09:57:32.233978Z",
     "iopub.status.idle": "2023-11-18T09:57:32.244116Z",
     "shell.execute_reply": "2023-11-18T09:57:32.243084Z"
    },
    "papermill": {
     "duration": 0.059669,
     "end_time": "2023-11-18T09:57:32.246600",
     "exception": false,
     "start_time": "2023-11-18T09:57:32.186931",
     "status": "completed"
    },
    "tags": []
   },
   "outputs": [
    {
     "data": {
      "text/plain": [
       "0        [080 42297555, +91 9743772233]\n",
       "0        [080 42297555, +91 9743772233]\n",
       "0        [080 42297555, +91 9743772233]\n",
       "1                        [080 41714161]\n",
       "1                        [080 41714161]\n",
       "                      ...              \n",
       "51677                    [080 65951222]\n",
       "51677                    [080 65951222]\n",
       "51677                    [080 65951222]\n",
       "51677                    [080 65951222]\n",
       "51714                                []\n",
       "Name: phone, Length: 68353, dtype: object"
      ]
     },
     "execution_count": 75,
     "metadata": {},
     "output_type": "execute_result"
    }
   ],
   "source": [
    "new_df.phone"
   ]
  },
  {
   "cell_type": "code",
   "execution_count": 76,
   "id": "0cb84264",
   "metadata": {
    "execution": {
     "iopub.execute_input": "2023-11-18T09:57:32.339653Z",
     "iopub.status.busy": "2023-11-18T09:57:32.339278Z",
     "iopub.status.idle": "2023-11-18T09:57:32.407035Z",
     "shell.execute_reply": "2023-11-18T09:57:32.406274Z"
    },
    "papermill": {
     "duration": 0.116998,
     "end_time": "2023-11-18T09:57:32.409235",
     "exception": false,
     "start_time": "2023-11-18T09:57:32.292237",
     "status": "completed"
    },
    "tags": []
   },
   "outputs": [
    {
     "data": {
      "text/plain": [
       "Restro_full_address            0\n",
       "Restro_name                    0\n",
       "online_order                   0\n",
       "book_table                     0\n",
       "ratings                        0\n",
       "votes                          0\n",
       "phone                          0\n",
       "city                           0\n",
       "resto_type                     0\n",
       "cuisines                      34\n",
       "approx_cost_for_two_people    99\n",
       "dtype: int64"
      ]
     },
     "execution_count": 76,
     "metadata": {},
     "output_type": "execute_result"
    }
   ],
   "source": [
    "new_df.isna().sum()"
   ]
  },
  {
   "cell_type": "code",
   "execution_count": 77,
   "id": "d1abc02f",
   "metadata": {
    "execution": {
     "iopub.execute_input": "2023-11-18T09:57:32.502601Z",
     "iopub.status.busy": "2023-11-18T09:57:32.502210Z",
     "iopub.status.idle": "2023-11-18T09:57:32.579419Z",
     "shell.execute_reply": "2023-11-18T09:57:32.578216Z"
    },
    "papermill": {
     "duration": 0.127069,
     "end_time": "2023-11-18T09:57:32.582225",
     "exception": false,
     "start_time": "2023-11-18T09:57:32.455156",
     "status": "completed"
    },
    "tags": []
   },
   "outputs": [],
   "source": [
    "new_df.dropna(inplace=True)"
   ]
  },
  {
   "cell_type": "markdown",
   "id": "e5ffe3a6",
   "metadata": {
    "papermill": {
     "duration": 0.046113,
     "end_time": "2023-11-18T09:57:32.674719",
     "exception": false,
     "start_time": "2023-11-18T09:57:32.628606",
     "status": "completed"
    },
    "tags": []
   },
   "source": [
    "**Data Visualization**"
   ]
  },
  {
   "cell_type": "code",
   "execution_count": 78,
   "id": "868f1fa7",
   "metadata": {
    "execution": {
     "iopub.execute_input": "2023-11-18T09:57:32.767923Z",
     "iopub.status.busy": "2023-11-18T09:57:32.767496Z",
     "iopub.status.idle": "2023-11-18T09:57:34.117696Z",
     "shell.execute_reply": "2023-11-18T09:57:34.116484Z"
    },
    "papermill": {
     "duration": 1.400035,
     "end_time": "2023-11-18T09:57:34.120650",
     "exception": false,
     "start_time": "2023-11-18T09:57:32.720615",
     "status": "completed"
    },
    "tags": []
   },
   "outputs": [],
   "source": [
    "import seaborn as sns\n",
    "import matplotlib.pyplot as plt"
   ]
  },
  {
   "cell_type": "markdown",
   "id": "94cf5ecb",
   "metadata": {
    "papermill": {
     "duration": 0.045234,
     "end_time": "2023-11-18T09:57:34.212245",
     "exception": false,
     "start_time": "2023-11-18T09:57:34.167011",
     "status": "completed"
    },
    "tags": []
   },
   "source": [
    "1. Restaurants delivering Online or not"
   ]
  },
  {
   "cell_type": "code",
   "execution_count": 79,
   "id": "b6c89024",
   "metadata": {
    "execution": {
     "iopub.execute_input": "2023-11-18T09:57:34.306888Z",
     "iopub.status.busy": "2023-11-18T09:57:34.306450Z",
     "iopub.status.idle": "2023-11-18T09:57:34.781485Z",
     "shell.execute_reply": "2023-11-18T09:57:34.780219Z"
    },
    "papermill": {
     "duration": 0.524999,
     "end_time": "2023-11-18T09:57:34.783957",
     "exception": false,
     "start_time": "2023-11-18T09:57:34.258958",
     "status": "completed"
    },
    "tags": []
   },
   "outputs": [
    {
     "data": {
      "text/plain": [
       "Text(0.5, 1.0, 'Restaurants delivering Online or not')"
      ]
     },
     "execution_count": 79,
     "metadata": {},
     "output_type": "execute_result"
    },
    {
     "data": {
      "image/png": "[encoded data removed]",
      "text/plain": [
       "<Figure size 600x500 with 1 Axes>"
      ]
     },
     "metadata": {},
     "output_type": "display_data"
    }
   ],
   "source": [
    "plt.figure(figsize= (6,5))\n",
    "s = sns.countplot(data=new_df, x='online_order', hue='online_order')\n",
    "s.set_xlabel('Online Order')\n",
    "s.set_ylabel('Number of restaurants')\n",
    "s.set_title('Restaurants delivering Online or not')"
   ]
  },
  {
   "cell_type": "markdown",
   "id": "a186ca53",
   "metadata": {
    "papermill": {
     "duration": 0.048051,
     "end_time": "2023-11-18T09:57:34.878854",
     "exception": false,
     "start_time": "2023-11-18T09:57:34.830803",
     "status": "completed"
    },
    "tags": []
   },
   "source": [
    "here approx 45000 Restaurant provides online order service"
   ]
  },
  {
   "cell_type": "markdown",
   "id": "aef08e9a",
   "metadata": {
    "papermill": {
     "duration": 0.046293,
     "end_time": "2023-11-18T09:57:34.971926",
     "exception": false,
     "start_time": "2023-11-18T09:57:34.925633",
     "status": "completed"
    },
    "tags": []
   },
   "source": [
    "2. Restaurants allowing table booking or not"
   ]
  },
  {
   "cell_type": "code",
   "execution_count": 80,
   "id": "a7a16dbe",
   "metadata": {
    "execution": {
     "iopub.execute_input": "2023-11-18T09:57:35.067580Z",
     "iopub.status.busy": "2023-11-18T09:57:35.067163Z",
     "iopub.status.idle": "2023-11-18T09:57:35.520353Z",
     "shell.execute_reply": "2023-11-18T09:57:35.519248Z"
    },
    "papermill": {
     "duration": 0.504032,
     "end_time": "2023-11-18T09:57:35.522868",
     "exception": false,
     "start_time": "2023-11-18T09:57:35.018836",
     "status": "completed"
    },
    "tags": []
   },
   "outputs": [
    {
     "data": {
      "text/plain": [
       "Text(0.5, 1.0, 'Restaurants allowing table booking or not')"
      ]
     },
     "execution_count": 80,
     "metadata": {},
     "output_type": "execute_result"
    },
    {
     "data": {
      "image/png": "[encoded data removed]",
      "text/plain": [
       "<Figure size 600x500 with 1 Axes>"
      ]
     },
     "metadata": {},
     "output_type": "display_data"
    }
   ],
   "source": [
    "plt.figure(figsize= (6,5))\n",
    "s = sns.countplot(data=new_df, x='book_table', hue='book_table')\n",
    "s.set_xlabel('table booking')\n",
    "s.set_ylabel('Number of restaurants')\n",
    "s.set_title('Restaurants allowing table booking or not')"
   ]
  },
  {
   "cell_type": "markdown",
   "id": "ab0b8b02",
   "metadata": {
    "papermill": {
     "duration": 0.048482,
     "end_time": "2023-11-18T09:57:35.618757",
     "exception": false,
     "start_time": "2023-11-18T09:57:35.570275",
     "status": "completed"
    },
    "tags": []
   },
   "source": [
    "Here, you can observed that the number of restaurant gives table booking service are much less then the No table booking service"
   ]
  },
  {
   "cell_type": "markdown",
   "id": "5e947979",
   "metadata": {
    "papermill": {
     "duration": 0.046837,
     "end_time": "2023-11-18T09:57:35.713988",
     "exception": false,
     "start_time": "2023-11-18T09:57:35.667151",
     "status": "completed"
    },
    "tags": []
   },
   "source": [
    "3. Table booking Rate vs Rating"
   ]
  },
  {
   "cell_type": "code",
   "execution_count": 81,
   "id": "0a5520e3",
   "metadata": {
    "execution": {
     "iopub.execute_input": "2023-11-18T09:57:35.810965Z",
     "iopub.status.busy": "2023-11-18T09:57:35.810578Z",
     "iopub.status.idle": "2023-11-18T09:57:36.972447Z",
     "shell.execute_reply": "2023-11-18T09:57:36.971242Z"
    },
    "papermill": {
     "duration": 1.213725,
     "end_time": "2023-11-18T09:57:36.975048",
     "exception": false,
     "start_time": "2023-11-18T09:57:35.761323",
     "status": "completed"
    },
    "tags": []
   },
   "outputs": [
    {
     "data": {
      "text/plain": [
       "Text(0.5, 1.0, 'Table booking Rate vs Ratings')"
      ]
     },
     "execution_count": 81,
     "metadata": {},
     "output_type": "execute_result"
    },
    {
     "data": {
      "image/png": "[encoded data removed]",
      "text/plain": [
       "<Figure size 600x500 with 1 Axes>"
      ]
     },
     "metadata": {},
     "output_type": "display_data"
    }
   ],
   "source": [
    "plt.figure(figsize= (6,5))\n",
    "s = sns.barplot(data=new_df, x='book_table',y='ratings')\n",
    "s.set_xlabel('table booking option')\n",
    "s.set_ylabel('ratings')\n",
    "s.set_title('Table booking Rate vs Ratings')"
   ]
  },
  {
   "cell_type": "markdown",
   "id": "4ad0eadf",
   "metadata": {
    "papermill": {
     "duration": 0.048222,
     "end_time": "2023-11-18T09:57:37.072309",
     "exception": false,
     "start_time": "2023-11-18T09:57:37.024087",
     "status": "completed"
    },
    "tags": []
   },
   "source": [
    "here you can say that the ratings are more for table booking service\n",
    "\n",
    "Therefore it might be chances that people are more liking to having table booking service"
   ]
  },
  {
   "cell_type": "markdown",
   "id": "990e935b",
   "metadata": {
    "papermill": {
     "duration": 0.048217,
     "end_time": "2023-11-18T09:57:37.168531",
     "exception": false,
     "start_time": "2023-11-18T09:57:37.120314",
     "status": "completed"
    },
    "tags": []
   },
   "source": [
    "4. Best Location by frequency"
   ]
  },
  {
   "cell_type": "code",
   "execution_count": 82,
   "id": "c1a98770",
   "metadata": {
    "execution": {
     "iopub.execute_input": "2023-11-18T09:57:37.270561Z",
     "iopub.status.busy": "2023-11-18T09:57:37.270166Z",
     "iopub.status.idle": "2023-11-18T09:57:37.660371Z",
     "shell.execute_reply": "2023-11-18T09:57:37.659150Z"
    },
    "papermill": {
     "duration": 0.444685,
     "end_time": "2023-11-18T09:57:37.663389",
     "exception": false,
     "start_time": "2023-11-18T09:57:37.218704",
     "status": "completed"
    },
    "tags": []
   },
   "outputs": [
    {
     "data": {
      "image/png": "[encoded data removed]",
      "text/plain": [
       "<Figure size 600x600 with 1 Axes>"
      ]
     },
     "metadata": {},
     "output_type": "display_data"
    }
   ],
   "source": [
    "city_freq = new_df.groupby('city')['city'].count().sort_values(ascending = False).head(5)\n",
    "city_freq.plot(kind='pie',figsize=(6,6), shadow=True, autopct='%.1f%%')\n",
    "plt.title('Best Location')\n",
    "plt.tight_layout()"
   ]
  },
  {
   "cell_type": "markdown",
   "id": "84045250",
   "metadata": {
    "papermill": {
     "duration": 0.048695,
     "end_time": "2023-11-18T09:57:37.762005",
     "exception": false,
     "start_time": "2023-11-18T09:57:37.713310",
     "status": "completed"
    },
    "tags": []
   },
   "source": [
    "This is the pie chart of top Cities having more Restaurants"
   ]
  },
  {
   "cell_type": "markdown",
   "id": "e32da43c",
   "metadata": {
    "papermill": {
     "duration": 0.04847,
     "end_time": "2023-11-18T09:57:37.859582",
     "exception": false,
     "start_time": "2023-11-18T09:57:37.811112",
     "status": "completed"
    },
    "tags": []
   },
   "source": [
    "5. Relation between Location and Rating"
   ]
  },
  {
   "cell_type": "code",
   "execution_count": 83,
   "id": "fa74bb92",
   "metadata": {
    "execution": {
     "iopub.execute_input": "2023-11-18T09:57:37.959034Z",
     "iopub.status.busy": "2023-11-18T09:57:37.958614Z",
     "iopub.status.idle": "2023-11-18T09:57:37.975848Z",
     "shell.execute_reply": "2023-11-18T09:57:37.974451Z"
    },
    "papermill": {
     "duration": 0.070132,
     "end_time": "2023-11-18T09:57:37.978474",
     "exception": false,
     "start_time": "2023-11-18T09:57:37.908342",
     "status": "completed"
    },
    "tags": []
   },
   "outputs": [],
   "source": [
    "relation_loc = new_df.groupby('city').agg({'ratings':'mean'}).sort_values(by='ratings', ascending = False).head(5)"
   ]
  },
  {
   "cell_type": "code",
   "execution_count": 84,
   "id": "761612b7",
   "metadata": {
    "execution": {
     "iopub.execute_input": "2023-11-18T09:57:38.079624Z",
     "iopub.status.busy": "2023-11-18T09:57:38.078530Z",
     "iopub.status.idle": "2023-11-18T09:57:38.296205Z",
     "shell.execute_reply": "2023-11-18T09:57:38.295105Z"
    },
    "papermill": {
     "duration": 0.27068,
     "end_time": "2023-11-18T09:57:38.299008",
     "exception": false,
     "start_time": "2023-11-18T09:57:38.028328",
     "status": "completed"
    },
    "tags": []
   },
   "outputs": [
    {
     "data": {
      "text/plain": [
       "array([<Axes: ylabel='ratings'>], dtype=object)"
      ]
     },
     "execution_count": 84,
     "metadata": {},
     "output_type": "execute_result"
    },
    {
     "data": {
      "text/plain": [
       "<Figure size 2000x2000 with 0 Axes>"
      ]
     },
     "metadata": {},
     "output_type": "display_data"
    },
    {
     "data": {
      "image/png": "[encoded data removed]",
      "text/plain": [
       "<Figure size 600x600 with 1 Axes>"
      ]
     },
     "metadata": {},
     "output_type": "display_data"
    }
   ],
   "source": [
    "plt.figure(figsize= (20,20))\n",
    "relation_loc.plot(subplots=True,kind='pie',figsize=(6,6), legend = False,shadow=True, autopct='%.1f%%')\n"
   ]
  },
  {
   "cell_type": "markdown",
   "id": "246fc248",
   "metadata": {
    "papermill": {
     "duration": 0.05053,
     "end_time": "2023-11-18T09:57:38.400886",
     "exception": false,
     "start_time": "2023-11-18T09:57:38.350356",
     "status": "completed"
    },
    "tags": []
   },
   "source": [
    "6. Restaurant Type"
   ]
  },
  {
   "cell_type": "code",
   "execution_count": 85,
   "id": "939d4f2f",
   "metadata": {
    "execution": {
     "iopub.execute_input": "2023-11-18T09:57:38.502624Z",
     "iopub.status.busy": "2023-11-18T09:57:38.502152Z",
     "iopub.status.idle": "2023-11-18T09:57:38.521909Z",
     "shell.execute_reply": "2023-11-18T09:57:38.520776Z"
    },
    "papermill": {
     "duration": 0.073815,
     "end_time": "2023-11-18T09:57:38.524469",
     "exception": false,
     "start_time": "2023-11-18T09:57:38.450654",
     "status": "completed"
    },
    "tags": []
   },
   "outputs": [],
   "source": [
    "rest = new_df['resto_type'].value_counts().sort_values(ascending = False)"
   ]
  },
  {
   "cell_type": "code",
   "execution_count": 86,
   "id": "8d515338",
   "metadata": {
    "execution": {
     "iopub.execute_input": "2023-11-18T09:57:38.626433Z",
     "iopub.status.busy": "2023-11-18T09:57:38.625827Z",
     "iopub.status.idle": "2023-11-18T09:57:39.257000Z",
     "shell.execute_reply": "2023-11-18T09:57:39.256149Z"
    },
    "papermill": {
     "duration": 0.685132,
     "end_time": "2023-11-18T09:57:39.259690",
     "exception": false,
     "start_time": "2023-11-18T09:57:38.574558",
     "status": "completed"
    },
    "tags": []
   },
   "outputs": [
    {
     "data": {
      "text/plain": [
       "Text(0.5, 1.0, 'Restaurant Types')"
      ]
     },
     "execution_count": 86,
     "metadata": {},
     "output_type": "execute_result"
    },
    {
     "data": {
      "image/png": "[encoded data removed]",
      "text/plain": [
       "<Figure size 2000x1000 with 1 Axes>"
      ]
     },
     "metadata": {},
     "output_type": "display_data"
    }
   ],
   "source": [
    "plt.figure(figsize= (20,10))\n",
    "s = sns.barplot(y=rest.index,x=rest.values)\n",
    "s.set_xlabel('number of Availability')\n",
    "s.set_ylabel('Restaurant Type')\n",
    "s.set_title('Restaurant Types')"
   ]
  },
  {
   "cell_type": "markdown",
   "id": "9b392977",
   "metadata": {
    "papermill": {
     "duration": 0.050721,
     "end_time": "2023-11-18T09:57:39.361649",
     "exception": false,
     "start_time": "2023-11-18T09:57:39.310928",
     "status": "completed"
    },
    "tags": []
   },
   "source": [
    "The most of the Restaurants types are Quick bites or Casual Dining whereas Meat shop and Pop up are less"
   ]
  },
  {
   "cell_type": "markdown",
   "id": "ca5010d0",
   "metadata": {
    "papermill": {
     "duration": 0.050734,
     "end_time": "2023-11-18T09:57:39.463495",
     "exception": false,
     "start_time": "2023-11-18T09:57:39.412761",
     "status": "completed"
    },
    "tags": []
   },
   "source": [
    "7. Gaussian Rest type and Rating"
   ]
  },
  {
   "cell_type": "code",
   "execution_count": 87,
   "id": "f8e5a0c9",
   "metadata": {
    "execution": {
     "iopub.execute_input": "2023-11-18T09:57:39.567164Z",
     "iopub.status.busy": "2023-11-18T09:57:39.566448Z",
     "iopub.status.idle": "2023-11-18T09:57:39.581503Z",
     "shell.execute_reply": "2023-11-18T09:57:39.580466Z"
    },
    "papermill": {
     "duration": 0.069981,
     "end_time": "2023-11-18T09:57:39.584382",
     "exception": false,
     "start_time": "2023-11-18T09:57:39.514401",
     "status": "completed"
    },
    "tags": []
   },
   "outputs": [],
   "source": [
    "rest_rating = new_df.groupby('resto_type').agg({'ratings':'mean'})"
   ]
  },
  {
   "cell_type": "code",
   "execution_count": 88,
   "id": "f55bf2c9",
   "metadata": {
    "execution": {
     "iopub.execute_input": "2023-11-18T09:57:39.689613Z",
     "iopub.status.busy": "2023-11-18T09:57:39.689203Z",
     "iopub.status.idle": "2023-11-18T09:57:40.074252Z",
     "shell.execute_reply": "2023-11-18T09:57:40.073291Z"
    },
    "papermill": {
     "duration": 0.440316,
     "end_time": "2023-11-18T09:57:40.076586",
     "exception": false,
     "start_time": "2023-11-18T09:57:39.636270",
     "status": "completed"
    },
    "tags": []
   },
   "outputs": [
    {
     "data": {
      "text/plain": [
       "<Axes: ylabel='Density'>"
      ]
     },
     "execution_count": 88,
     "metadata": {},
     "output_type": "execute_result"
    },
    {
     "data": {
      "image/png": "[encoded data removed]",
      "text/plain": [
       "<Figure size 640x480 with 1 Axes>"
      ]
     },
     "metadata": {},
     "output_type": "display_data"
    }
   ],
   "source": [
    "sns.kdeplot(data=rest_rating)"
   ]
  },
  {
   "cell_type": "markdown",
   "id": "c6635877",
   "metadata": {
    "papermill": {
     "duration": 0.054609,
     "end_time": "2023-11-18T09:57:40.182965",
     "exception": false,
     "start_time": "2023-11-18T09:57:40.128356",
     "status": "completed"
    },
    "tags": []
   },
   "source": [
    "By observation you can say that the mean of ratings as more in between 3 to 4"
   ]
  },
  {
   "cell_type": "markdown",
   "id": "678fbd0b",
   "metadata": {
    "papermill": {
     "duration": 0.071524,
     "end_time": "2023-11-18T09:57:40.307793",
     "exception": false,
     "start_time": "2023-11-18T09:57:40.236269",
     "status": "completed"
    },
    "tags": []
   },
   "source": [
    "8. Types of Services"
   ]
  },
  {
   "cell_type": "code",
   "execution_count": 89,
   "id": "5e32f504",
   "metadata": {
    "execution": {
     "iopub.execute_input": "2023-11-18T09:57:40.417595Z",
     "iopub.status.busy": "2023-11-18T09:57:40.416826Z",
     "iopub.status.idle": "2023-11-18T09:57:40.436694Z",
     "shell.execute_reply": "2023-11-18T09:57:40.435750Z"
    },
    "papermill": {
     "duration": 0.077316,
     "end_time": "2023-11-18T09:57:40.439148",
     "exception": false,
     "start_time": "2023-11-18T09:57:40.361832",
     "status": "completed"
    },
    "tags": []
   },
   "outputs": [
    {
     "data": {
      "text/plain": [
       "resto_type\n",
       "Casual Dining     20322\n",
       "Quick Bites       19719\n",
       "Cafe               5903\n",
       "Delivery           5820\n",
       "Bar                2945\n",
       "Dessert Parlor     2895\n",
       "Takeaway           2642\n",
       "Bakery             1622\n",
       "Beverage Shop      1541\n",
       "Pub                1440\n",
       "Name: count, dtype: int64"
      ]
     },
     "execution_count": 89,
     "metadata": {},
     "output_type": "execute_result"
    }
   ],
   "source": [
    "services = new_df['resto_type'].value_counts().sort_values(ascending = False).head(10)\n",
    "services"
   ]
  },
  {
   "cell_type": "code",
   "execution_count": 90,
   "id": "a2e62982",
   "metadata": {
    "execution": {
     "iopub.execute_input": "2023-11-18T09:57:40.547134Z",
     "iopub.status.busy": "2023-11-18T09:57:40.546389Z",
     "iopub.status.idle": "2023-11-18T09:57:40.961520Z",
     "shell.execute_reply": "2023-11-18T09:57:40.960579Z"
    },
    "papermill": {
     "duration": 0.472739,
     "end_time": "2023-11-18T09:57:40.963964",
     "exception": false,
     "start_time": "2023-11-18T09:57:40.491225",
     "status": "completed"
    },
    "tags": []
   },
   "outputs": [
    {
     "data": {
      "image/png": "[encoded data removed]",
      "text/plain": [
       "<Figure size 900x900 with 1 Axes>"
      ]
     },
     "metadata": {},
     "output_type": "display_data"
    }
   ],
   "source": [
    "services.plot(kind='pie',figsize=(9,9), autopct='%.1f%%')\n",
    "plt.title('Type of Services')\n",
    "plt.tight_layout()"
   ]
  },
  {
   "cell_type": "markdown",
   "id": "9acd3ccb",
   "metadata": {
    "papermill": {
     "duration": 0.052967,
     "end_time": "2023-11-18T09:57:41.070264",
     "exception": false,
     "start_time": "2023-11-18T09:57:41.017297",
     "status": "completed"
    },
    "tags": []
   },
   "source": [
    "Here you can observed that Quick bites and Casual Dining are more oftenly provided by the Restaurants"
   ]
  },
  {
   "cell_type": "markdown",
   "id": "22f8ca0d",
   "metadata": {
    "papermill": {
     "duration": 0.053022,
     "end_time": "2023-11-18T09:57:41.176379",
     "exception": false,
     "start_time": "2023-11-18T09:57:41.123357",
     "status": "completed"
    },
    "tags": []
   },
   "source": [
    "10. Relation between Type and Rating"
   ]
  },
  {
   "cell_type": "code",
   "execution_count": 91,
   "id": "4cffe409",
   "metadata": {
    "execution": {
     "iopub.execute_input": "2023-11-18T09:57:41.286234Z",
     "iopub.status.busy": "2023-11-18T09:57:41.285781Z",
     "iopub.status.idle": "2023-11-18T09:57:41.301346Z",
     "shell.execute_reply": "2023-11-18T09:57:41.300316Z"
    },
    "papermill": {
     "duration": 0.07461,
     "end_time": "2023-11-18T09:57:41.304201",
     "exception": false,
     "start_time": "2023-11-18T09:57:41.229591",
     "status": "completed"
    },
    "tags": []
   },
   "outputs": [],
   "source": [
    "relation_type = new_df.groupby('resto_type').agg({'ratings':'mean'}).sort_values(by='ratings',ascending=False)"
   ]
  },
  {
   "cell_type": "code",
   "execution_count": 92,
   "id": "ae993993",
   "metadata": {
    "execution": {
     "iopub.execute_input": "2023-11-18T09:57:41.412767Z",
     "iopub.status.busy": "2023-11-18T09:57:41.412153Z",
     "iopub.status.idle": "2023-11-18T09:57:41.978960Z",
     "shell.execute_reply": "2023-11-18T09:57:41.977697Z"
    },
    "papermill": {
     "duration": 0.623932,
     "end_time": "2023-11-18T09:57:41.981721",
     "exception": false,
     "start_time": "2023-11-18T09:57:41.357789",
     "status": "completed"
    },
    "tags": []
   },
   "outputs": [
    {
     "data": {
      "text/plain": [
       "Text(0.5, 1.0, 'Relation between Restaurant type & Ratings')"
      ]
     },
     "execution_count": 92,
     "metadata": {},
     "output_type": "execute_result"
    },
    {
     "data": {
      "image/png": "[encoded data removed]",
      "text/plain": [
       "<Figure size 900x900 with 1 Axes>"
      ]
     },
     "metadata": {},
     "output_type": "display_data"
    }
   ],
   "source": [
    "plt.figure(figsize= (9,9))\n",
    "s = sns.barplot(data= relation_type, x='ratings',y = relation_type.index)\n",
    "s.set_xlabel('Ratings')\n",
    "s.set_title('Relation between Restaurant type & Ratings')"
   ]
  },
  {
   "cell_type": "markdown",
   "id": "ebdf3eaa",
   "metadata": {
    "papermill": {
     "duration": 0.053529,
     "end_time": "2023-11-18T09:57:42.089191",
     "exception": false,
     "start_time": "2023-11-18T09:57:42.035662",
     "status": "completed"
    },
    "tags": []
   },
   "source": [
    "Irani Cafe, Microbrewery, Club and Pub having more ratings"
   ]
  },
  {
   "cell_type": "markdown",
   "id": "6aacd413",
   "metadata": {
    "papermill": {
     "duration": 0.056117,
     "end_time": "2023-11-18T09:57:42.199383",
     "exception": false,
     "start_time": "2023-11-18T09:57:42.143266",
     "status": "completed"
    },
    "tags": []
   },
   "source": [
    "11. Cost of Restaurant"
   ]
  },
  {
   "cell_type": "code",
   "execution_count": 93,
   "id": "87e48ac4",
   "metadata": {
    "execution": {
     "iopub.execute_input": "2023-11-18T09:57:42.315986Z",
     "iopub.status.busy": "2023-11-18T09:57:42.315626Z",
     "iopub.status.idle": "2023-11-18T09:57:42.346873Z",
     "shell.execute_reply": "2023-11-18T09:57:42.345843Z"
    },
    "papermill": {
     "duration": 0.095646,
     "end_time": "2023-11-18T09:57:42.349804",
     "exception": false,
     "start_time": "2023-11-18T09:57:42.254158",
     "status": "completed"
    },
    "tags": []
   },
   "outputs": [],
   "source": [
    "approx_cost = new_df.groupby('Restro_name').agg({'approx_cost_for_two_people':'mean'}).sort_values(by= 'approx_cost_for_two_people',ascending = False).head(10)"
   ]
  },
  {
   "cell_type": "code",
   "execution_count": 94,
   "id": "50c5cc56",
   "metadata": {
    "execution": {
     "iopub.execute_input": "2023-11-18T09:57:42.461229Z",
     "iopub.status.busy": "2023-11-18T09:57:42.460815Z",
     "iopub.status.idle": "2023-11-18T09:57:42.996800Z",
     "shell.execute_reply": "2023-11-18T09:57:42.995808Z"
    },
    "papermill": {
     "duration": 0.594925,
     "end_time": "2023-11-18T09:57:42.999901",
     "exception": false,
     "start_time": "2023-11-18T09:57:42.404976",
     "status": "completed"
    },
    "tags": []
   },
   "outputs": [
    {
     "data": {
      "text/plain": [
       "Text(0.5, 1.0, 'Cost of Restaurant')"
      ]
     },
     "execution_count": 94,
     "metadata": {},
     "output_type": "execute_result"
    },
    {
     "data": {
      "image/png": "[encoded data removed]",
      "text/plain": [
       "<Figure size 700x400 with 1 Axes>"
      ]
     },
     "metadata": {},
     "output_type": "display_data"
    }
   ],
   "source": [
    "plt.figure(figsize= (7,4))\n",
    "s = sns.barplot(data = approx_cost,y= approx_cost.index, x ='approx_cost_for_two_people')\n",
    "s.set_xlabel('approx cost for two people')\n",
    "s.set_title('Cost of Restaurant')"
   ]
  },
  {
   "cell_type": "markdown",
   "id": "19d71061",
   "metadata": {
    "papermill": {
     "duration": 0.057155,
     "end_time": "2023-11-18T09:57:43.112842",
     "exception": false,
     "start_time": "2023-11-18T09:57:43.055687",
     "status": "completed"
    },
    "tags": []
   },
   "source": [
    "Some Restaurants in the city are more expensive for two person here, Le Cirque Signature - The Leela Palace takes approx Rs. 3000/person"
   ]
  },
  {
   "cell_type": "markdown",
   "id": "931966bb",
   "metadata": {
    "papermill": {
     "duration": 0.055326,
     "end_time": "2023-11-18T09:57:43.223905",
     "exception": false,
     "start_time": "2023-11-18T09:57:43.168579",
     "status": "completed"
    },
    "tags": []
   },
   "source": [
    "11. No. of restaurants in a Location"
   ]
  },
  {
   "cell_type": "code",
   "execution_count": 95,
   "id": "1ff1213e",
   "metadata": {
    "execution": {
     "iopub.execute_input": "2023-11-18T09:57:43.338513Z",
     "iopub.status.busy": "2023-11-18T09:57:43.337410Z",
     "iopub.status.idle": "2023-11-18T09:57:43.359867Z",
     "shell.execute_reply": "2023-11-18T09:57:43.358532Z"
    },
    "papermill": {
     "duration": 0.083199,
     "end_time": "2023-11-18T09:57:43.363150",
     "exception": false,
     "start_time": "2023-11-18T09:57:43.279951",
     "status": "completed"
    },
    "tags": []
   },
   "outputs": [],
   "source": [
    "rest_city = new_df.groupby('city').agg({'Restro_name':'count'}).sort_values(by='Restro_name',ascending = False).head(10)"
   ]
  },
  {
   "cell_type": "code",
   "execution_count": 96,
   "id": "b38dea1f",
   "metadata": {
    "execution": {
     "iopub.execute_input": "2023-11-18T09:57:43.478435Z",
     "iopub.status.busy": "2023-11-18T09:57:43.477748Z",
     "iopub.status.idle": "2023-11-18T09:57:43.853918Z",
     "shell.execute_reply": "2023-11-18T09:57:43.852558Z"
    },
    "papermill": {
     "duration": 0.436579,
     "end_time": "2023-11-18T09:57:43.856731",
     "exception": false,
     "start_time": "2023-11-18T09:57:43.420152",
     "status": "completed"
    },
    "tags": []
   },
   "outputs": [
    {
     "data": {
      "text/plain": [
       "Text(0.5, 1.0, 'Number of restaurants in a Location')"
      ]
     },
     "execution_count": 96,
     "metadata": {},
     "output_type": "execute_result"
    },
    {
     "data": {
      "image/png": "[encoded data removed]",
      "text/plain": [
       "<Figure size 600x500 with 1 Axes>"
      ]
     },
     "metadata": {},
     "output_type": "display_data"
    }
   ],
   "source": [
    "plt.figure(figsize= (6,5))\n",
    "s = sns.barplot(data=rest_city,x='Restro_name', y=rest_city.index)\n",
    "s.set_xlabel('number of Restaurant')\n",
    "s.set_ylabel('city')\n",
    "s.set_title('Number of restaurants in a Location')"
   ]
  },
  {
   "cell_type": "markdown",
   "id": "db7be659",
   "metadata": {
    "papermill": {
     "duration": 0.056509,
     "end_time": "2023-11-18T09:57:43.970815",
     "exception": false,
     "start_time": "2023-11-18T09:57:43.914306",
     "status": "completed"
    },
    "tags": []
   },
   "source": [
    "BTM having more Restaurants where as Bannerghatta Road having less Restaurants"
   ]
  },
  {
   "cell_type": "markdown",
   "id": "e0476c3a",
   "metadata": {
    "papermill": {
     "duration": 0.05607,
     "end_time": "2023-11-18T09:57:44.083414",
     "exception": false,
     "start_time": "2023-11-18T09:57:44.027344",
     "status": "completed"
    },
    "tags": []
   },
   "source": [
    "12. Most famous restaurant chains in Bengaluru"
   ]
  },
  {
   "cell_type": "code",
   "execution_count": 97,
   "id": "ba67fd36",
   "metadata": {
    "execution": {
     "iopub.execute_input": "2023-11-18T09:57:44.197957Z",
     "iopub.status.busy": "2023-11-18T09:57:44.197552Z",
     "iopub.status.idle": "2023-11-18T09:57:44.236149Z",
     "shell.execute_reply": "2023-11-18T09:57:44.235274Z"
    },
    "papermill": {
     "duration": 0.099265,
     "end_time": "2023-11-18T09:57:44.238788",
     "exception": false,
     "start_time": "2023-11-18T09:57:44.139523",
     "status": "completed"
    },
    "tags": []
   },
   "outputs": [],
   "source": [
    "rest_vote = new_df.groupby('Restro_name').agg({'ratings':'sum','votes':'sum'})\n",
    "vote = rest_vote.sort_values(by='votes', ascending=False).head(10)\n",
    "rate = rest_vote.sort_values(by='ratings', ascending=False).head(10)"
   ]
  },
  {
   "cell_type": "code",
   "execution_count": 98,
   "id": "6d4ff51c",
   "metadata": {
    "execution": {
     "iopub.execute_input": "2023-11-18T09:57:44.353958Z",
     "iopub.status.busy": "2023-11-18T09:57:44.353185Z",
     "iopub.status.idle": "2023-11-18T09:57:45.094109Z",
     "shell.execute_reply": "2023-11-18T09:57:45.092767Z"
    },
    "papermill": {
     "duration": 0.802225,
     "end_time": "2023-11-18T09:57:45.096856",
     "exception": false,
     "start_time": "2023-11-18T09:57:44.294631",
     "status": "completed"
    },
    "tags": []
   },
   "outputs": [
    {
     "data": {
      "image/png": "[encoded data removed]",
      "text/plain": [
       "<Figure size 1500x500 with 2 Axes>"
      ]
     },
     "metadata": {},
     "output_type": "display_data"
    }
   ],
   "source": [
    "fig,axes = plt.subplots(nrows=1, ncols=2, figsize=(15,5)) \n",
    "s = sns.barplot(data=rate,x= 'ratings', y=rate.index,ax=axes[0])\n",
    "s.set_xlabel('Total Ratings')\n",
    "s.set_ylabel('Restro_name')\n",
    "\n",
    "s = sns.barplot(data=vote,x='votes', y=vote.index, ax=axes[1])\n",
    "s.set_xlabel('Total Votes')\n",
    "s.set_ylabel('Restro_name')\n",
    "plt.suptitle('Most famous restaurant chains in Bengaluru')\n",
    "\n",
    "plt.tight_layout()"
   ]
  },
  {
   "cell_type": "markdown",
   "id": "4c4bbb97",
   "metadata": {
    "papermill": {
     "duration": 0.058753,
     "end_time": "2023-11-18T09:57:45.213236",
     "exception": false,
     "start_time": "2023-11-18T09:57:45.154483",
     "status": "completed"
    },
    "tags": []
   },
   "source": [
    "The most Famous Restaurant Chain in the city are Empire Restaurant with highest votes and Truffles with highest ratings. But Onesta is on top with ratings as well as by votes"
   ]
  },
  {
   "cell_type": "code",
   "execution_count": 99,
   "id": "133a72c6",
   "metadata": {
    "execution": {
     "iopub.execute_input": "2023-11-18T09:57:45.329814Z",
     "iopub.status.busy": "2023-11-18T09:57:45.329422Z",
     "iopub.status.idle": "2023-11-18T09:57:45.350590Z",
     "shell.execute_reply": "2023-11-18T09:57:45.349286Z"
    },
    "papermill": {
     "duration": 0.082558,
     "end_time": "2023-11-18T09:57:45.352829",
     "exception": false,
     "start_time": "2023-11-18T09:57:45.270271",
     "status": "completed"
    },
    "tags": []
   },
   "outputs": [
    {
     "data": {
      "text/html": [
       "<div>\n",
       "<style scoped>\n",
       "    .dataframe tbody tr th:only-of-type {\n",
       "        vertical-align: middle;\n",
       "    }\n",
       "\n",
       "    .dataframe tbody tr th {\n",
       "        vertical-align: top;\n",
       "    }\n",
       "\n",
       "    .dataframe thead th {\n",
       "        text-align: right;\n",
       "    }\n",
       "</style>\n",
       "<table border=\"1\" class=\"dataframe\">\n",
       "  <thead>\n",
       "    <tr style=\"text-align: right;\">\n",
       "      <th></th>\n",
       "      <th>Restro_full_address</th>\n",
       "      <th>Restro_name</th>\n",
       "      <th>online_order</th>\n",
       "      <th>book_table</th>\n",
       "      <th>ratings</th>\n",
       "      <th>votes</th>\n",
       "      <th>phone</th>\n",
       "      <th>city</th>\n",
       "      <th>resto_type</th>\n",
       "      <th>cuisines</th>\n",
       "      <th>approx_cost_for_two_people</th>\n",
       "    </tr>\n",
       "  </thead>\n",
       "  <tbody>\n",
       "    <tr>\n",
       "      <th>0</th>\n",
       "      <td>942, 21st Main Road, 2nd Stage, Banashankari, ...</td>\n",
       "      <td>Jalsa</td>\n",
       "      <td>Yes</td>\n",
       "      <td>Yes</td>\n",
       "      <td>4.1</td>\n",
       "      <td>775</td>\n",
       "      <td>[080 42297555, +91 9743772233]</td>\n",
       "      <td>Banashankari</td>\n",
       "      <td>Casual Dining</td>\n",
       "      <td>North Indian</td>\n",
       "      <td>800.0</td>\n",
       "    </tr>\n",
       "    <tr>\n",
       "      <th>0</th>\n",
       "      <td>942, 21st Main Road, 2nd Stage, Banashankari, ...</td>\n",
       "      <td>Jalsa</td>\n",
       "      <td>Yes</td>\n",
       "      <td>Yes</td>\n",
       "      <td>4.1</td>\n",
       "      <td>775</td>\n",
       "      <td>[080 42297555, +91 9743772233]</td>\n",
       "      <td>Banashankari</td>\n",
       "      <td>Casual Dining</td>\n",
       "      <td>Mughlai</td>\n",
       "      <td>800.0</td>\n",
       "    </tr>\n",
       "    <tr>\n",
       "      <th>0</th>\n",
       "      <td>942, 21st Main Road, 2nd Stage, Banashankari, ...</td>\n",
       "      <td>Jalsa</td>\n",
       "      <td>Yes</td>\n",
       "      <td>Yes</td>\n",
       "      <td>4.1</td>\n",
       "      <td>775</td>\n",
       "      <td>[080 42297555, +91 9743772233]</td>\n",
       "      <td>Banashankari</td>\n",
       "      <td>Casual Dining</td>\n",
       "      <td>Chinese</td>\n",
       "      <td>800.0</td>\n",
       "    </tr>\n",
       "    <tr>\n",
       "      <th>1</th>\n",
       "      <td>2nd Floor, 80 Feet Road, Near Big Bazaar, 6th ...</td>\n",
       "      <td>Spice Elephant</td>\n",
       "      <td>Yes</td>\n",
       "      <td>No</td>\n",
       "      <td>4.1</td>\n",
       "      <td>787</td>\n",
       "      <td>[080 41714161]</td>\n",
       "      <td>Banashankari</td>\n",
       "      <td>Casual Dining</td>\n",
       "      <td>Chinese</td>\n",
       "      <td>800.0</td>\n",
       "    </tr>\n",
       "    <tr>\n",
       "      <th>1</th>\n",
       "      <td>2nd Floor, 80 Feet Road, Near Big Bazaar, 6th ...</td>\n",
       "      <td>Spice Elephant</td>\n",
       "      <td>Yes</td>\n",
       "      <td>No</td>\n",
       "      <td>4.1</td>\n",
       "      <td>787</td>\n",
       "      <td>[080 41714161]</td>\n",
       "      <td>Banashankari</td>\n",
       "      <td>Casual Dining</td>\n",
       "      <td>North Indian</td>\n",
       "      <td>800.0</td>\n",
       "    </tr>\n",
       "  </tbody>\n",
       "</table>\n",
       "</div>"
      ],
      "text/plain": [
       "                                 Restro_full_address     Restro_name  \\\n",
       "0  942, 21st Main Road, 2nd Stage, Banashankari, ...           Jalsa   \n",
       "0  942, 21st Main Road, 2nd Stage, Banashankari, ...           Jalsa   \n",
       "0  942, 21st Main Road, 2nd Stage, Banashankari, ...           Jalsa   \n",
       "1  2nd Floor, 80 Feet Road, Near Big Bazaar, 6th ...  Spice Elephant   \n",
       "1  2nd Floor, 80 Feet Road, Near Big Bazaar, 6th ...  Spice Elephant   \n",
       "\n",
       "  online_order book_table  ratings  votes                           phone  \\\n",
       "0          Yes        Yes      4.1    775  [080 42297555, +91 9743772233]   \n",
       "0          Yes        Yes      4.1    775  [080 42297555, +91 9743772233]   \n",
       "0          Yes        Yes      4.1    775  [080 42297555, +91 9743772233]   \n",
       "1          Yes         No      4.1    787                  [080 41714161]   \n",
       "1          Yes         No      4.1    787                  [080 41714161]   \n",
       "\n",
       "           city     resto_type      cuisines  approx_cost_for_two_people  \n",
       "0  Banashankari  Casual Dining  North Indian                       800.0  \n",
       "0  Banashankari  Casual Dining       Mughlai                       800.0  \n",
       "0  Banashankari  Casual Dining       Chinese                       800.0  \n",
       "1  Banashankari  Casual Dining       Chinese                       800.0  \n",
       "1  Banashankari  Casual Dining  North Indian                       800.0  "
      ]
     },
     "execution_count": 99,
     "metadata": {},
     "output_type": "execute_result"
    }
   ],
   "source": [
    "new_df.head()"
   ]
  },
  {
   "cell_type": "markdown",
   "id": "2d298ed9",
   "metadata": {
    "papermill": {
     "duration": 0.057926,
     "end_time": "2023-11-18T09:57:45.468733",
     "exception": false,
     "start_time": "2023-11-18T09:57:45.410807",
     "status": "completed"
    },
    "tags": []
   },
   "source": [
    "# Thank You...!"
   ]
  }
 ],
 "metadata": {
  "kaggle": {
   "accelerator": "none",
   "dataSources": [
    {
     "datasetId": 2451373,
     "sourceId": 4151358,
     "sourceType": "datasetVersion"
    }
   ],
   "dockerImageVersionId": 30587,
   "isGpuEnabled": false,
   "isInternetEnabled": false,
   "language": "python",
   "sourceType": "notebook"
  },
  "kernelspec": {
   "display_name": "Python 3",
   "language": "python",
   "name": "python3"
  },
  "language_info": {
   "codemirror_mode": {
    "name": "ipython",
    "version": 3
   },
   "file_extension": ".py",
   "mimetype": "text/x-python",
   "name": "python",
   "nbconvert_exporter": "python",
   "pygments_lexer": "ipython3",
   "version": "3.10.12"
  },
  "papermill": {
   "default_parameters": {},
   "duration": 445.970893,
   "end_time": "2023-11-18T09:57:46.350674",
   "environment_variables": {},
   "exception": null,
   "input_path": "__notebook__.ipynb",
   "output_path": "__notebook__.ipynb",
   "parameters": {},
   "start_time": "2023-11-18T09:50:20.379781",
   "version": "2.4.0"
  }
 },
 "nbformat": 4,
 "nbformat_minor": 5
}
